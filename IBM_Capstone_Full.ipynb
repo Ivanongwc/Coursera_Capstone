{
 "cells": [
  {
   "cell_type": "markdown",
   "metadata": {},
   "source": [
    "# Customer Propensity to Purchase"
   ]
  },
  {
   "cell_type": "markdown",
   "metadata": {},
   "source": [
    "## Introduction: Business Problem\n"
   ]
  },
  {
   "cell_type": "markdown",
   "metadata": {},
   "source": [
    "With the recent Coronavirus keeping people at home more often now, online traffic to eCommerce has been on the rise. Even with the surge in visitors, we know only a small percentage of them are likely to purchase a product, while most will perhaps not even return.\n",
    "Instead of spending money to re-market to everyone, we could use machine learning to identify the most valuable prospects for targeting the most likely customers."
   ]
  },
  {
   "cell_type": "markdown",
   "metadata": {},
   "source": [
    "## Data"
   ]
  },
  {
   "cell_type": "code",
   "execution_count": 25,
   "metadata": {},
   "outputs": [],
   "source": [
    "# importing libraries\n",
    "import pandas as pd\n",
    "import numpy as np\n",
    "import seaborn as sns\n",
    "import matplotlib.pyplot as plt\n",
    "\n",
    "data = pd.read_csv('training_sample.csv')\n",
    "test = pd.read_csv('testing_sample.csv')"
   ]
  },
  {
   "cell_type": "code",
   "execution_count": 27,
   "metadata": {},
   "outputs": [
    {
     "name": "stdout",
     "output_type": "stream",
     "text": [
      "(455401, 24)\n",
      "(151655, 25)\n"
     ]
    }
   ],
   "source": [
    "# Dimensions of train and test data\n",
    "print(train.shape)\n",
    "print(test.shape)"
   ]
  },
  {
   "cell_type": "code",
   "execution_count": 12,
   "metadata": {},
   "outputs": [
    {
     "data": {
      "text/html": [
       "<div>\n",
       "<style scoped>\n",
       "    .dataframe tbody tr th:only-of-type {\n",
       "        vertical-align: middle;\n",
       "    }\n",
       "\n",
       "    .dataframe tbody tr th {\n",
       "        vertical-align: top;\n",
       "    }\n",
       "\n",
       "    .dataframe thead th {\n",
       "        text-align: right;\n",
       "    }\n",
       "</style>\n",
       "<table border=\"1\" class=\"dataframe\">\n",
       "  <thead>\n",
       "    <tr style=\"text-align: right;\">\n",
       "      <th></th>\n",
       "      <th>basket_icon_click</th>\n",
       "      <th>basket_add_list</th>\n",
       "      <th>basket_add_detail</th>\n",
       "      <th>sort_by</th>\n",
       "      <th>image_picker</th>\n",
       "      <th>account_page_click</th>\n",
       "      <th>promo_banner_click</th>\n",
       "      <th>detail_wishlist_add</th>\n",
       "      <th>list_size_dropdown</th>\n",
       "      <th>closed_minibasket_click</th>\n",
       "      <th>...</th>\n",
       "      <th>saw_sizecharts</th>\n",
       "      <th>saw_delivery</th>\n",
       "      <th>saw_account_upgrade</th>\n",
       "      <th>saw_homepage</th>\n",
       "      <th>device_mobile</th>\n",
       "      <th>device_computer</th>\n",
       "      <th>device_tablet</th>\n",
       "      <th>returning_user</th>\n",
       "      <th>loc_uk</th>\n",
       "      <th>ordered</th>\n",
       "    </tr>\n",
       "  </thead>\n",
       "  <tbody>\n",
       "    <tr>\n",
       "      <th>0</th>\n",
       "      <td>0</td>\n",
       "      <td>0</td>\n",
       "      <td>0</td>\n",
       "      <td>0</td>\n",
       "      <td>0</td>\n",
       "      <td>0</td>\n",
       "      <td>0</td>\n",
       "      <td>0</td>\n",
       "      <td>0</td>\n",
       "      <td>0</td>\n",
       "      <td>...</td>\n",
       "      <td>0</td>\n",
       "      <td>0</td>\n",
       "      <td>0</td>\n",
       "      <td>0</td>\n",
       "      <td>1</td>\n",
       "      <td>0</td>\n",
       "      <td>0</td>\n",
       "      <td>0</td>\n",
       "      <td>1</td>\n",
       "      <td>0</td>\n",
       "    </tr>\n",
       "    <tr>\n",
       "      <th>1</th>\n",
       "      <td>0</td>\n",
       "      <td>0</td>\n",
       "      <td>0</td>\n",
       "      <td>0</td>\n",
       "      <td>0</td>\n",
       "      <td>0</td>\n",
       "      <td>0</td>\n",
       "      <td>0</td>\n",
       "      <td>0</td>\n",
       "      <td>0</td>\n",
       "      <td>...</td>\n",
       "      <td>0</td>\n",
       "      <td>0</td>\n",
       "      <td>0</td>\n",
       "      <td>0</td>\n",
       "      <td>1</td>\n",
       "      <td>0</td>\n",
       "      <td>0</td>\n",
       "      <td>0</td>\n",
       "      <td>1</td>\n",
       "      <td>0</td>\n",
       "    </tr>\n",
       "    <tr>\n",
       "      <th>2</th>\n",
       "      <td>0</td>\n",
       "      <td>0</td>\n",
       "      <td>0</td>\n",
       "      <td>0</td>\n",
       "      <td>0</td>\n",
       "      <td>0</td>\n",
       "      <td>0</td>\n",
       "      <td>0</td>\n",
       "      <td>0</td>\n",
       "      <td>0</td>\n",
       "      <td>...</td>\n",
       "      <td>0</td>\n",
       "      <td>0</td>\n",
       "      <td>0</td>\n",
       "      <td>0</td>\n",
       "      <td>1</td>\n",
       "      <td>0</td>\n",
       "      <td>0</td>\n",
       "      <td>1</td>\n",
       "      <td>1</td>\n",
       "      <td>0</td>\n",
       "    </tr>\n",
       "    <tr>\n",
       "      <th>3</th>\n",
       "      <td>0</td>\n",
       "      <td>0</td>\n",
       "      <td>0</td>\n",
       "      <td>0</td>\n",
       "      <td>0</td>\n",
       "      <td>0</td>\n",
       "      <td>0</td>\n",
       "      <td>0</td>\n",
       "      <td>0</td>\n",
       "      <td>0</td>\n",
       "      <td>...</td>\n",
       "      <td>0</td>\n",
       "      <td>0</td>\n",
       "      <td>0</td>\n",
       "      <td>0</td>\n",
       "      <td>1</td>\n",
       "      <td>0</td>\n",
       "      <td>0</td>\n",
       "      <td>1</td>\n",
       "      <td>1</td>\n",
       "      <td>0</td>\n",
       "    </tr>\n",
       "    <tr>\n",
       "      <th>4</th>\n",
       "      <td>0</td>\n",
       "      <td>1</td>\n",
       "      <td>0</td>\n",
       "      <td>1</td>\n",
       "      <td>0</td>\n",
       "      <td>0</td>\n",
       "      <td>0</td>\n",
       "      <td>0</td>\n",
       "      <td>1</td>\n",
       "      <td>0</td>\n",
       "      <td>...</td>\n",
       "      <td>0</td>\n",
       "      <td>0</td>\n",
       "      <td>0</td>\n",
       "      <td>1</td>\n",
       "      <td>0</td>\n",
       "      <td>0</td>\n",
       "      <td>1</td>\n",
       "      <td>0</td>\n",
       "      <td>1</td>\n",
       "      <td>1</td>\n",
       "    </tr>\n",
       "  </tbody>\n",
       "</table>\n",
       "<p>5 rows × 24 columns</p>\n",
       "</div>"
      ],
      "text/plain": [
       "   basket_icon_click  basket_add_list  basket_add_detail  sort_by  \\\n",
       "0                  0                0                  0        0   \n",
       "1                  0                0                  0        0   \n",
       "2                  0                0                  0        0   \n",
       "3                  0                0                  0        0   \n",
       "4                  0                1                  0        1   \n",
       "\n",
       "   image_picker  account_page_click  promo_banner_click  detail_wishlist_add  \\\n",
       "0             0                   0                   0                    0   \n",
       "1             0                   0                   0                    0   \n",
       "2             0                   0                   0                    0   \n",
       "3             0                   0                   0                    0   \n",
       "4             0                   0                   0                    0   \n",
       "\n",
       "   list_size_dropdown  closed_minibasket_click  ...  saw_sizecharts  \\\n",
       "0                   0                        0  ...               0   \n",
       "1                   0                        0  ...               0   \n",
       "2                   0                        0  ...               0   \n",
       "3                   0                        0  ...               0   \n",
       "4                   1                        0  ...               0   \n",
       "\n",
       "   saw_delivery  saw_account_upgrade  saw_homepage  device_mobile  \\\n",
       "0             0                    0             0              1   \n",
       "1             0                    0             0              1   \n",
       "2             0                    0             0              1   \n",
       "3             0                    0             0              1   \n",
       "4             0                    0             1              0   \n",
       "\n",
       "   device_computer  device_tablet  returning_user  loc_uk  ordered  \n",
       "0                0              0               0       1        0  \n",
       "1                0              0               0       1        0  \n",
       "2                0              0               1       1        0  \n",
       "3                0              0               1       1        0  \n",
       "4                0              1               0       1        1  \n",
       "\n",
       "[5 rows x 24 columns]"
      ]
     },
     "execution_count": 12,
     "metadata": {},
     "output_type": "execute_result"
    }
   ],
   "source": [
    "# Having a look at the first 5 rows\n",
    "train.head()"
   ]
  },
  {
   "cell_type": "code",
   "execution_count": 13,
   "metadata": {},
   "outputs": [
    {
     "data": {
      "text/plain": [
       "basket_icon_click          int64\n",
       "basket_add_list            int64\n",
       "basket_add_detail          int64\n",
       "sort_by                    int64\n",
       "image_picker               int64\n",
       "account_page_click         int64\n",
       "promo_banner_click         int64\n",
       "detail_wishlist_add        int64\n",
       "list_size_dropdown         int64\n",
       "closed_minibasket_click    int64\n",
       "checked_delivery_detail    int64\n",
       "checked_returns_detail     int64\n",
       "sign_in                    int64\n",
       "saw_checkout               int64\n",
       "saw_sizecharts             int64\n",
       "saw_delivery               int64\n",
       "saw_account_upgrade        int64\n",
       "saw_homepage               int64\n",
       "device_mobile              int64\n",
       "device_computer            int64\n",
       "device_tablet              int64\n",
       "returning_user             int64\n",
       "loc_uk                     int64\n",
       "ordered                    int64\n",
       "dtype: object"
      ]
     },
     "execution_count": 13,
     "metadata": {},
     "output_type": "execute_result"
    }
   ],
   "source": [
    "train.dtypes"
   ]
  },
  {
   "cell_type": "markdown",
   "metadata": {},
   "source": [
    "#### Data dictionary of columns\n",
    "\n",
    "1. basket_icon_click: Did the visitor click on the shopping basket icon? (Binary)\n",
    "2. basket_add_list: Did the visitor add a product to their shopping cart on the 'list' page? (Binary)\n",
    "3. basket_add_detail: Did the visitor add a product to their shopping cart on the 'detail' page? (Binary)\n",
    "4. sort_by: Did the visitor sort products on a page? (Binary)\n",
    "5. image_picker: Did the visitor use the image picker? (Binary)\n",
    "6. account_page_click: Did the visitor visit their account page? (Binary)\n",
    "7. promo_banner_click: Did the visitor interact with a product drop down?\n",
    "8. detail_wishlist_add: Did the visitor close their mini shopping basket? (Binary)\n",
    "9. list_size_dropdown: Did the visitor interact with a product dropdown? (Binary)\n",
    "10. closed_minibasket_click: Did the visitor close their mini shopping basket? (Binary)\n",
    "11. saw_sizecharts: Did the visitor view a product size cart? (Binary)\n",
    "12. saw_delivery: Did the visitor view the delivery FAQ page? (Binary)\n",
    "13. saw_account_upgrade: Did the visitor view the account upgrade page? (Binary)\n",
    "14. saw_homepage: Did the visitor view the website homepage? (Binary)\n",
    "15. device_mobile: Was the visitor on a mobile device? (Binary)\n",
    "16. device_computer: Was the visitor on a desktop device? (Binary)\n",
    "17. device_tablet: Was the visitor on a table device? (Binary)\n",
    "18. returning_user: Was the visitor new or returning? (Binary)\n",
    "19. loc_uk: Was the visitor located in the UK, based on their IP address? (Binary)\n",
    "20. ordered: Did the customer place an order? (Target variable, 0 or 1)\n",
    "\n",
    "##### This is an interesting dataset because all of the indepdent variables are of binary type."
   ]
  },
  {
   "cell_type": "code",
   "execution_count": 14,
   "metadata": {},
   "outputs": [
    {
     "data": {
      "text/html": [
       "<div>\n",
       "<style scoped>\n",
       "    .dataframe tbody tr th:only-of-type {\n",
       "        vertical-align: middle;\n",
       "    }\n",
       "\n",
       "    .dataframe tbody tr th {\n",
       "        vertical-align: top;\n",
       "    }\n",
       "\n",
       "    .dataframe thead th {\n",
       "        text-align: right;\n",
       "    }\n",
       "</style>\n",
       "<table border=\"1\" class=\"dataframe\">\n",
       "  <thead>\n",
       "    <tr style=\"text-align: right;\">\n",
       "      <th></th>\n",
       "      <th>basket_icon_click</th>\n",
       "      <th>basket_add_list</th>\n",
       "      <th>basket_add_detail</th>\n",
       "      <th>sort_by</th>\n",
       "      <th>image_picker</th>\n",
       "      <th>account_page_click</th>\n",
       "      <th>promo_banner_click</th>\n",
       "      <th>detail_wishlist_add</th>\n",
       "      <th>list_size_dropdown</th>\n",
       "      <th>closed_minibasket_click</th>\n",
       "      <th>...</th>\n",
       "      <th>saw_sizecharts</th>\n",
       "      <th>saw_delivery</th>\n",
       "      <th>saw_account_upgrade</th>\n",
       "      <th>saw_homepage</th>\n",
       "      <th>device_mobile</th>\n",
       "      <th>device_computer</th>\n",
       "      <th>device_tablet</th>\n",
       "      <th>returning_user</th>\n",
       "      <th>loc_uk</th>\n",
       "      <th>ordered</th>\n",
       "    </tr>\n",
       "  </thead>\n",
       "  <tbody>\n",
       "    <tr>\n",
       "      <th>count</th>\n",
       "      <td>455401.000000</td>\n",
       "      <td>455401.000000</td>\n",
       "      <td>455401.000000</td>\n",
       "      <td>455401.000000</td>\n",
       "      <td>455401.000000</td>\n",
       "      <td>455401.000000</td>\n",
       "      <td>455401.000000</td>\n",
       "      <td>455401.000000</td>\n",
       "      <td>455401.000000</td>\n",
       "      <td>455401.000000</td>\n",
       "      <td>...</td>\n",
       "      <td>455401.000000</td>\n",
       "      <td>455401.000000</td>\n",
       "      <td>455401.000000</td>\n",
       "      <td>455401.000000</td>\n",
       "      <td>455401.000000</td>\n",
       "      <td>455401.000000</td>\n",
       "      <td>455401.000000</td>\n",
       "      <td>455401.000000</td>\n",
       "      <td>455401.000000</td>\n",
       "      <td>455401.000000</td>\n",
       "    </tr>\n",
       "    <tr>\n",
       "      <th>mean</th>\n",
       "      <td>0.099150</td>\n",
       "      <td>0.074521</td>\n",
       "      <td>0.112916</td>\n",
       "      <td>0.036849</td>\n",
       "      <td>0.026735</td>\n",
       "      <td>0.003570</td>\n",
       "      <td>0.016208</td>\n",
       "      <td>0.003511</td>\n",
       "      <td>0.230362</td>\n",
       "      <td>0.017277</td>\n",
       "      <td>...</td>\n",
       "      <td>0.000389</td>\n",
       "      <td>0.005542</td>\n",
       "      <td>0.001096</td>\n",
       "      <td>0.290024</td>\n",
       "      <td>0.680706</td>\n",
       "      <td>0.194220</td>\n",
       "      <td>0.128364</td>\n",
       "      <td>0.534915</td>\n",
       "      <td>0.933224</td>\n",
       "      <td>0.041926</td>\n",
       "    </tr>\n",
       "    <tr>\n",
       "      <th>std</th>\n",
       "      <td>0.298864</td>\n",
       "      <td>0.262617</td>\n",
       "      <td>0.316490</td>\n",
       "      <td>0.188391</td>\n",
       "      <td>0.161307</td>\n",
       "      <td>0.059647</td>\n",
       "      <td>0.126274</td>\n",
       "      <td>0.059151</td>\n",
       "      <td>0.421065</td>\n",
       "      <td>0.130302</td>\n",
       "      <td>...</td>\n",
       "      <td>0.019711</td>\n",
       "      <td>0.074241</td>\n",
       "      <td>0.033084</td>\n",
       "      <td>0.453773</td>\n",
       "      <td>0.466204</td>\n",
       "      <td>0.395599</td>\n",
       "      <td>0.334495</td>\n",
       "      <td>0.498780</td>\n",
       "      <td>0.249634</td>\n",
       "      <td>0.200420</td>\n",
       "    </tr>\n",
       "    <tr>\n",
       "      <th>min</th>\n",
       "      <td>0.000000</td>\n",
       "      <td>0.000000</td>\n",
       "      <td>0.000000</td>\n",
       "      <td>0.000000</td>\n",
       "      <td>0.000000</td>\n",
       "      <td>0.000000</td>\n",
       "      <td>0.000000</td>\n",
       "      <td>0.000000</td>\n",
       "      <td>0.000000</td>\n",
       "      <td>0.000000</td>\n",
       "      <td>...</td>\n",
       "      <td>0.000000</td>\n",
       "      <td>0.000000</td>\n",
       "      <td>0.000000</td>\n",
       "      <td>0.000000</td>\n",
       "      <td>0.000000</td>\n",
       "      <td>0.000000</td>\n",
       "      <td>0.000000</td>\n",
       "      <td>0.000000</td>\n",
       "      <td>0.000000</td>\n",
       "      <td>0.000000</td>\n",
       "    </tr>\n",
       "    <tr>\n",
       "      <th>25%</th>\n",
       "      <td>0.000000</td>\n",
       "      <td>0.000000</td>\n",
       "      <td>0.000000</td>\n",
       "      <td>0.000000</td>\n",
       "      <td>0.000000</td>\n",
       "      <td>0.000000</td>\n",
       "      <td>0.000000</td>\n",
       "      <td>0.000000</td>\n",
       "      <td>0.000000</td>\n",
       "      <td>0.000000</td>\n",
       "      <td>...</td>\n",
       "      <td>0.000000</td>\n",
       "      <td>0.000000</td>\n",
       "      <td>0.000000</td>\n",
       "      <td>0.000000</td>\n",
       "      <td>0.000000</td>\n",
       "      <td>0.000000</td>\n",
       "      <td>0.000000</td>\n",
       "      <td>0.000000</td>\n",
       "      <td>1.000000</td>\n",
       "      <td>0.000000</td>\n",
       "    </tr>\n",
       "    <tr>\n",
       "      <th>50%</th>\n",
       "      <td>0.000000</td>\n",
       "      <td>0.000000</td>\n",
       "      <td>0.000000</td>\n",
       "      <td>0.000000</td>\n",
       "      <td>0.000000</td>\n",
       "      <td>0.000000</td>\n",
       "      <td>0.000000</td>\n",
       "      <td>0.000000</td>\n",
       "      <td>0.000000</td>\n",
       "      <td>0.000000</td>\n",
       "      <td>...</td>\n",
       "      <td>0.000000</td>\n",
       "      <td>0.000000</td>\n",
       "      <td>0.000000</td>\n",
       "      <td>0.000000</td>\n",
       "      <td>1.000000</td>\n",
       "      <td>0.000000</td>\n",
       "      <td>0.000000</td>\n",
       "      <td>1.000000</td>\n",
       "      <td>1.000000</td>\n",
       "      <td>0.000000</td>\n",
       "    </tr>\n",
       "    <tr>\n",
       "      <th>75%</th>\n",
       "      <td>0.000000</td>\n",
       "      <td>0.000000</td>\n",
       "      <td>0.000000</td>\n",
       "      <td>0.000000</td>\n",
       "      <td>0.000000</td>\n",
       "      <td>0.000000</td>\n",
       "      <td>0.000000</td>\n",
       "      <td>0.000000</td>\n",
       "      <td>0.000000</td>\n",
       "      <td>0.000000</td>\n",
       "      <td>...</td>\n",
       "      <td>0.000000</td>\n",
       "      <td>0.000000</td>\n",
       "      <td>0.000000</td>\n",
       "      <td>1.000000</td>\n",
       "      <td>1.000000</td>\n",
       "      <td>0.000000</td>\n",
       "      <td>0.000000</td>\n",
       "      <td>1.000000</td>\n",
       "      <td>1.000000</td>\n",
       "      <td>0.000000</td>\n",
       "    </tr>\n",
       "    <tr>\n",
       "      <th>max</th>\n",
       "      <td>1.000000</td>\n",
       "      <td>1.000000</td>\n",
       "      <td>1.000000</td>\n",
       "      <td>1.000000</td>\n",
       "      <td>1.000000</td>\n",
       "      <td>1.000000</td>\n",
       "      <td>1.000000</td>\n",
       "      <td>1.000000</td>\n",
       "      <td>1.000000</td>\n",
       "      <td>1.000000</td>\n",
       "      <td>...</td>\n",
       "      <td>1.000000</td>\n",
       "      <td>1.000000</td>\n",
       "      <td>1.000000</td>\n",
       "      <td>1.000000</td>\n",
       "      <td>1.000000</td>\n",
       "      <td>1.000000</td>\n",
       "      <td>1.000000</td>\n",
       "      <td>1.000000</td>\n",
       "      <td>1.000000</td>\n",
       "      <td>1.000000</td>\n",
       "    </tr>\n",
       "  </tbody>\n",
       "</table>\n",
       "<p>8 rows × 24 columns</p>\n",
       "</div>"
      ],
      "text/plain": [
       "       basket_icon_click  basket_add_list  basket_add_detail        sort_by  \\\n",
       "count      455401.000000    455401.000000      455401.000000  455401.000000   \n",
       "mean            0.099150         0.074521           0.112916       0.036849   \n",
       "std             0.298864         0.262617           0.316490       0.188391   \n",
       "min             0.000000         0.000000           0.000000       0.000000   \n",
       "25%             0.000000         0.000000           0.000000       0.000000   \n",
       "50%             0.000000         0.000000           0.000000       0.000000   \n",
       "75%             0.000000         0.000000           0.000000       0.000000   \n",
       "max             1.000000         1.000000           1.000000       1.000000   \n",
       "\n",
       "        image_picker  account_page_click  promo_banner_click  \\\n",
       "count  455401.000000       455401.000000       455401.000000   \n",
       "mean        0.026735            0.003570            0.016208   \n",
       "std         0.161307            0.059647            0.126274   \n",
       "min         0.000000            0.000000            0.000000   \n",
       "25%         0.000000            0.000000            0.000000   \n",
       "50%         0.000000            0.000000            0.000000   \n",
       "75%         0.000000            0.000000            0.000000   \n",
       "max         1.000000            1.000000            1.000000   \n",
       "\n",
       "       detail_wishlist_add  list_size_dropdown  closed_minibasket_click  ...  \\\n",
       "count        455401.000000       455401.000000            455401.000000  ...   \n",
       "mean              0.003511            0.230362                 0.017277  ...   \n",
       "std               0.059151            0.421065                 0.130302  ...   \n",
       "min               0.000000            0.000000                 0.000000  ...   \n",
       "25%               0.000000            0.000000                 0.000000  ...   \n",
       "50%               0.000000            0.000000                 0.000000  ...   \n",
       "75%               0.000000            0.000000                 0.000000  ...   \n",
       "max               1.000000            1.000000                 1.000000  ...   \n",
       "\n",
       "       saw_sizecharts   saw_delivery  saw_account_upgrade   saw_homepage  \\\n",
       "count   455401.000000  455401.000000        455401.000000  455401.000000   \n",
       "mean         0.000389       0.005542             0.001096       0.290024   \n",
       "std          0.019711       0.074241             0.033084       0.453773   \n",
       "min          0.000000       0.000000             0.000000       0.000000   \n",
       "25%          0.000000       0.000000             0.000000       0.000000   \n",
       "50%          0.000000       0.000000             0.000000       0.000000   \n",
       "75%          0.000000       0.000000             0.000000       1.000000   \n",
       "max          1.000000       1.000000             1.000000       1.000000   \n",
       "\n",
       "       device_mobile  device_computer  device_tablet  returning_user  \\\n",
       "count  455401.000000    455401.000000  455401.000000   455401.000000   \n",
       "mean        0.680706         0.194220       0.128364        0.534915   \n",
       "std         0.466204         0.395599       0.334495        0.498780   \n",
       "min         0.000000         0.000000       0.000000        0.000000   \n",
       "25%         0.000000         0.000000       0.000000        0.000000   \n",
       "50%         1.000000         0.000000       0.000000        1.000000   \n",
       "75%         1.000000         0.000000       0.000000        1.000000   \n",
       "max         1.000000         1.000000       1.000000        1.000000   \n",
       "\n",
       "              loc_uk        ordered  \n",
       "count  455401.000000  455401.000000  \n",
       "mean        0.933224       0.041926  \n",
       "std         0.249634       0.200420  \n",
       "min         0.000000       0.000000  \n",
       "25%         1.000000       0.000000  \n",
       "50%         1.000000       0.000000  \n",
       "75%         1.000000       0.000000  \n",
       "max         1.000000       1.000000  \n",
       "\n",
       "[8 rows x 24 columns]"
      ]
     },
     "execution_count": 14,
     "metadata": {},
     "output_type": "execute_result"
    }
   ],
   "source": [
    "# Provides a quick summary of the dataset\n",
    "train.describe()"
   ]
  },
  {
   "cell_type": "code",
   "execution_count": 15,
   "metadata": {},
   "outputs": [
    {
     "name": "stdout",
     "output_type": "stream",
     "text": [
      "<class 'pandas.core.frame.DataFrame'>\n",
      "RangeIndex: 455401 entries, 0 to 455400\n",
      "Data columns (total 24 columns):\n",
      "basket_icon_click          455401 non-null int64\n",
      "basket_add_list            455401 non-null int64\n",
      "basket_add_detail          455401 non-null int64\n",
      "sort_by                    455401 non-null int64\n",
      "image_picker               455401 non-null int64\n",
      "account_page_click         455401 non-null int64\n",
      "promo_banner_click         455401 non-null int64\n",
      "detail_wishlist_add        455401 non-null int64\n",
      "list_size_dropdown         455401 non-null int64\n",
      "closed_minibasket_click    455401 non-null int64\n",
      "checked_delivery_detail    455401 non-null int64\n",
      "checked_returns_detail     455401 non-null int64\n",
      "sign_in                    455401 non-null int64\n",
      "saw_checkout               455401 non-null int64\n",
      "saw_sizecharts             455401 non-null int64\n",
      "saw_delivery               455401 non-null int64\n",
      "saw_account_upgrade        455401 non-null int64\n",
      "saw_homepage               455401 non-null int64\n",
      "device_mobile              455401 non-null int64\n",
      "device_computer            455401 non-null int64\n",
      "device_tablet              455401 non-null int64\n",
      "returning_user             455401 non-null int64\n",
      "loc_uk                     455401 non-null int64\n",
      "ordered                    455401 non-null int64\n",
      "dtypes: int64(24)\n",
      "memory usage: 83.4 MB\n"
     ]
    }
   ],
   "source": [
    "train.info()"
   ]
  },
  {
   "cell_type": "code",
   "execution_count": 23,
   "metadata": {},
   "outputs": [
    {
     "data": {
      "text/plain": [
       "0    436308\n",
       "1     19093\n",
       "Name: ordered, dtype: int64"
      ]
     },
     "execution_count": 23,
     "metadata": {},
     "output_type": "execute_result"
    }
   ],
   "source": [
    "# Checking the target variable\n",
    "train['ordered'].value_counts()"
   ]
  },
  {
   "cell_type": "markdown",
   "metadata": {},
   "source": [
    "- We can see here that we have a class imbalance\n",
    "- Therefore we have to perform some sampling methods (Oversampling the minority class or undersampling the majority class) to build a robust model"
   ]
  },
  {
   "cell_type": "code",
   "execution_count": 16,
   "metadata": {},
   "outputs": [
    {
     "data": {
      "image/png": "[encoded data removed]",
      "text/plain": [
       "<Figure size 1152x1008 with 2 Axes>"
      ]
     },
     "metadata": {
      "needs_background": "light"
     },
     "output_type": "display_data"
    }
   ],
   "source": [
    "# View correlation heatmap of all variables\n",
    "corr = train.corr()\n",
    "plt.figure(figsize=(16, 14))\n",
    "sns.heatmap(corr, vmax=0.5, center=0,\n",
    "            square=True, linewidths=2, cmap='Blues')\n",
    "plt.savefig(\"heatmap.png\")\n",
    "plt.show()"
   ]
  },
  {
   "cell_type": "code",
   "execution_count": 17,
   "metadata": {},
   "outputs": [],
   "source": [
    "# Drop target column for training\n",
    "predictors = train.drop(['ordered'], axis=1)\n",
    "\n",
    "targets = train.ordered"
   ]
  },
  {
   "cell_type": "code",
   "execution_count": 18,
   "metadata": {},
   "outputs": [
    {
     "name": "stdout",
     "output_type": "stream",
     "text": [
      "Index(['basket_icon_click', 'basket_add_list', 'basket_add_detail', 'sort_by',\n",
      "       'image_picker', 'account_page_click', 'promo_banner_click',\n",
      "       'detail_wishlist_add', 'list_size_dropdown', 'closed_minibasket_click',\n",
      "       'checked_delivery_detail', 'checked_returns_detail', 'sign_in',\n",
      "       'saw_checkout', 'saw_sizecharts', 'saw_delivery', 'saw_account_upgrade',\n",
      "       'saw_homepage', 'device_mobile', 'device_computer', 'device_tablet',\n",
      "       'returning_user', 'loc_uk'],\n",
      "      dtype='object')\n"
     ]
    }
   ],
   "source": [
    "print(predictors.columns)"
   ]
  },
  {
   "cell_type": "markdown",
   "metadata": {},
   "source": [
    "### Preparing data for modelling"
   ]
  },
  {
   "cell_type": "code",
   "execution_count": 20,
   "metadata": {},
   "outputs": [],
   "source": [
    "import os\n",
    "from sklearn.model_selection  import train_test_split\n",
    "from sklearn.tree import DecisionTreeClassifier\n",
    "from sklearn.metrics import classification_report"
   ]
  },
  {
   "cell_type": "code",
   "execution_count": 40,
   "metadata": {},
   "outputs": [],
   "source": [
    "import imblearn"
   ]
  },
  {
   "cell_type": "code",
   "execution_count": 28,
   "metadata": {},
   "outputs": [
    {
     "name": "stdout",
     "output_type": "stream",
     "text": [
      "Predictor - Training :  (318780, 23) Predictor - Testing :  (136621, 23)\n"
     ]
    }
   ],
   "source": [
    "\n",
    "X_train, X_test, y_train, y_test  =   train_test_split(predictors, targets, test_size=.3)\n",
    "\n",
    "print( \"Predictor - Training : \", X_train.shape, \"Predictor - Testing : \", X_test.shape )"
   ]
  },
  {
   "cell_type": "code",
   "execution_count": 29,
   "metadata": {},
   "outputs": [],
   "source": [
    "from sklearn.linear_model import LogisticRegression\n",
    "from sklearn import metrics"
   ]
  },
  {
   "cell_type": "code",
   "execution_count": 30,
   "metadata": {},
   "outputs": [
    {
     "data": {
      "text/plain": [
       "LogisticRegression(C=1.0, class_weight=None, dual=False, fit_intercept=True,\n",
       "          intercept_scaling=1, max_iter=100, multi_class='ovr', n_jobs=1,\n",
       "          penalty='l2', random_state=None, solver='liblinear', tol=0.0001,\n",
       "          verbose=0, warm_start=False)"
      ]
     },
     "execution_count": 30,
     "metadata": {},
     "output_type": "execute_result"
    }
   ],
   "source": [
    "logreg = LogisticRegression()\n",
    "logreg.fit(X_train, y_train)"
   ]
  },
  {
   "cell_type": "code",
   "execution_count": 32,
   "metadata": {},
   "outputs": [
    {
     "name": "stdout",
     "output_type": "stream",
     "text": [
      "Accuracy of logistic regression classifier on test set: 0.9932\n"
     ]
    }
   ],
   "source": [
    "y_pred = logreg.predict(X_test)\n",
    "print('Accuracy of logistic regression classifier on test set: {:.4f}'.format(logreg.score(X_test, y_test)))"
   ]
  },
  {
   "cell_type": "code",
   "execution_count": null,
   "metadata": {},
   "outputs": [],
   "source": []
  }
 ],
 "metadata": {
  "kernelspec": {
   "display_name": "Python 3",
   "language": "python",
   "name": "python3"
  },
  "language_info": {
   "codemirror_mode": {
    "name": "ipython",
    "version": 3
   },
   "file_extension": ".py",
   "mimetype": "text/x-python",
   "name": "python",
   "nbconvert_exporter": "python",
   "pygments_lexer": "ipython3",
   "version": "3.7.6"
  }
 },
 "nbformat": 4,
 "nbformat_minor": 2
}
