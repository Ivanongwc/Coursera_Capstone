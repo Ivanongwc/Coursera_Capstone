{
 "cells": [
  {
   "cell_type": "markdown",
   "metadata": {},
   "source": [
    "# COVID-19: Pandemic in Singapore"
   ]
  },
  {
   "cell_type": "markdown",
   "metadata": {},
   "source": [
    "## About COVID-19"
   ]
  },
  {
   "cell_type": "markdown",
   "metadata": {},
   "source": [
    "The **coronavirus (COVID-19)** pandemic has spread across 190 countries, infecting 4 million people with 280 thousands deaths to date were reported. In Singapore, the current number of cases stands at 23,000+. Out of these, 2,200 have recovered and 20 covid-related deaths were reported.\n",
    "On April 3, Prime Minister Lee Hsien Loong announced that the country would enter a 'Circuit Breaker' phase, to combat the spread of the virus. This so-called circuit breaker phase was unheard of, was to reduce the number of people roaming around the streets, in order to break the chain of tranmissions in the community.\n",
    "\n",
    "Infections are rapidly rising in Italy, France, Germany, Spain, United Kingdom and the United States. It has has a massive impact on the global economy and major stock markets around the world.\n",
    "The outbreak of COVID-19 is developing into a major international crisis, and it's starting to influence important aspects of daily life. \n",
    "\n",
    "For example in Singapore:\n",
    "- Travel: Singapore implement cross border controls such as disallowing all short-term visitors to enter or transit through Singapore. For those granted entry, a 14-day Stay Home Notice will be issued.\n",
    "- Work from home arrangements: Organisations are enforced to allow and facilitate their employees to work from home, lowering the exposure and risk of covid infections within the company and not form new clusters at the workplace.\n",
    "- Non-essential stores: Only essential services will be allowed to open during this circuit breaker period. These include supermarkets/convenient stores, transportation, healthcare providers, certain banking and finance functions and telecoms. For food providers, only takeaways and delivers are allowed, no sit-in dining."
   ]
  },
  {
   "cell_type": "markdown",
   "metadata": {},
   "source": [
    "## Problem Statement:"
   ]
  },
  {
   "cell_type": "markdown",
   "metadata": {},
   "source": [
    "**\"How has Singapore done in tackling this pandemic from the measures that were implemented?\"**"
   ]
  },
  {
   "cell_type": "markdown",
   "metadata": {},
   "source": [
    "## Project Objective:"
   ]
  },
  {
   "cell_type": "markdown",
   "metadata": {},
   "source": [
    "To model/show cases recorded in different countries including Singapore as per confirmed cases up to date."
   ]
  },
  {
   "cell_type": "markdown",
   "metadata": {},
   "source": [
    "### Tasks to be performed:"
   ]
  },
  {
   "cell_type": "markdown",
   "metadata": {},
   "source": [
    "- Analysing the present covid scene in Singapore\n",
    "- Spot an similar trends evident\n",
    "- Exploring data on a global scale\n",
    "- Target audience will be data analysts, visualization enthusiats"
   ]
  },
  {
   "cell_type": "code",
   "execution_count": null,
   "metadata": {},
   "outputs": [],
   "source": []
  }
 ],
 "metadata": {
  "kernelspec": {
   "display_name": "Python 3",
   "language": "python",
   "name": "python3"
  },
  "language_info": {
   "codemirror_mode": {
    "name": "ipython",
    "version": 3
   },
   "file_extension": ".py",
   "mimetype": "text/x-python",
   "name": "python",
   "nbconvert_exporter": "python",
   "pygments_lexer": "ipython3",
   "version": "3.7.6"
  }
 },
 "nbformat": 4,
 "nbformat_minor": 2
}
