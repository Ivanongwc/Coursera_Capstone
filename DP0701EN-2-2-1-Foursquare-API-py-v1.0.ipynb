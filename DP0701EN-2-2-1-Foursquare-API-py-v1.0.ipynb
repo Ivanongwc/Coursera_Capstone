{
 "cells": [
  {
   "cell_type": "markdown",
   "metadata": {
    "button": false,
    "new_sheet": false,
    "run_control": {
     "read_only": false
    }
   },
   "source": [
    "<a href=\"https://cognitiveclass.ai\"><img src = \"https://ibm.box.com/shared/static/9gegpsmnsoo25ikkbl4qzlvlyjbgxs5x.png\" width = 400> </a>\n",
    "\n",
    "<h1 align=center><font size = 5>Learning FourSquare API with Python</font></h1>"
   ]
  },
  {
   "cell_type": "markdown",
   "metadata": {
    "button": false,
    "new_sheet": false,
    "run_control": {
     "read_only": false
    }
   },
   "source": [
    "   "
   ]
  },
  {
   "cell_type": "markdown",
   "metadata": {
    "button": false,
    "new_sheet": false,
    "run_control": {
     "read_only": false
    }
   },
   "source": [
    "## Introduction\n",
    "\n",
    "In this lab, you will learn in details how to make calls to the Foursquare API for different purposes. You will learn how to construct a URL to send a request to the API to search for a specific type of venues, to explore a particular venue, to explore a Foursquare user, to explore a geographical location, and to get trending venues around a location. Also, you will learn how to use the visualization library, Folium, to visualize the results."
   ]
  },
  {
   "cell_type": "markdown",
   "metadata": {
    "button": false,
    "new_sheet": false,
    "run_control": {
     "read_only": false
    }
   },
   "source": [
    "## Table of Contents\n",
    "\n",
    "1. <a href=\"#item1\">Foursquare API Search Function</a>\n",
    "2. <a href=\"#item2\">Explore a Given Venue</a>  \n",
    "3. <a href=\"#item3\">Explore a User</a>  \n",
    "4. <a href=\"#item4\">Foursquare API Explore Function</a>  \n",
    "5. <a href=\"#item5\">Get Trending Venues</a>  "
   ]
  },
  {
   "cell_type": "markdown",
   "metadata": {
    "button": false,
    "new_sheet": false,
    "run_control": {
     "read_only": false
    }
   },
   "source": [
    "### Import necessary Libraries"
   ]
  },
  {
   "cell_type": "code",
   "execution_count": 30,
   "metadata": {},
   "outputs": [
    {
     "name": "stdout",
     "output_type": "stream",
     "text": [
      "conda 4.8.3\n",
      "\n",
      "Note: you may need to restart the kernel to use updated packages.\n"
     ]
    }
   ],
   "source": [
    "conda --version"
   ]
  },
  {
   "cell_type": "code",
   "execution_count": 31,
   "metadata": {
    "button": false,
    "new_sheet": false,
    "run_control": {
     "read_only": false
    }
   },
   "outputs": [
    {
     "name": "stdout",
     "output_type": "stream",
     "text": [
      "Folium installed\n",
      "Libraries imported.\n"
     ]
    }
   ],
   "source": [
    "import requests # library to handle requests\n",
    "import pandas as pd # library for data analsysis\n",
    "import numpy as np # library to handle data in a vectorized manner\n",
    "import random # library for random number generation\n",
    "\n",
    "#conda install -c conda-forge geopy\n",
    "from geopy.geocoders import Nominatim # module to convert an address into latitude and longitude values\n",
    "\n",
    "# libraries for displaying images\n",
    "from IPython.display import Image \n",
    "from IPython.core.display import HTML \n",
    "    \n",
    "# tranforming json file into a pandas dataframe library\n",
    "from pandas.io.json import json_normalize\n",
    "\n",
    "#conda install -c conda-forge folium=0.5.0 --yes\n",
    "import folium # plotting library\n",
    "\n",
    "print('Folium installed')\n",
    "print('Libraries imported.')"
   ]
  },
  {
   "cell_type": "markdown",
   "metadata": {
    "button": false,
    "new_sheet": false,
    "run_control": {
     "read_only": false
    }
   },
   "source": [
    "### Define Foursquare Credentials and Version"
   ]
  },
  {
   "cell_type": "markdown",
   "metadata": {
    "button": false,
    "new_sheet": false,
    "run_control": {
     "read_only": false
    }
   },
   "source": [
    "##### Make sure that you have created a Foursquare developer account and have your credentials handy"
   ]
  },
  {
   "cell_type": "code",
   "execution_count": 32,
   "metadata": {
    "button": false,
    "new_sheet": false,
    "run_control": {
     "read_only": false
    }
   },
   "outputs": [
    {
     "name": "stdout",
     "output_type": "stream",
     "text": [
      "Your credentails:\n",
      "CLIENT_ID: 3Y4INY143PB3UN4KBP3STIU1LUEZUD5UEHCJEPNHLL2LQHN0\n",
      "CLIENT_SECRET:SUISWQSDNMCZITLJXKATVCC2EUXV3QEPT2SHJXGOBTZQJAPN\n"
     ]
    }
   ],
   "source": [
    "CLIENT_ID = '3Y4INY143PB3UN4KBP3STIU1LUEZUD5UEHCJEPNHLL2LQHN0' # your Foursquare ID\n",
    "CLIENT_SECRET = 'SUISWQSDNMCZITLJXKATVCC2EUXV3QEPT2SHJXGOBTZQJAPN' # your Foursquare Secret\n",
    "VERSION = '20180604'\n",
    "LIMIT = 30\n",
    "print('Your credentails:')\n",
    "print('CLIENT_ID: ' + CLIENT_ID)\n",
    "print('CLIENT_SECRET:' + CLIENT_SECRET)"
   ]
  },
  {
   "cell_type": "markdown",
   "metadata": {
    "button": false,
    "new_sheet": false,
    "run_control": {
     "read_only": false
    }
   },
   "source": [
    "  "
   ]
  },
  {
   "cell_type": "markdown",
   "metadata": {
    "button": false,
    "new_sheet": false,
    "run_control": {
     "read_only": false
    }
   },
   "source": [
    "#### Let's again assume that you are staying at the Conrad hotel. So let's start by converting the Contrad Hotel's address to its latitude and longitude coordinates."
   ]
  },
  {
   "cell_type": "markdown",
   "metadata": {},
   "source": [
    "In order to define an instance of the geocoder, we need to define a user_agent. We will name our agent <em>foursquare_agent</em>, as shown below."
   ]
  },
  {
   "cell_type": "code",
   "execution_count": 33,
   "metadata": {
    "button": false,
    "new_sheet": false,
    "run_control": {
     "read_only": false
    }
   },
   "outputs": [
    {
     "name": "stdout",
     "output_type": "stream",
     "text": [
      "40.7151482 -74.0156573\n"
     ]
    }
   ],
   "source": [
    "address = '102 North End Ave, New York, NY'\n",
    "\n",
    "geolocator = Nominatim(user_agent=\"foursquare_agent\")\n",
    "location = geolocator.geocode(address)\n",
    "latitude = location.latitude\n",
    "longitude = location.longitude\n",
    "print(latitude, longitude)"
   ]
  },
  {
   "cell_type": "code",
   "execution_count": 78,
   "metadata": {},
   "outputs": [
    {
     "name": "stdout",
     "output_type": "stream",
     "text": [
      "1.3227929500000002 103.91871326410262\n"
     ]
    }
   ],
   "source": [
    "address = '17 Waringin Park, Singapore, SG'\n",
    "\n",
    "geolocator = Nominatim(user_agent=\"foursquare_agent\")\n",
    "location = geolocator.geocode(address)\n",
    "latitude = location.latitude\n",
    "longitude = location.longitude\n",
    "print(latitude, longitude)"
   ]
  },
  {
   "cell_type": "code",
   "execution_count": 79,
   "metadata": {},
   "outputs": [
    {
     "name": "stdout",
     "output_type": "stream",
     "text": [
      "1.3938445000000002 103.89749439114655\n"
     ]
    }
   ],
   "source": [
    "address2 = '259B Compassvale Road, Singapore, SG'\n",
    "\n",
    "geolocator = Nominatim(user_agent=\"foursquare_agent\")\n",
    "location2 = geolocator.geocode(address2)\n",
    "latitude2 = location2.latitude\n",
    "longitude2 = location2.longitude\n",
    "print(latitude2, longitude2)"
   ]
  },
  {
   "cell_type": "markdown",
   "metadata": {
    "button": false,
    "new_sheet": false,
    "run_control": {
     "read_only": false
    }
   },
   "source": [
    "   "
   ]
  },
  {
   "cell_type": "markdown",
   "metadata": {
    "button": false,
    "new_sheet": false,
    "run_control": {
     "read_only": false
    }
   },
   "source": [
    "<a id=\"item1\"></a>"
   ]
  },
  {
   "cell_type": "markdown",
   "metadata": {
    "button": false,
    "new_sheet": false,
    "run_control": {
     "read_only": false
    }
   },
   "source": [
    "## 1. Search for a specific venue category\n",
    "> `https://api.foursquare.com/v2/venues/`**search**`?client_id=`**CLIENT_ID**`&client_secret=`**CLIENT_SECRET**`&ll=`**LATITUDE**`,`**LONGITUDE**`&v=`**VERSION**`&query=`**QUERY**`&radius=`**RADIUS**`&limit=`**LIMIT**"
   ]
  },
  {
   "cell_type": "markdown",
   "metadata": {
    "button": false,
    "new_sheet": false,
    "run_control": {
     "read_only": false
    }
   },
   "source": [
    "#### Now, let's assume that it is lunch time, and you are craving Italian food. So, let's define a query to search for Italian food that is within 500 metres from the Conrad Hotel. "
   ]
  },
  {
   "cell_type": "code",
   "execution_count": 80,
   "metadata": {
    "button": false,
    "new_sheet": false,
    "run_control": {
     "read_only": false
    },
    "scrolled": true
   },
   "outputs": [
    {
     "name": "stdout",
     "output_type": "stream",
     "text": [
      "School .... OK!\n"
     ]
    }
   ],
   "source": [
    "search_query = 'School'\n",
    "radius = 500\n",
    "print(search_query + ' .... OK!')"
   ]
  },
  {
   "cell_type": "markdown",
   "metadata": {
    "button": false,
    "new_sheet": false,
    "run_control": {
     "read_only": false
    }
   },
   "source": [
    "#### Define the corresponding URL"
   ]
  },
  {
   "cell_type": "code",
   "execution_count": 81,
   "metadata": {
    "button": false,
    "new_sheet": false,
    "run_control": {
     "read_only": false
    }
   },
   "outputs": [
    {
     "data": {
      "text/plain": [
       "'https://api.foursquare.com/v2/venues/search?client_id=3Y4INY143PB3UN4KBP3STIU1LUEZUD5UEHCJEPNHLL2LQHN0&client_secret=SUISWQSDNMCZITLJXKATVCC2EUXV3QEPT2SHJXGOBTZQJAPN&ll=1.3227929500000002,103.91871326410262&v=20180604&query=School&radius=500&limit=30'"
      ]
     },
     "execution_count": 81,
     "metadata": {},
     "output_type": "execute_result"
    }
   ],
   "source": [
    "url = 'https://api.foursquare.com/v2/venues/search?client_id={}&client_secret={}&ll={},{}&v={}&query={}&radius={}&limit={}'.format(CLIENT_ID, CLIENT_SECRET, latitude, longitude, VERSION, search_query, radius, LIMIT)\n",
    "url"
   ]
  },
  {
   "cell_type": "markdown",
   "metadata": {
    "button": false,
    "new_sheet": false,
    "run_control": {
     "read_only": false
    }
   },
   "source": [
    "#### Send the GET Request and examine the results"
   ]
  },
  {
   "cell_type": "code",
   "execution_count": 82,
   "metadata": {
    "button": false,
    "new_sheet": false,
    "run_control": {
     "read_only": false
    },
    "scrolled": true
   },
   "outputs": [
    {
     "data": {
      "text/plain": [
       "{'meta': {'code': 200, 'requestId': '5ec905a9882fc7001b9a7af3'},\n",
       " 'response': {'venues': [{'id': '4d5507fd48ea6ea81e6bd0a3',\n",
       "    'name': 'PCF School',\n",
       "    'location': {'address': '59 Chai Chee Rd',\n",
       "     'lat': 1.3247692605255204,\n",
       "     'lng': 103.920615794444,\n",
       "     'labeledLatLngs': [{'label': 'display',\n",
       "       'lat': 1.3247692605255204,\n",
       "       'lng': 103.920615794444}],\n",
       "     'distance': 305,\n",
       "     'postalCode': '460059',\n",
       "     'cc': 'SG',\n",
       "     'city': 'Singapore',\n",
       "     'country': 'Singapore',\n",
       "     'formattedAddress': ['59 Chai Chee Rd', '460059', 'Singapore']},\n",
       "    'categories': [{'id': '4f4533814b9074f6e4fb0107',\n",
       "      'name': 'Nursery School',\n",
       "      'pluralName': 'Nursery Schools',\n",
       "      'shortName': 'Nursery School',\n",
       "      'icon': {'prefix': 'https://ss3.4sqi.net/img/categories_v2/building/school_',\n",
       "       'suffix': '.png'},\n",
       "      'primary': True}],\n",
       "    'referralId': 'v-1590232780',\n",
       "    'hasPerk': False},\n",
       "   {'id': '4bc584f269369521d22a8488',\n",
       "    'name': \"St. Stephen's School\",\n",
       "    'location': {'address': '20 Siglap View',\n",
       "     'lat': 1.3191524339489158,\n",
       "     'lng': 103.91791381059554,\n",
       "     'labeledLatLngs': [{'label': 'display',\n",
       "       'lat': 1.3191524339489158,\n",
       "       'lng': 103.91791381059554}],\n",
       "     'distance': 414,\n",
       "     'postalCode': '455789',\n",
       "     'cc': 'SG',\n",
       "     'city': 'Singapore',\n",
       "     'country': 'Singapore',\n",
       "     'formattedAddress': ['20 Siglap View', '455789', 'Singapore']},\n",
       "    'categories': [{'id': '4bf58dd8d48988d13b941735',\n",
       "      'name': 'School',\n",
       "      'pluralName': 'Schools',\n",
       "      'shortName': 'School',\n",
       "      'icon': {'prefix': 'https://ss3.4sqi.net/img/categories_v2/building/school_',\n",
       "       'suffix': '.png'},\n",
       "      'primary': True}],\n",
       "    'referralId': 'v-1590232780',\n",
       "    'hasPerk': False},\n",
       "   {'id': '5a59805979f6c739076f41b6',\n",
       "    'name': 'Happy Fish Swim School',\n",
       "    'location': {'lat': 1.322812,\n",
       "     'lng': 103.921829,\n",
       "     'labeledLatLngs': [{'label': 'display',\n",
       "       'lat': 1.322812,\n",
       "       'lng': 103.921829}],\n",
       "     'distance': 346,\n",
       "     'postalCode': '467350',\n",
       "     'cc': 'SG',\n",
       "     'city': 'Bedok New Town',\n",
       "     'state': 'Singapore',\n",
       "     'country': 'Singapore',\n",
       "     'formattedAddress': ['467350', 'Singapore']},\n",
       "    'categories': [{'id': '52e81612bcbc57f1066b7a44',\n",
       "      'name': 'Swim School',\n",
       "      'pluralName': 'Swim Schools',\n",
       "      'shortName': 'Swim School',\n",
       "      'icon': {'prefix': 'https://ss3.4sqi.net/img/categories_v2/parks_outdoors/pool_',\n",
       "       'suffix': '.png'},\n",
       "      'primary': True}],\n",
       "    'referralId': 'v-1590232780',\n",
       "    'hasPerk': False},\n",
       "   {'id': '4f20eb13e4b0d23f2b45d81a',\n",
       "    'name': 'Computer Lab @ St Stephen School',\n",
       "    'location': {'address': '20 Siglap View',\n",
       "     'lat': 1.318655,\n",
       "     'lng': 103.918026,\n",
       "     'labeledLatLngs': [{'label': 'display',\n",
       "       'lat': 1.318655,\n",
       "       'lng': 103.918026}],\n",
       "     'distance': 466,\n",
       "     'cc': 'SG',\n",
       "     'country': 'Singapore',\n",
       "     'formattedAddress': ['20 Siglap View', 'Singapore']},\n",
       "    'categories': [{'id': '4bf58dd8d48988d1a5941735',\n",
       "      'name': 'College Lab',\n",
       "      'pluralName': 'College Labs',\n",
       "      'shortName': 'Lab',\n",
       "      'icon': {'prefix': 'https://ss3.4sqi.net/img/categories_v2/education/lab_',\n",
       "       'suffix': '.png'},\n",
       "      'primary': True}],\n",
       "    'referralId': 'v-1590232780',\n",
       "    'hasPerk': False},\n",
       "   {'id': '4dbf51354df0f8fd6b8482d3',\n",
       "    'name': \"St Stephen's School Staff Room\",\n",
       "    'location': {'lat': 1.3186315451606876,\n",
       "     'lng': 103.91782317893586,\n",
       "     'labeledLatLngs': [{'label': 'display',\n",
       "       'lat': 1.3186315451606876,\n",
       "       'lng': 103.91782317893586}],\n",
       "     'distance': 473,\n",
       "     'cc': 'SG',\n",
       "     'city': 'Singapore',\n",
       "     'country': 'Singapore',\n",
       "     'formattedAddress': ['Singapore']},\n",
       "    'categories': [{'id': '4bf58dd8d48988d13d941735',\n",
       "      'name': 'High School',\n",
       "      'pluralName': 'High Schools',\n",
       "      'shortName': 'High School',\n",
       "      'icon': {'prefix': 'https://ss3.4sqi.net/img/categories_v2/building/school_',\n",
       "       'suffix': '.png'},\n",
       "      'primary': True}],\n",
       "    'referralId': 'v-1590232780',\n",
       "    'hasPerk': False},\n",
       "   {'id': '4e8be24e9adf4a7ef2e7bbb0',\n",
       "    'name': 'Cherie Hearts International School- Changi Road',\n",
       "    'location': {'lat': 1.319807,\n",
       "     'lng': 103.915138,\n",
       "     'labeledLatLngs': [{'label': 'display',\n",
       "       'lat': 1.319807,\n",
       "       'lng': 103.915138}],\n",
       "     'distance': 518,\n",
       "     'cc': 'SG',\n",
       "     'city': 'Singapore',\n",
       "     'country': 'Singapore',\n",
       "     'formattedAddress': ['Singapore']},\n",
       "    'categories': [{'id': '4d4b7105d754a06372d81259',\n",
       "      'name': 'College & University',\n",
       "      'pluralName': 'Colleges & Universities',\n",
       "      'shortName': 'College & Education',\n",
       "      'icon': {'prefix': 'https://ss3.4sqi.net/img/categories_v2/education/default_',\n",
       "       'suffix': '.png'},\n",
       "      'primary': True}],\n",
       "    'referralId': 'v-1590232780',\n",
       "    'hasPerk': False},\n",
       "   {'id': '4f18e8ede4b026aa4d47b729',\n",
       "    'name': 'Hall @ Opera Estate Primary School',\n",
       "    'location': {'lat': 1.3220579042734248,\n",
       "     'lng': 103.92345378443883,\n",
       "     'labeledLatLngs': [{'label': 'display',\n",
       "       'lat': 1.3220579042734248,\n",
       "       'lng': 103.92345378443883}],\n",
       "     'distance': 533,\n",
       "     'cc': 'SG',\n",
       "     'country': 'Singapore',\n",
       "     'formattedAddress': ['Singapore']},\n",
       "    'categories': [{'id': '4bf58dd8d48988d13b941735',\n",
       "      'name': 'School',\n",
       "      'pluralName': 'Schools',\n",
       "      'shortName': 'School',\n",
       "      'icon': {'prefix': 'https://ss3.4sqi.net/img/categories_v2/building/school_',\n",
       "       'suffix': '.png'},\n",
       "      'primary': True}],\n",
       "    'referralId': 'v-1590232780',\n",
       "    'hasPerk': False},\n",
       "   {'id': '4f1666e5e4b0380207a1ac95',\n",
       "    'name': 'PYSS Oasis Library',\n",
       "    'location': {'address': 'Ping Yi Secondary School',\n",
       "     'crossStreet': '61 Chai Chee Street',\n",
       "     'lat': 1.3268990016717446,\n",
       "     'lng': 103.92046285054163,\n",
       "     'labeledLatLngs': [{'label': 'display',\n",
       "       'lat': 1.3268990016717446,\n",
       "       'lng': 103.92046285054163}],\n",
       "     'distance': 496,\n",
       "     'postalCode': '468980',\n",
       "     'cc': 'SG',\n",
       "     'city': 'Singapore',\n",
       "     'country': 'Singapore',\n",
       "     'formattedAddress': ['Ping Yi Secondary School (61 Chai Chee Street)',\n",
       "      '468980',\n",
       "      'Singapore']},\n",
       "    'categories': [{'id': '4bf58dd8d48988d1a7941735',\n",
       "      'name': 'College Library',\n",
       "      'pluralName': 'College Libraries',\n",
       "      'shortName': 'Library',\n",
       "      'icon': {'prefix': 'https://ss3.4sqi.net/img/categories_v2/building/library_',\n",
       "       'suffix': '.png'},\n",
       "      'primary': True}],\n",
       "    'referralId': 'v-1590232780',\n",
       "    'hasPerk': False},\n",
       "   {'id': '4d646abe7f84f04dfcb4f5b4',\n",
       "    'name': 'PYSS Canteen',\n",
       "    'location': {'address': 'Ping Yi Secondary School (PYSS)',\n",
       "     'crossStreet': '61 Chai Chee Street',\n",
       "     'lat': 1.327027598743485,\n",
       "     'lng': 103.92097384434508,\n",
       "     'labeledLatLngs': [{'label': 'display',\n",
       "       'lat': 1.327027598743485,\n",
       "       'lng': 103.92097384434508}],\n",
       "     'distance': 534,\n",
       "     'postalCode': '468982',\n",
       "     'cc': 'SG',\n",
       "     'city': 'Singapore',\n",
       "     'country': 'Singapore',\n",
       "     'formattedAddress': ['Ping Yi Secondary School (PYSS) (61 Chai Chee Street)',\n",
       "      '468982',\n",
       "      'Singapore']},\n",
       "    'categories': [{'id': '4bf58dd8d48988d1a1941735',\n",
       "      'name': 'College Cafeteria',\n",
       "      'pluralName': 'College Cafeterias',\n",
       "      'shortName': 'Cafeteria',\n",
       "      'icon': {'prefix': 'https://ss3.4sqi.net/img/categories_v2/education/cafeteria_',\n",
       "       'suffix': '.png'},\n",
       "      'primary': True}],\n",
       "    'referralId': 'v-1590232780',\n",
       "    'hasPerk': False}]}}"
      ]
     },
     "execution_count": 82,
     "metadata": {},
     "output_type": "execute_result"
    }
   ],
   "source": [
    "results = requests.get(url).json()\n",
    "results"
   ]
  },
  {
   "cell_type": "markdown",
   "metadata": {
    "button": false,
    "new_sheet": false,
    "run_control": {
     "read_only": false
    }
   },
   "source": [
    "#### Get relevant part of JSON and transform it into a *pandas* dataframe"
   ]
  },
  {
   "cell_type": "code",
   "execution_count": 83,
   "metadata": {
    "button": false,
    "new_sheet": false,
    "run_control": {
     "read_only": false
    }
   },
   "outputs": [
    {
     "name": "stderr",
     "output_type": "stream",
     "text": [
      "/opt/anaconda3/lib/python3.7/site-packages/ipykernel_launcher.py:5: FutureWarning: pandas.io.json.json_normalize is deprecated, use pandas.json_normalize instead\n",
      "  \"\"\"\n"
     ]
    },
    {
     "data": {
      "text/html": [
       "<div>\n",
       "<style scoped>\n",
       "    .dataframe tbody tr th:only-of-type {\n",
       "        vertical-align: middle;\n",
       "    }\n",
       "\n",
       "    .dataframe tbody tr th {\n",
       "        vertical-align: top;\n",
       "    }\n",
       "\n",
       "    .dataframe thead th {\n",
       "        text-align: right;\n",
       "    }\n",
       "</style>\n",
       "<table border=\"1\" class=\"dataframe\">\n",
       "  <thead>\n",
       "    <tr style=\"text-align: right;\">\n",
       "      <th></th>\n",
       "      <th>id</th>\n",
       "      <th>name</th>\n",
       "      <th>categories</th>\n",
       "      <th>referralId</th>\n",
       "      <th>hasPerk</th>\n",
       "      <th>location.address</th>\n",
       "      <th>location.lat</th>\n",
       "      <th>location.lng</th>\n",
       "      <th>location.labeledLatLngs</th>\n",
       "      <th>location.distance</th>\n",
       "      <th>location.postalCode</th>\n",
       "      <th>location.cc</th>\n",
       "      <th>location.city</th>\n",
       "      <th>location.country</th>\n",
       "      <th>location.formattedAddress</th>\n",
       "      <th>location.state</th>\n",
       "      <th>location.crossStreet</th>\n",
       "    </tr>\n",
       "  </thead>\n",
       "  <tbody>\n",
       "    <tr>\n",
       "      <th>0</th>\n",
       "      <td>4d5507fd48ea6ea81e6bd0a3</td>\n",
       "      <td>PCF School</td>\n",
       "      <td>[{'id': '4f4533814b9074f6e4fb0107', 'name': 'Nursery School', 'pluralName': 'Nursery Schools', 'shortName': 'Nursery School', 'icon': {'prefix': 'https://ss3.4sqi.net/img/categories_v2/building/school_', 'suffix': '.png'}, 'primary': True}]</td>\n",
       "      <td>v-1590232780</td>\n",
       "      <td>False</td>\n",
       "      <td>59 Chai Chee Rd</td>\n",
       "      <td>1.324769</td>\n",
       "      <td>103.920616</td>\n",
       "      <td>[{'label': 'display', 'lat': 1.3247692605255204, 'lng': 103.920615794444}]</td>\n",
       "      <td>305</td>\n",
       "      <td>460059</td>\n",
       "      <td>SG</td>\n",
       "      <td>Singapore</td>\n",
       "      <td>Singapore</td>\n",
       "      <td>[59 Chai Chee Rd, 460059, Singapore]</td>\n",
       "      <td>NaN</td>\n",
       "      <td>NaN</td>\n",
       "    </tr>\n",
       "    <tr>\n",
       "      <th>1</th>\n",
       "      <td>4bc584f269369521d22a8488</td>\n",
       "      <td>St. Stephen's School</td>\n",
       "      <td>[{'id': '4bf58dd8d48988d13b941735', 'name': 'School', 'pluralName': 'Schools', 'shortName': 'School', 'icon': {'prefix': 'https://ss3.4sqi.net/img/categories_v2/building/school_', 'suffix': '.png'}, 'primary': True}]</td>\n",
       "      <td>v-1590232780</td>\n",
       "      <td>False</td>\n",
       "      <td>20 Siglap View</td>\n",
       "      <td>1.319152</td>\n",
       "      <td>103.917914</td>\n",
       "      <td>[{'label': 'display', 'lat': 1.3191524339489158, 'lng': 103.91791381059554}]</td>\n",
       "      <td>414</td>\n",
       "      <td>455789</td>\n",
       "      <td>SG</td>\n",
       "      <td>Singapore</td>\n",
       "      <td>Singapore</td>\n",
       "      <td>[20 Siglap View, 455789, Singapore]</td>\n",
       "      <td>NaN</td>\n",
       "      <td>NaN</td>\n",
       "    </tr>\n",
       "    <tr>\n",
       "      <th>2</th>\n",
       "      <td>5a59805979f6c739076f41b6</td>\n",
       "      <td>Happy Fish Swim School</td>\n",
       "      <td>[{'id': '52e81612bcbc57f1066b7a44', 'name': 'Swim School', 'pluralName': 'Swim Schools', 'shortName': 'Swim School', 'icon': {'prefix': 'https://ss3.4sqi.net/img/categories_v2/parks_outdoors/pool_', 'suffix': '.png'}, 'primary': True}]</td>\n",
       "      <td>v-1590232780</td>\n",
       "      <td>False</td>\n",
       "      <td>NaN</td>\n",
       "      <td>1.322812</td>\n",
       "      <td>103.921829</td>\n",
       "      <td>[{'label': 'display', 'lat': 1.322812, 'lng': 103.921829}]</td>\n",
       "      <td>346</td>\n",
       "      <td>467350</td>\n",
       "      <td>SG</td>\n",
       "      <td>Bedok New Town</td>\n",
       "      <td>Singapore</td>\n",
       "      <td>[467350, Singapore]</td>\n",
       "      <td>Singapore</td>\n",
       "      <td>NaN</td>\n",
       "    </tr>\n",
       "    <tr>\n",
       "      <th>3</th>\n",
       "      <td>4f20eb13e4b0d23f2b45d81a</td>\n",
       "      <td>Computer Lab @ St Stephen School</td>\n",
       "      <td>[{'id': '4bf58dd8d48988d1a5941735', 'name': 'College Lab', 'pluralName': 'College Labs', 'shortName': 'Lab', 'icon': {'prefix': 'https://ss3.4sqi.net/img/categories_v2/education/lab_', 'suffix': '.png'}, 'primary': True}]</td>\n",
       "      <td>v-1590232780</td>\n",
       "      <td>False</td>\n",
       "      <td>20 Siglap View</td>\n",
       "      <td>1.318655</td>\n",
       "      <td>103.918026</td>\n",
       "      <td>[{'label': 'display', 'lat': 1.318655, 'lng': 103.918026}]</td>\n",
       "      <td>466</td>\n",
       "      <td>NaN</td>\n",
       "      <td>SG</td>\n",
       "      <td>NaN</td>\n",
       "      <td>Singapore</td>\n",
       "      <td>[20 Siglap View, Singapore]</td>\n",
       "      <td>NaN</td>\n",
       "      <td>NaN</td>\n",
       "    </tr>\n",
       "    <tr>\n",
       "      <th>4</th>\n",
       "      <td>4dbf51354df0f8fd6b8482d3</td>\n",
       "      <td>St Stephen's School Staff Room</td>\n",
       "      <td>[{'id': '4bf58dd8d48988d13d941735', 'name': 'High School', 'pluralName': 'High Schools', 'shortName': 'High School', 'icon': {'prefix': 'https://ss3.4sqi.net/img/categories_v2/building/school_', 'suffix': '.png'}, 'primary': True}]</td>\n",
       "      <td>v-1590232780</td>\n",
       "      <td>False</td>\n",
       "      <td>NaN</td>\n",
       "      <td>1.318632</td>\n",
       "      <td>103.917823</td>\n",
       "      <td>[{'label': 'display', 'lat': 1.3186315451606876, 'lng': 103.91782317893586}]</td>\n",
       "      <td>473</td>\n",
       "      <td>NaN</td>\n",
       "      <td>SG</td>\n",
       "      <td>Singapore</td>\n",
       "      <td>Singapore</td>\n",
       "      <td>[Singapore]</td>\n",
       "      <td>NaN</td>\n",
       "      <td>NaN</td>\n",
       "    </tr>\n",
       "  </tbody>\n",
       "</table>\n",
       "</div>"
      ],
      "text/plain": [
       "                         id                              name  \\\n",
       "0  4d5507fd48ea6ea81e6bd0a3  PCF School                         \n",
       "1  4bc584f269369521d22a8488  St. Stephen's School               \n",
       "2  5a59805979f6c739076f41b6  Happy Fish Swim School             \n",
       "3  4f20eb13e4b0d23f2b45d81a  Computer Lab @ St Stephen School   \n",
       "4  4dbf51354df0f8fd6b8482d3  St Stephen's School Staff Room     \n",
       "\n",
       "                                                                                                                                                                                                                                         categories  \\\n",
       "0  [{'id': '4f4533814b9074f6e4fb0107', 'name': 'Nursery School', 'pluralName': 'Nursery Schools', 'shortName': 'Nursery School', 'icon': {'prefix': 'https://ss3.4sqi.net/img/categories_v2/building/school_', 'suffix': '.png'}, 'primary': True}]   \n",
       "1  [{'id': '4bf58dd8d48988d13b941735', 'name': 'School', 'pluralName': 'Schools', 'shortName': 'School', 'icon': {'prefix': 'https://ss3.4sqi.net/img/categories_v2/building/school_', 'suffix': '.png'}, 'primary': True}]                           \n",
       "2  [{'id': '52e81612bcbc57f1066b7a44', 'name': 'Swim School', 'pluralName': 'Swim Schools', 'shortName': 'Swim School', 'icon': {'prefix': 'https://ss3.4sqi.net/img/categories_v2/parks_outdoors/pool_', 'suffix': '.png'}, 'primary': True}]        \n",
       "3  [{'id': '4bf58dd8d48988d1a5941735', 'name': 'College Lab', 'pluralName': 'College Labs', 'shortName': 'Lab', 'icon': {'prefix': 'https://ss3.4sqi.net/img/categories_v2/education/lab_', 'suffix': '.png'}, 'primary': True}]                      \n",
       "4  [{'id': '4bf58dd8d48988d13d941735', 'name': 'High School', 'pluralName': 'High Schools', 'shortName': 'High School', 'icon': {'prefix': 'https://ss3.4sqi.net/img/categories_v2/building/school_', 'suffix': '.png'}, 'primary': True}]            \n",
       "\n",
       "     referralId  hasPerk location.address  location.lat  location.lng  \\\n",
       "0  v-1590232780  False    59 Chai Chee Rd  1.324769      103.920616     \n",
       "1  v-1590232780  False    20 Siglap View   1.319152      103.917914     \n",
       "2  v-1590232780  False    NaN              1.322812      103.921829     \n",
       "3  v-1590232780  False    20 Siglap View   1.318655      103.918026     \n",
       "4  v-1590232780  False    NaN              1.318632      103.917823     \n",
       "\n",
       "                                                        location.labeledLatLngs  \\\n",
       "0  [{'label': 'display', 'lat': 1.3247692605255204, 'lng': 103.920615794444}]     \n",
       "1  [{'label': 'display', 'lat': 1.3191524339489158, 'lng': 103.91791381059554}]   \n",
       "2  [{'label': 'display', 'lat': 1.322812, 'lng': 103.921829}]                     \n",
       "3  [{'label': 'display', 'lat': 1.318655, 'lng': 103.918026}]                     \n",
       "4  [{'label': 'display', 'lat': 1.3186315451606876, 'lng': 103.91782317893586}]   \n",
       "\n",
       "   location.distance location.postalCode location.cc   location.city  \\\n",
       "0  305                460059              SG          Singapore        \n",
       "1  414                455789              SG          Singapore        \n",
       "2  346                467350              SG          Bedok New Town   \n",
       "3  466                NaN                 SG          NaN              \n",
       "4  473                NaN                 SG          Singapore        \n",
       "\n",
       "  location.country             location.formattedAddress location.state  \\\n",
       "0  Singapore        [59 Chai Chee Rd, 460059, Singapore]  NaN             \n",
       "1  Singapore        [20 Siglap View, 455789, Singapore]   NaN             \n",
       "2  Singapore        [467350, Singapore]                   Singapore       \n",
       "3  Singapore        [20 Siglap View, Singapore]           NaN             \n",
       "4  Singapore        [Singapore]                           NaN             \n",
       "\n",
       "  location.crossStreet  \n",
       "0  NaN                  \n",
       "1  NaN                  \n",
       "2  NaN                  \n",
       "3  NaN                  \n",
       "4  NaN                  "
      ]
     },
     "execution_count": 83,
     "metadata": {},
     "output_type": "execute_result"
    }
   ],
   "source": [
    "# assign relevant part of JSON to venues\n",
    "venues = results['response']['venues']\n",
    "\n",
    "# tranform venues into a dataframe\n",
    "dataframe = json_normalize(venues)\n",
    "dataframe.head()"
   ]
  },
  {
   "cell_type": "markdown",
   "metadata": {
    "button": false,
    "new_sheet": false,
    "run_control": {
     "read_only": false
    }
   },
   "source": [
    "#### Define information of interest and filter dataframe"
   ]
  },
  {
   "cell_type": "code",
   "execution_count": 84,
   "metadata": {
    "button": false,
    "new_sheet": false,
    "run_control": {
     "read_only": false
    },
    "scrolled": true
   },
   "outputs": [
    {
     "data": {
      "text/html": [
       "<div>\n",
       "<style scoped>\n",
       "    .dataframe tbody tr th:only-of-type {\n",
       "        vertical-align: middle;\n",
       "    }\n",
       "\n",
       "    .dataframe tbody tr th {\n",
       "        vertical-align: top;\n",
       "    }\n",
       "\n",
       "    .dataframe thead th {\n",
       "        text-align: right;\n",
       "    }\n",
       "</style>\n",
       "<table border=\"1\" class=\"dataframe\">\n",
       "  <thead>\n",
       "    <tr style=\"text-align: right;\">\n",
       "      <th></th>\n",
       "      <th>name</th>\n",
       "      <th>categories</th>\n",
       "      <th>address</th>\n",
       "      <th>lat</th>\n",
       "      <th>lng</th>\n",
       "      <th>labeledLatLngs</th>\n",
       "      <th>distance</th>\n",
       "      <th>postalCode</th>\n",
       "      <th>cc</th>\n",
       "      <th>city</th>\n",
       "      <th>country</th>\n",
       "      <th>formattedAddress</th>\n",
       "      <th>state</th>\n",
       "      <th>crossStreet</th>\n",
       "      <th>id</th>\n",
       "    </tr>\n",
       "  </thead>\n",
       "  <tbody>\n",
       "    <tr>\n",
       "      <th>0</th>\n",
       "      <td>PCF School</td>\n",
       "      <td>Nursery School</td>\n",
       "      <td>59 Chai Chee Rd</td>\n",
       "      <td>1.324769</td>\n",
       "      <td>103.920616</td>\n",
       "      <td>[{'label': 'display', 'lat': 1.3247692605255204, 'lng': 103.920615794444}]</td>\n",
       "      <td>305</td>\n",
       "      <td>460059</td>\n",
       "      <td>SG</td>\n",
       "      <td>Singapore</td>\n",
       "      <td>Singapore</td>\n",
       "      <td>[59 Chai Chee Rd, 460059, Singapore]</td>\n",
       "      <td>NaN</td>\n",
       "      <td>NaN</td>\n",
       "      <td>4d5507fd48ea6ea81e6bd0a3</td>\n",
       "    </tr>\n",
       "    <tr>\n",
       "      <th>1</th>\n",
       "      <td>St. Stephen's School</td>\n",
       "      <td>School</td>\n",
       "      <td>20 Siglap View</td>\n",
       "      <td>1.319152</td>\n",
       "      <td>103.917914</td>\n",
       "      <td>[{'label': 'display', 'lat': 1.3191524339489158, 'lng': 103.91791381059554}]</td>\n",
       "      <td>414</td>\n",
       "      <td>455789</td>\n",
       "      <td>SG</td>\n",
       "      <td>Singapore</td>\n",
       "      <td>Singapore</td>\n",
       "      <td>[20 Siglap View, 455789, Singapore]</td>\n",
       "      <td>NaN</td>\n",
       "      <td>NaN</td>\n",
       "      <td>4bc584f269369521d22a8488</td>\n",
       "    </tr>\n",
       "    <tr>\n",
       "      <th>2</th>\n",
       "      <td>Happy Fish Swim School</td>\n",
       "      <td>Swim School</td>\n",
       "      <td>NaN</td>\n",
       "      <td>1.322812</td>\n",
       "      <td>103.921829</td>\n",
       "      <td>[{'label': 'display', 'lat': 1.322812, 'lng': 103.921829}]</td>\n",
       "      <td>346</td>\n",
       "      <td>467350</td>\n",
       "      <td>SG</td>\n",
       "      <td>Bedok New Town</td>\n",
       "      <td>Singapore</td>\n",
       "      <td>[467350, Singapore]</td>\n",
       "      <td>Singapore</td>\n",
       "      <td>NaN</td>\n",
       "      <td>5a59805979f6c739076f41b6</td>\n",
       "    </tr>\n",
       "    <tr>\n",
       "      <th>3</th>\n",
       "      <td>Computer Lab @ St Stephen School</td>\n",
       "      <td>College Lab</td>\n",
       "      <td>20 Siglap View</td>\n",
       "      <td>1.318655</td>\n",
       "      <td>103.918026</td>\n",
       "      <td>[{'label': 'display', 'lat': 1.318655, 'lng': 103.918026}]</td>\n",
       "      <td>466</td>\n",
       "      <td>NaN</td>\n",
       "      <td>SG</td>\n",
       "      <td>NaN</td>\n",
       "      <td>Singapore</td>\n",
       "      <td>[20 Siglap View, Singapore]</td>\n",
       "      <td>NaN</td>\n",
       "      <td>NaN</td>\n",
       "      <td>4f20eb13e4b0d23f2b45d81a</td>\n",
       "    </tr>\n",
       "    <tr>\n",
       "      <th>4</th>\n",
       "      <td>St Stephen's School Staff Room</td>\n",
       "      <td>High School</td>\n",
       "      <td>NaN</td>\n",
       "      <td>1.318632</td>\n",
       "      <td>103.917823</td>\n",
       "      <td>[{'label': 'display', 'lat': 1.3186315451606876, 'lng': 103.91782317893586}]</td>\n",
       "      <td>473</td>\n",
       "      <td>NaN</td>\n",
       "      <td>SG</td>\n",
       "      <td>Singapore</td>\n",
       "      <td>Singapore</td>\n",
       "      <td>[Singapore]</td>\n",
       "      <td>NaN</td>\n",
       "      <td>NaN</td>\n",
       "      <td>4dbf51354df0f8fd6b8482d3</td>\n",
       "    </tr>\n",
       "    <tr>\n",
       "      <th>5</th>\n",
       "      <td>Cherie Hearts International School- Changi Road</td>\n",
       "      <td>College &amp; University</td>\n",
       "      <td>NaN</td>\n",
       "      <td>1.319807</td>\n",
       "      <td>103.915138</td>\n",
       "      <td>[{'label': 'display', 'lat': 1.319807, 'lng': 103.915138}]</td>\n",
       "      <td>518</td>\n",
       "      <td>NaN</td>\n",
       "      <td>SG</td>\n",
       "      <td>Singapore</td>\n",
       "      <td>Singapore</td>\n",
       "      <td>[Singapore]</td>\n",
       "      <td>NaN</td>\n",
       "      <td>NaN</td>\n",
       "      <td>4e8be24e9adf4a7ef2e7bbb0</td>\n",
       "    </tr>\n",
       "    <tr>\n",
       "      <th>6</th>\n",
       "      <td>Hall @ Opera Estate Primary School</td>\n",
       "      <td>School</td>\n",
       "      <td>NaN</td>\n",
       "      <td>1.322058</td>\n",
       "      <td>103.923454</td>\n",
       "      <td>[{'label': 'display', 'lat': 1.3220579042734248, 'lng': 103.92345378443883}]</td>\n",
       "      <td>533</td>\n",
       "      <td>NaN</td>\n",
       "      <td>SG</td>\n",
       "      <td>NaN</td>\n",
       "      <td>Singapore</td>\n",
       "      <td>[Singapore]</td>\n",
       "      <td>NaN</td>\n",
       "      <td>NaN</td>\n",
       "      <td>4f18e8ede4b026aa4d47b729</td>\n",
       "    </tr>\n",
       "    <tr>\n",
       "      <th>7</th>\n",
       "      <td>PYSS Oasis Library</td>\n",
       "      <td>College Library</td>\n",
       "      <td>Ping Yi Secondary School</td>\n",
       "      <td>1.326899</td>\n",
       "      <td>103.920463</td>\n",
       "      <td>[{'label': 'display', 'lat': 1.3268990016717446, 'lng': 103.92046285054163}]</td>\n",
       "      <td>496</td>\n",
       "      <td>468980</td>\n",
       "      <td>SG</td>\n",
       "      <td>Singapore</td>\n",
       "      <td>Singapore</td>\n",
       "      <td>[Ping Yi Secondary School (61 Chai Chee Street), 468980, Singapore]</td>\n",
       "      <td>NaN</td>\n",
       "      <td>61 Chai Chee Street</td>\n",
       "      <td>4f1666e5e4b0380207a1ac95</td>\n",
       "    </tr>\n",
       "    <tr>\n",
       "      <th>8</th>\n",
       "      <td>PYSS Canteen</td>\n",
       "      <td>College Cafeteria</td>\n",
       "      <td>Ping Yi Secondary School (PYSS)</td>\n",
       "      <td>1.327028</td>\n",
       "      <td>103.920974</td>\n",
       "      <td>[{'label': 'display', 'lat': 1.327027598743485, 'lng': 103.92097384434508}]</td>\n",
       "      <td>534</td>\n",
       "      <td>468982</td>\n",
       "      <td>SG</td>\n",
       "      <td>Singapore</td>\n",
       "      <td>Singapore</td>\n",
       "      <td>[Ping Yi Secondary School (PYSS) (61 Chai Chee Street), 468982, Singapore]</td>\n",
       "      <td>NaN</td>\n",
       "      <td>61 Chai Chee Street</td>\n",
       "      <td>4d646abe7f84f04dfcb4f5b4</td>\n",
       "    </tr>\n",
       "  </tbody>\n",
       "</table>\n",
       "</div>"
      ],
      "text/plain": [
       "                                              name            categories  \\\n",
       "0  PCF School                                       Nursery School         \n",
       "1  St. Stephen's School                             School                 \n",
       "2  Happy Fish Swim School                           Swim School            \n",
       "3  Computer Lab @ St Stephen School                 College Lab            \n",
       "4  St Stephen's School Staff Room                   High School            \n",
       "5  Cherie Hearts International School- Changi Road  College & University   \n",
       "6  Hall @ Opera Estate Primary School               School                 \n",
       "7  PYSS Oasis Library                               College Library        \n",
       "8  PYSS Canteen                                     College Cafeteria      \n",
       "\n",
       "                           address       lat         lng  \\\n",
       "0  59 Chai Chee Rd                  1.324769  103.920616   \n",
       "1  20 Siglap View                   1.319152  103.917914   \n",
       "2  NaN                              1.322812  103.921829   \n",
       "3  20 Siglap View                   1.318655  103.918026   \n",
       "4  NaN                              1.318632  103.917823   \n",
       "5  NaN                              1.319807  103.915138   \n",
       "6  NaN                              1.322058  103.923454   \n",
       "7  Ping Yi Secondary School         1.326899  103.920463   \n",
       "8  Ping Yi Secondary School (PYSS)  1.327028  103.920974   \n",
       "\n",
       "                                                                 labeledLatLngs  \\\n",
       "0  [{'label': 'display', 'lat': 1.3247692605255204, 'lng': 103.920615794444}]     \n",
       "1  [{'label': 'display', 'lat': 1.3191524339489158, 'lng': 103.91791381059554}]   \n",
       "2  [{'label': 'display', 'lat': 1.322812, 'lng': 103.921829}]                     \n",
       "3  [{'label': 'display', 'lat': 1.318655, 'lng': 103.918026}]                     \n",
       "4  [{'label': 'display', 'lat': 1.3186315451606876, 'lng': 103.91782317893586}]   \n",
       "5  [{'label': 'display', 'lat': 1.319807, 'lng': 103.915138}]                     \n",
       "6  [{'label': 'display', 'lat': 1.3220579042734248, 'lng': 103.92345378443883}]   \n",
       "7  [{'label': 'display', 'lat': 1.3268990016717446, 'lng': 103.92046285054163}]   \n",
       "8  [{'label': 'display', 'lat': 1.327027598743485, 'lng': 103.92097384434508}]    \n",
       "\n",
       "   distance postalCode  cc            city    country  \\\n",
       "0  305       460059     SG  Singapore       Singapore   \n",
       "1  414       455789     SG  Singapore       Singapore   \n",
       "2  346       467350     SG  Bedok New Town  Singapore   \n",
       "3  466       NaN        SG  NaN             Singapore   \n",
       "4  473       NaN        SG  Singapore       Singapore   \n",
       "5  518       NaN        SG  Singapore       Singapore   \n",
       "6  533       NaN        SG  NaN             Singapore   \n",
       "7  496       468980     SG  Singapore       Singapore   \n",
       "8  534       468982     SG  Singapore       Singapore   \n",
       "\n",
       "                                                             formattedAddress  \\\n",
       "0  [59 Chai Chee Rd, 460059, Singapore]                                         \n",
       "1  [20 Siglap View, 455789, Singapore]                                          \n",
       "2  [467350, Singapore]                                                          \n",
       "3  [20 Siglap View, Singapore]                                                  \n",
       "4  [Singapore]                                                                  \n",
       "5  [Singapore]                                                                  \n",
       "6  [Singapore]                                                                  \n",
       "7  [Ping Yi Secondary School (61 Chai Chee Street), 468980, Singapore]          \n",
       "8  [Ping Yi Secondary School (PYSS) (61 Chai Chee Street), 468982, Singapore]   \n",
       "\n",
       "       state          crossStreet                        id  \n",
       "0  NaN        NaN                  4d5507fd48ea6ea81e6bd0a3  \n",
       "1  NaN        NaN                  4bc584f269369521d22a8488  \n",
       "2  Singapore  NaN                  5a59805979f6c739076f41b6  \n",
       "3  NaN        NaN                  4f20eb13e4b0d23f2b45d81a  \n",
       "4  NaN        NaN                  4dbf51354df0f8fd6b8482d3  \n",
       "5  NaN        NaN                  4e8be24e9adf4a7ef2e7bbb0  \n",
       "6  NaN        NaN                  4f18e8ede4b026aa4d47b729  \n",
       "7  NaN        61 Chai Chee Street  4f1666e5e4b0380207a1ac95  \n",
       "8  NaN        61 Chai Chee Street  4d646abe7f84f04dfcb4f5b4  "
      ]
     },
     "execution_count": 84,
     "metadata": {},
     "output_type": "execute_result"
    }
   ],
   "source": [
    "# keep only columns that include venue name, and anything that is associated with location\n",
    "filtered_columns = ['name', 'categories'] + [col for col in dataframe.columns if col.startswith('location.')] + ['id']\n",
    "dataframe_filtered = dataframe.loc[:, filtered_columns]\n",
    "\n",
    "# function that extracts the category of the venue\n",
    "def get_category_type(row):\n",
    "    try:\n",
    "        categories_list = row['categories']\n",
    "    except:\n",
    "        categories_list = row['venue.categories']\n",
    "        \n",
    "    if len(categories_list) == 0:\n",
    "        return None\n",
    "    else:\n",
    "        return categories_list[0]['name']\n",
    "\n",
    "# filter the category for each row\n",
    "dataframe_filtered['categories'] = dataframe_filtered.apply(get_category_type, axis=1)\n",
    "\n",
    "# clean column names by keeping only last term\n",
    "dataframe_filtered.columns = [column.split('.')[-1] for column in dataframe_filtered.columns]\n",
    "\n",
    "dataframe_filtered"
   ]
  },
  {
   "cell_type": "markdown",
   "metadata": {
    "button": false,
    "new_sheet": false,
    "run_control": {
     "read_only": false
    }
   },
   "source": [
    "#### Let's visualize the Italian restaurants that are nearby"
   ]
  },
  {
   "cell_type": "code",
   "execution_count": 85,
   "metadata": {
    "button": false,
    "new_sheet": false,
    "run_control": {
     "read_only": false
    }
   },
   "outputs": [
    {
     "data": {
      "text/plain": [
       "0    PCF School                                     \n",
       "1    St. Stephen's School                           \n",
       "2    Happy Fish Swim School                         \n",
       "3    Computer Lab @ St Stephen School               \n",
       "4    St Stephen's School Staff Room                 \n",
       "5    Cherie Hearts International School- Changi Road\n",
       "6    Hall @ Opera Estate Primary School             \n",
       "7    PYSS Oasis Library                             \n",
       "8    PYSS Canteen                                   \n",
       "Name: name, dtype: object"
      ]
     },
     "execution_count": 85,
     "metadata": {},
     "output_type": "execute_result"
    }
   ],
   "source": [
    "dataframe_filtered.name"
   ]
  },
  {
   "cell_type": "code",
   "execution_count": 86,
   "metadata": {
    "button": false,
    "new_sheet": false,
    "run_control": {
     "read_only": false
    },
    "scrolled": false
   },
   "outputs": [
    {
     "data": {
      "text/html": [
       "<div style=\"width:100%;\"><div style=\"position:relative;width:100%;height:0;padding-bottom:60%;\"><span style=\"color:#565656\">Make this Notebook Trusted to load map: File -> Trust Notebook</span><iframe src=\"about:blank\" style=\"position:absolute;width:100%;height:100%;left:0;top:0;border:none !important;\" data-html=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 onload=\"this.contentDocument.open();this.contentDocument.write(atob(this.getAttribute('data-html')));this.contentDocument.close();\" allowfullscreen webkitallowfullscreen mozallowfullscreen></iframe></div></div>"
      ],
      "text/plain": [
       "<folium.folium.Map at 0x11c010ad0>"
      ]
     },
     "execution_count": 86,
     "metadata": {},
     "output_type": "execute_result"
    }
   ],
   "source": [
    "venues_map = folium.Map(location=[latitude, longitude], zoom_start=13) # generate map centred around the Conrad Hotel\n",
    "\n",
    "# add a red circle marker to represent the Conrad Hotel\n",
    "folium.CircleMarker(\n",
    "    [latitude, longitude],\n",
    "    radius=10,\n",
    "    color='red',\n",
    "    popup='Conrad Hotel',\n",
    "    fill = True,\n",
    "    fill_color = 'red',\n",
    "    fill_opacity = 0.6\n",
    ").add_to(venues_map)\n",
    "\n",
    "# add the Italian restaurants as blue circle markers\n",
    "for lat, lng, label in zip(dataframe_filtered.lat, dataframe_filtered.lng, dataframe_filtered.categories):\n",
    "    folium.CircleMarker(\n",
    "        [lat, lng],\n",
    "        radius=5,\n",
    "        color='blue',\n",
    "        popup=label,\n",
    "        fill = True,\n",
    "        fill_color='blue',\n",
    "        fill_opacity=0.6\n",
    "    ).add_to(venues_map)\n",
    "\n",
    "# display map\n",
    "venues_map"
   ]
  },
  {
   "cell_type": "markdown",
   "metadata": {
    "button": false,
    "new_sheet": false,
    "run_control": {
     "read_only": false
    }
   },
   "source": [
    "   "
   ]
  },
  {
   "cell_type": "markdown",
   "metadata": {
    "button": false,
    "new_sheet": false,
    "run_control": {
     "read_only": false
    }
   },
   "source": [
    "<a id=\"item2\"></a>"
   ]
  },
  {
   "cell_type": "markdown",
   "metadata": {
    "button": false,
    "new_sheet": false,
    "run_control": {
     "read_only": false
    }
   },
   "source": [
    "## 2. Explore a Given Venue\n",
    "> `https://api.foursquare.com/v2/venues/`**VENUE_ID**`?client_id=`**CLIENT_ID**`&client_secret=`**CLIENT_SECRET**`&v=`**VERSION**"
   ]
  },
  {
   "cell_type": "markdown",
   "metadata": {
    "button": false,
    "new_sheet": false,
    "run_control": {
     "read_only": false
    }
   },
   "source": [
    "### A. Let's explore the closest Italian restaurant -- _Harry's Italian Pizza Bar_"
   ]
  },
  {
   "cell_type": "code",
   "execution_count": 87,
   "metadata": {
    "button": false,
    "new_sheet": false,
    "run_control": {
     "read_only": false
    }
   },
   "outputs": [
    {
     "data": {
      "text/plain": [
       "'https://api.foursquare.com/v2/venues/4bc584f269369521d22a8488?client_id=3Y4INY143PB3UN4KBP3STIU1LUEZUD5UEHCJEPNHLL2LQHN0&client_secret=SUISWQSDNMCZITLJXKATVCC2EUXV3QEPT2SHJXGOBTZQJAPN&v=20180604'"
      ]
     },
     "execution_count": 87,
     "metadata": {},
     "output_type": "execute_result"
    }
   ],
   "source": [
    "venue_id = '4bc584f269369521d22a8488' # ID of Harry's Italian Pizza Bar\n",
    "url = 'https://api.foursquare.com/v2/venues/{}?client_id={}&client_secret={}&v={}'.format(venue_id, CLIENT_ID, CLIENT_SECRET, VERSION)\n",
    "url"
   ]
  },
  {
   "cell_type": "markdown",
   "metadata": {
    "button": false,
    "new_sheet": false,
    "run_control": {
     "read_only": false
    }
   },
   "source": [
    "#### Send GET request for result"
   ]
  },
  {
   "cell_type": "code",
   "execution_count": 88,
   "metadata": {
    "button": false,
    "new_sheet": false,
    "run_control": {
     "read_only": false
    }
   },
   "outputs": [
    {
     "name": "stdout",
     "output_type": "stream",
     "text": [
      "dict_keys(['id', 'name', 'contact', 'location', 'canonicalUrl', 'categories', 'verified', 'stats', 'likes', 'dislike', 'ok', 'venueRatingBlacklisted', 'beenHere', 'specials', 'photos', 'reasons', 'hereNow', 'createdAt', 'tips', 'shortUrl', 'timeZone', 'listed', 'popular', 'seasonalHours', 'pageUpdates', 'inbox', 'attributes', 'bestPhoto', 'colors'])\n"
     ]
    },
    {
     "data": {
      "text/plain": [
       "{'id': '4bc584f269369521d22a8488',\n",
       " 'name': \"St. Stephen's School\",\n",
       " 'contact': {'phone': '+6564441645', 'formattedPhone': '+65 6444 1645'},\n",
       " 'location': {'address': '20 Siglap View',\n",
       "  'lat': 1.3191524339489158,\n",
       "  'lng': 103.91791381059554,\n",
       "  'labeledLatLngs': [{'label': 'display',\n",
       "    'lat': 1.3191524339489158,\n",
       "    'lng': 103.91791381059554}],\n",
       "  'postalCode': '455789',\n",
       "  'cc': 'SG',\n",
       "  'city': 'Singapore',\n",
       "  'country': 'Singapore',\n",
       "  'formattedAddress': ['20 Siglap View', '455789', 'Singapore']},\n",
       " 'canonicalUrl': 'https://foursquare.com/v/st-stephens-school/4bc584f269369521d22a8488',\n",
       " 'categories': [{'id': '4bf58dd8d48988d13b941735',\n",
       "   'name': 'School',\n",
       "   'pluralName': 'Schools',\n",
       "   'shortName': 'School',\n",
       "   'icon': {'prefix': 'https://ss3.4sqi.net/img/categories_v2/building/school_',\n",
       "    'suffix': '.png'},\n",
       "   'primary': True},\n",
       "  {'id': '4bf58dd8d48988d1ad941735',\n",
       "   'name': 'Trade School',\n",
       "   'pluralName': 'Trade Schools',\n",
       "   'shortName': 'Trade School',\n",
       "   'icon': {'prefix': 'https://ss3.4sqi.net/img/categories_v2/education/tradeschool_',\n",
       "    'suffix': '.png'}}],\n",
       " 'verified': False,\n",
       " 'stats': {'tipCount': 3},\n",
       " 'likes': {'count': 3,\n",
       "  'groups': [{'type': 'others',\n",
       "    'count': 3,\n",
       "    'items': [{'id': '37391544',\n",
       "      'firstName': 'Mheiy',\n",
       "      'lastName': 'd',\n",
       "      'photo': {'prefix': 'https://fastly.4sqi.net/img/user/',\n",
       "       'suffix': '/KNGBQWRANODMHYFW.jpg'}},\n",
       "     {'id': '47401275',\n",
       "      'firstName': 'Alan',\n",
       "      'lastName': 'S',\n",
       "      'photo': {'prefix': 'https://fastly.4sqi.net/img/user/',\n",
       "       'suffix': '/PTSNMFNC1DF4SJWK.jpg'}},\n",
       "     {'id': '121633',\n",
       "      'firstName': 'Daniel',\n",
       "      'lastName': 'T',\n",
       "      'photo': {'prefix': 'https://fastly.4sqi.net/img/user/',\n",
       "       'suffix': '/2YU05PO1VTY24L4M.jpg'}}]}],\n",
       "  'summary': '3 Likes'},\n",
       " 'dislike': False,\n",
       " 'ok': False,\n",
       " 'venueRatingBlacklisted': True,\n",
       " 'beenHere': {'count': 0,\n",
       "  'unconfirmedCount': 0,\n",
       "  'marked': False,\n",
       "  'lastCheckinExpiredAt': 0},\n",
       " 'specials': {'count': 0, 'items': []},\n",
       " 'photos': {'count': 18,\n",
       "  'groups': [{'type': 'venue',\n",
       "    'name': 'Venue photos',\n",
       "    'count': 18,\n",
       "    'items': [{'id': '515bdd1ae4b07d3b35d84869',\n",
       "      'createdAt': 1364974874,\n",
       "      'source': {'name': 'Foursquare for Android',\n",
       "       'url': 'https://foursquare.com/download/#/android'},\n",
       "      'prefix': 'https://fastly.4sqi.net/img/general/',\n",
       "      'suffix': '/23093994_6kSXHfsjV3XpWuYVzVDaAQ9Eg3oDNj8pNQtx9KZPtKs.jpg',\n",
       "      'width': 960,\n",
       "      'height': 720,\n",
       "      'user': {'id': '23093994',\n",
       "       'firstName': 'Maslinda',\n",
       "       'lastName': 'M',\n",
       "       'photo': {'prefix': 'https://fastly.4sqi.net/img/user/',\n",
       "        'suffix': '/23093994-241NADLKCSVJCSRC.jpg'}},\n",
       "      'visibility': 'public'}]}]},\n",
       " 'reasons': {'count': 0, 'items': []},\n",
       " 'hereNow': {'count': 0, 'summary': 'Nobody here', 'groups': []},\n",
       " 'createdAt': 1271235826,\n",
       " 'tips': {'count': 3,\n",
       "  'groups': [{'type': 'others',\n",
       "    'name': 'All tips',\n",
       "    'count': 3,\n",
       "    'items': [{'id': '513ee932e4b0c0d71dd85216',\n",
       "      'createdAt': 1363077426,\n",
       "      'text': 'Awesome swaggy people there',\n",
       "      'type': 'user',\n",
       "      'canonicalUrl': 'https://foursquare.com/item/513ee932e4b0c0d71dd85216',\n",
       "      'lang': 'en',\n",
       "      'likes': {'count': 0, 'groups': []},\n",
       "      'logView': True,\n",
       "      'agreeCount': 0,\n",
       "      'disagreeCount': 0,\n",
       "      'todo': {'count': 0},\n",
       "      'user': {'id': '50420608',\n",
       "       'firstName': 'Wafiq',\n",
       "       'lastName': 'H',\n",
       "       'photo': {'prefix': 'https://fastly.4sqi.net/img/user/',\n",
       "        'suffix': '/KSNDK2HPITBUJAT1.jpg'}}}]}]},\n",
       " 'shortUrl': 'http://4sq.com/9iKS2s',\n",
       " 'timeZone': 'Asia/Singapore',\n",
       " 'listed': {'count': 1,\n",
       "  'groups': [{'type': 'others',\n",
       "    'name': 'Lists from other people',\n",
       "    'count': 1,\n",
       "    'items': [{'id': '4e9ba615cc215f3add46195a',\n",
       "      'name': 'MOE Primary Schools',\n",
       "      'description': 'An exhaustive listing of Government and Government-Aided Primary Schools in Singapore.',\n",
       "      'type': 'others',\n",
       "      'user': {'id': '234324',\n",
       "       'firstName': 'gerard',\n",
       "       'lastName': 't',\n",
       "       'photo': {'prefix': 'https://fastly.4sqi.net/img/user/',\n",
       "        'suffix': '/FIH1ERWONCZI4K3D.jpg'}},\n",
       "      'editable': False,\n",
       "      'public': True,\n",
       "      'collaborative': False,\n",
       "      'url': '/user/234324/list/moe-primary-schools',\n",
       "      'canonicalUrl': 'https://foursquare.com/user/234324/list/moe-primary-schools',\n",
       "      'createdAt': 1318823445,\n",
       "      'updatedAt': 1513305124,\n",
       "      'photo': {'id': '4d2e568d915d28fd6d886f6a',\n",
       "       'createdAt': 1294882445,\n",
       "       'prefix': 'https://fastly.4sqi.net/img/general/',\n",
       "       'suffix': '/X1KQTXFLEXUNG3JXPL24A3UP3UVKSBAO0YFMRATBVTAIBSMN.jpg',\n",
       "       'width': 427,\n",
       "       'height': 240,\n",
       "       'user': {'id': '4132078',\n",
       "        'firstName': 'Yusry',\n",
       "        'lastName': 'P',\n",
       "        'photo': {'prefix': 'https://fastly.4sqi.net/img/user/',\n",
       "         'suffix': '/4132078-GW0YNVZTUU3ATJF3.jpg'}},\n",
       "       'visibility': 'public'},\n",
       "      'followers': {'count': 153},\n",
       "      'listItems': {'count': 194,\n",
       "       'items': [{'id': 'v4bc584f269369521d22a8488',\n",
       "         'createdAt': 1318909538,\n",
       "         'photo': {'id': '50add248e4b0caa69ab505d4',\n",
       "          'createdAt': 1353568840,\n",
       "          'prefix': 'https://fastly.4sqi.net/img/general/',\n",
       "          'suffix': '/39427879_Tb5pmt47CHIyKERZXoFEuAXKkrmJEIb3uxSEI8M91vY.jpg',\n",
       "          'width': 540,\n",
       "          'height': 720,\n",
       "          'user': {'id': '39427879',\n",
       "           'firstName': 'B&B',\n",
       "           'photo': {'prefix': 'https://fastly.4sqi.net/img/user/',\n",
       "            'suffix': '/39427879-EYD5ZOSQ115L1FKD.jpg'}},\n",
       "          'visibility': 'public'}}]}}]}]},\n",
       " 'popular': {'isOpen': False,\n",
       "  'isLocalHoliday': False,\n",
       "  'timeframes': [{'days': 'Today',\n",
       "    'includesToday': True,\n",
       "    'open': [{'renderedTime': '8:00 AM–11:00 AM'},\n",
       "     {'renderedTime': '6:00 PM–7:00 PM'}],\n",
       "    'segments': []},\n",
       "   {'days': 'Sun',\n",
       "    'open': [{'renderedTime': '11:00 AM–Noon'}],\n",
       "    'segments': []},\n",
       "   {'days': 'Mon',\n",
       "    'open': [{'renderedTime': '7:00 AM–10:00 AM'},\n",
       "     {'renderedTime': '1:00 PM–2:00 PM'}],\n",
       "    'segments': []},\n",
       "   {'days': 'Tue',\n",
       "    'open': [{'renderedTime': '7:00 AM–4:00 PM'}],\n",
       "    'segments': []},\n",
       "   {'days': 'Wed',\n",
       "    'open': [{'renderedTime': '7:00 AM–10:00 AM'},\n",
       "     {'renderedTime': 'Noon–3:00 PM'}],\n",
       "    'segments': []},\n",
       "   {'days': 'Thu',\n",
       "    'open': [{'renderedTime': '7:00 AM–5:00 PM'}],\n",
       "    'segments': []},\n",
       "   {'days': 'Fri',\n",
       "    'open': [{'renderedTime': '7:00 AM–3:00 PM'}],\n",
       "    'segments': []}]},\n",
       " 'seasonalHours': [],\n",
       " 'pageUpdates': {'count': 0, 'items': []},\n",
       " 'inbox': {'count': 0, 'items': []},\n",
       " 'attributes': {'groups': []},\n",
       " 'bestPhoto': {'id': '515bdd1ae4b07d3b35d84869',\n",
       "  'createdAt': 1364974874,\n",
       "  'source': {'name': 'Foursquare for Android',\n",
       "   'url': 'https://foursquare.com/download/#/android'},\n",
       "  'prefix': 'https://fastly.4sqi.net/img/general/',\n",
       "  'suffix': '/23093994_6kSXHfsjV3XpWuYVzVDaAQ9Eg3oDNj8pNQtx9KZPtKs.jpg',\n",
       "  'width': 960,\n",
       "  'height': 720,\n",
       "  'visibility': 'public'},\n",
       " 'colors': {'highlightColor': {'photoId': '515bdd1ae4b07d3b35d84869',\n",
       "   'value': -8884176},\n",
       "  'highlightTextColor': {'photoId': '515bdd1ae4b07d3b35d84869', 'value': -1},\n",
       "  'algoVersion': 3}}"
      ]
     },
     "execution_count": 88,
     "metadata": {},
     "output_type": "execute_result"
    }
   ],
   "source": [
    "result = requests.get(url).json()\n",
    "print(result['response']['venue'].keys())\n",
    "result['response']['venue']"
   ]
  },
  {
   "cell_type": "markdown",
   "metadata": {
    "button": false,
    "new_sheet": false,
    "run_control": {
     "read_only": false
    }
   },
   "source": [
    "### B. Get the venue's overall rating"
   ]
  },
  {
   "cell_type": "code",
   "execution_count": 89,
   "metadata": {
    "button": false,
    "new_sheet": false,
    "run_control": {
     "read_only": false
    }
   },
   "outputs": [
    {
     "name": "stdout",
     "output_type": "stream",
     "text": [
      "This venue has not been rated yet.\n"
     ]
    }
   ],
   "source": [
    "try:\n",
    "    print(result['response']['venue']['rating'])\n",
    "except:\n",
    "    print('This venue has not been rated yet.')"
   ]
  },
  {
   "cell_type": "markdown",
   "metadata": {
    "button": false,
    "new_sheet": false,
    "run_control": {
     "read_only": false
    }
   },
   "source": [
    "That is not a very good rating. Let's check the rating of the second closest Italian restaurant."
   ]
  },
  {
   "cell_type": "code",
   "execution_count": 90,
   "metadata": {
    "button": false,
    "new_sheet": false,
    "run_control": {
     "read_only": false
    }
   },
   "outputs": [
    {
     "name": "stdout",
     "output_type": "stream",
     "text": [
      "This venue has not been rated yet.\n"
     ]
    }
   ],
   "source": [
    "venue_id = '4f3232e219836c91c7bfde94' # ID of Conca Cucina Italian Restaurant\n",
    "url = 'https://api.foursquare.com/v2/venues/{}?client_id={}&client_secret={}&v={}'.format(venue_id, CLIENT_ID, CLIENT_SECRET, VERSION)\n",
    "\n",
    "result = requests.get(url).json()\n",
    "try:\n",
    "    print(result['response']['venue']['rating'])\n",
    "except:\n",
    "    print('This venue has not been rated yet.')"
   ]
  },
  {
   "cell_type": "markdown",
   "metadata": {
    "button": false,
    "new_sheet": false,
    "run_control": {
     "read_only": false
    }
   },
   "source": [
    "Since this restaurant has no ratings, let's check the third restaurant."
   ]
  },
  {
   "cell_type": "code",
   "execution_count": 91,
   "metadata": {
    "button": false,
    "new_sheet": false,
    "run_control": {
     "read_only": false
    }
   },
   "outputs": [
    {
     "name": "stdout",
     "output_type": "stream",
     "text": [
      "7.4\n"
     ]
    }
   ],
   "source": [
    "venue_id = '3fd66200f964a520f4e41ee3' # ID of Ecco\n",
    "url = 'https://api.foursquare.com/v2/venues/{}?client_id={}&client_secret={}&v={}'.format(venue_id, CLIENT_ID, CLIENT_SECRET, VERSION)\n",
    "\n",
    "result = requests.get(url).json()\n",
    "try:\n",
    "    print(result['response']['venue']['rating'])\n",
    "except:\n",
    "    print('This venue has not been rated yet.')"
   ]
  },
  {
   "cell_type": "markdown",
   "metadata": {
    "button": false,
    "new_sheet": false,
    "run_control": {
     "read_only": false
    }
   },
   "source": [
    "Since this restaurant has a slightly better rating, let's explore it further."
   ]
  },
  {
   "cell_type": "markdown",
   "metadata": {
    "button": false,
    "new_sheet": false,
    "run_control": {
     "read_only": false
    }
   },
   "source": [
    "### C. Get the number of tips"
   ]
  },
  {
   "cell_type": "code",
   "execution_count": 92,
   "metadata": {
    "button": false,
    "new_sheet": false,
    "run_control": {
     "read_only": false
    }
   },
   "outputs": [
    {
     "data": {
      "text/plain": [
       "19"
      ]
     },
     "execution_count": 92,
     "metadata": {},
     "output_type": "execute_result"
    }
   ],
   "source": [
    "result['response']['venue']['tips']['count']"
   ]
  },
  {
   "cell_type": "markdown",
   "metadata": {
    "button": false,
    "new_sheet": false,
    "run_control": {
     "read_only": false
    }
   },
   "source": [
    "### D. Get the venue's tips\n",
    "> `https://api.foursquare.com/v2/venues/`**VENUE_ID**`/tips?client_id=`**CLIENT_ID**`&client_secret=`**CLIENT_SECRET**`&v=`**VERSION**`&limit=`**LIMIT**"
   ]
  },
  {
   "cell_type": "markdown",
   "metadata": {
    "button": false,
    "new_sheet": false,
    "run_control": {
     "read_only": false
    }
   },
   "source": [
    "#### Create URL and send GET request. Make sure to set limit to get all tips"
   ]
  },
  {
   "cell_type": "code",
   "execution_count": 47,
   "metadata": {
    "button": false,
    "new_sheet": false,
    "run_control": {
     "read_only": false
    }
   },
   "outputs": [
    {
     "data": {
      "text/plain": [
       "{'meta': {'code': 200, 'requestId': '5ec8f93647e0d6001b33b51d'},\n",
       " 'response': {'tips': {'count': 19,\n",
       "   'items': [{'id': '5ab1cb46c9a517174651d3fe',\n",
       "     'createdAt': 1521601350,\n",
       "     'text': 'A+ Italian food! Trust me on this: my mom’s side of the family is 100% Italian. I was born and bred to know good pasta when I see it, and Ecco is one of my all-time NYC favorites',\n",
       "     'type': 'user',\n",
       "     'canonicalUrl': 'https://foursquare.com/item/5ab1cb46c9a517174651d3fe',\n",
       "     'lang': 'en',\n",
       "     'likes': {'count': 0, 'groups': []},\n",
       "     'logView': True,\n",
       "     'agreeCount': 4,\n",
       "     'disagreeCount': 0,\n",
       "     'todo': {'count': 0},\n",
       "     'user': {'id': '484542633',\n",
       "      'firstName': 'Nick',\n",
       "      'lastName': 'E',\n",
       "      'photo': {'prefix': 'https://fastly.4sqi.net/img/user/',\n",
       "       'suffix': '/484542633_unymNUmw_FdPs3GjXHujmHcYnN4hf8kEPADlOZuIrdcdm97VX3tFqL7fFNMNA_8Gl9NlU1GYg.jpg'}},\n",
       "     'authorInteractionType': 'liked'}]}}}"
      ]
     },
     "execution_count": 47,
     "metadata": {},
     "output_type": "execute_result"
    }
   ],
   "source": [
    "## Ecco Tips\n",
    "limit = 15 # set limit to be greater than or equal to the total number of tips\n",
    "url = 'https://api.foursquare.com/v2/venues/{}/tips?client_id={}&client_secret={}&v={}&limit={}'.format(venue_id, CLIENT_ID, CLIENT_SECRET, VERSION, limit)\n",
    "\n",
    "results = requests.get(url).json()\n",
    "results"
   ]
  },
  {
   "cell_type": "markdown",
   "metadata": {
    "button": false,
    "new_sheet": false,
    "run_control": {
     "read_only": false
    }
   },
   "source": [
    "#### Get tips and list of associated features"
   ]
  },
  {
   "cell_type": "code",
   "execution_count": 48,
   "metadata": {
    "button": false,
    "new_sheet": false,
    "run_control": {
     "read_only": false
    }
   },
   "outputs": [
    {
     "data": {
      "text/plain": [
       "dict_keys(['id', 'createdAt', 'text', 'type', 'canonicalUrl', 'lang', 'likes', 'logView', 'agreeCount', 'disagreeCount', 'todo', 'user', 'authorInteractionType'])"
      ]
     },
     "execution_count": 48,
     "metadata": {},
     "output_type": "execute_result"
    }
   ],
   "source": [
    "tips = results['response']['tips']['items']\n",
    "\n",
    "tip = results['response']['tips']['items'][0]\n",
    "tip.keys()"
   ]
  },
  {
   "cell_type": "markdown",
   "metadata": {
    "button": false,
    "new_sheet": false,
    "run_control": {
     "read_only": false
    }
   },
   "source": [
    "#### Format column width and display all tips"
   ]
  },
  {
   "cell_type": "code",
   "execution_count": 54,
   "metadata": {
    "button": false,
    "new_sheet": false,
    "run_control": {
     "read_only": false
    },
    "scrolled": false
   },
   "outputs": [
    {
     "name": "stderr",
     "output_type": "stream",
     "text": [
      "/opt/anaconda3/lib/python3.7/site-packages/ipykernel_launcher.py:1: FutureWarning: Passing a negative integer is deprecated in version 1.0 and will not be supported in future version. Instead, use None to not limit the column width.\n",
      "  \"\"\"Entry point for launching an IPython kernel.\n",
      "/opt/anaconda3/lib/python3.7/site-packages/ipykernel_launcher.py:3: FutureWarning: pandas.io.json.json_normalize is deprecated, use pandas.json_normalize instead\n",
      "  This is separate from the ipykernel package so we can avoid doing imports until\n"
     ]
    },
    {
     "data": {
      "text/html": [
       "<div>\n",
       "<style scoped>\n",
       "    .dataframe tbody tr th:only-of-type {\n",
       "        vertical-align: middle;\n",
       "    }\n",
       "\n",
       "    .dataframe tbody tr th {\n",
       "        vertical-align: top;\n",
       "    }\n",
       "\n",
       "    .dataframe thead th {\n",
       "        text-align: right;\n",
       "    }\n",
       "</style>\n",
       "<table border=\"1\" class=\"dataframe\">\n",
       "  <thead>\n",
       "    <tr style=\"text-align: right;\">\n",
       "      <th></th>\n",
       "      <th>text</th>\n",
       "      <th>agreeCount</th>\n",
       "      <th>disagreeCount</th>\n",
       "      <th>id</th>\n",
       "      <th>user.firstName</th>\n",
       "      <th>user.lastName</th>\n",
       "      <th>user.id</th>\n",
       "    </tr>\n",
       "  </thead>\n",
       "  <tbody>\n",
       "    <tr>\n",
       "      <th>0</th>\n",
       "      <td>A+ Italian food! Trust me on this: my mom’s side of the family is 100% Italian. I was born and bred to know good pasta when I see it, and Ecco is one of my all-time NYC favorites</td>\n",
       "      <td>4</td>\n",
       "      <td>0</td>\n",
       "      <td>5ab1cb46c9a517174651d3fe</td>\n",
       "      <td>Nick</td>\n",
       "      <td>E</td>\n",
       "      <td>484542633</td>\n",
       "    </tr>\n",
       "  </tbody>\n",
       "</table>\n",
       "</div>"
      ],
      "text/plain": [
       "                                                                                                                                                                                 text  \\\n",
       "0  A+ Italian food! Trust me on this: my mom’s side of the family is 100% Italian. I was born and bred to know good pasta when I see it, and Ecco is one of my all-time NYC favorites   \n",
       "\n",
       "   agreeCount  disagreeCount                        id user.firstName  \\\n",
       "0  4           0              5ab1cb46c9a517174651d3fe  Nick            \n",
       "\n",
       "  user.lastName    user.id  \n",
       "0  E             484542633  "
      ]
     },
     "execution_count": 54,
     "metadata": {},
     "output_type": "execute_result"
    }
   ],
   "source": [
    "pd.set_option('display.max_colwidth', -1)\n",
    "\n",
    "tips_df = json_normalize(tips) # json normalize tips\n",
    "\n",
    "# columns to keep\n",
    "filtered_columns = ['text', 'agreeCount', 'disagreeCount', 'id', 'user.firstName', 'user.lastName', 'user.gender', 'user.id']\n",
    "tips_filtered = tips_df[['text', 'agreeCount', 'disagreeCount', 'id', 'user.firstName', 'user.lastName', 'user.id']]\n",
    "\n",
    "# display tips\n",
    "tips_filtered"
   ]
  },
  {
   "cell_type": "markdown",
   "metadata": {
    "button": false,
    "new_sheet": false,
    "run_control": {
     "read_only": false
    }
   },
   "source": [
    "Now remember that because we are using a personal developer account, then we can access only 2 of the restaurant's tips, instead of all 15 tips."
   ]
  },
  {
   "cell_type": "markdown",
   "metadata": {
    "button": false,
    "new_sheet": false,
    "run_control": {
     "read_only": false
    }
   },
   "source": [
    "   "
   ]
  },
  {
   "cell_type": "markdown",
   "metadata": {
    "button": false,
    "new_sheet": false,
    "run_control": {
     "read_only": false
    }
   },
   "source": [
    "<a id=\"item3\"></a>"
   ]
  },
  {
   "cell_type": "markdown",
   "metadata": {
    "button": false,
    "new_sheet": false,
    "run_control": {
     "read_only": false
    }
   },
   "source": [
    "## 3. Search a Foursquare User\n",
    "> `https://api.foursquare.com/v2/users/`**USER_ID**`?client_id=`**CLIENT_ID**`&client_secret=`**CLIENT_SECRET**`&v=`**VERSION**"
   ]
  },
  {
   "cell_type": "markdown",
   "metadata": {
    "button": false,
    "new_sheet": false,
    "run_control": {
     "read_only": false
    }
   },
   "source": [
    "### Define URL, send GET request and display features associated with user"
   ]
  },
  {
   "cell_type": "code",
   "execution_count": 64,
   "metadata": {},
   "outputs": [
    {
     "data": {
      "text/plain": [
       "{'meta': {'code': 401,\n",
       "  'errorType': 'invalid_auth',\n",
       "  'errorDetail': 'Missing oauth_token. See https://developer.foursquare.com/docs/api/configuration/authentication for details.',\n",
       "  'requestId': '5ec9001983525f001ba949e9'},\n",
       " 'response': {}}"
      ]
     },
     "execution_count": 64,
     "metadata": {},
     "output_type": "execute_result"
    }
   ],
   "source": [
    "results"
   ]
  },
  {
   "cell_type": "code",
   "execution_count": 63,
   "metadata": {
    "button": false,
    "new_sheet": false,
    "run_control": {
     "read_only": false
    }
   },
   "outputs": [
    {
     "data": {
      "text/plain": [
       "dict_keys([])"
      ]
     },
     "execution_count": 63,
     "metadata": {},
     "output_type": "execute_result"
    }
   ],
   "source": [
    "user_id = '484542633' # user ID with most agree counts and complete profile\n",
    "\n",
    "url = 'https://api.foursquare.com/v2/users/{}?client_id={}&client_secret={}&v={}'.format(user_id, CLIENT_ID, CLIENT_SECRET, VERSION) # define URL\n",
    "\n",
    "# send GET request\n",
    "results = requests.get(url).json()\n",
    "user_data = results['response']\n",
    "\n",
    "# display features associated with user\n",
    "user_data.keys()"
   ]
  },
  {
   "cell_type": "code",
   "execution_count": 56,
   "metadata": {
    "button": false,
    "new_sheet": false,
    "run_control": {
     "read_only": false
    }
   },
   "outputs": [
    {
     "ename": "NameError",
     "evalue": "name 'user_data' is not defined",
     "output_type": "error",
     "traceback": [
      "\u001b[0;31m---------------------------------------------------------------------------\u001b[0m",
      "\u001b[0;31mNameError\u001b[0m                                 Traceback (most recent call last)",
      "\u001b[0;32m<ipython-input-56-6c3d173b902c>\u001b[0m in \u001b[0;36m<module>\u001b[0;34m\u001b[0m\n\u001b[0;32m----> 1\u001b[0;31m \u001b[0mprint\u001b[0m\u001b[0;34m(\u001b[0m\u001b[0;34m'First Name: '\u001b[0m \u001b[0;34m+\u001b[0m \u001b[0muser_data\u001b[0m\u001b[0;34m[\u001b[0m\u001b[0;34m'firstName'\u001b[0m\u001b[0;34m]\u001b[0m\u001b[0;34m)\u001b[0m\u001b[0;34m\u001b[0m\u001b[0;34m\u001b[0m\u001b[0m\n\u001b[0m\u001b[1;32m      2\u001b[0m \u001b[0mprint\u001b[0m\u001b[0;34m(\u001b[0m\u001b[0;34m'Last Name: '\u001b[0m \u001b[0;34m+\u001b[0m \u001b[0muser_data\u001b[0m\u001b[0;34m[\u001b[0m\u001b[0;34m'lastName'\u001b[0m\u001b[0;34m]\u001b[0m\u001b[0;34m)\u001b[0m\u001b[0;34m\u001b[0m\u001b[0;34m\u001b[0m\u001b[0m\n\u001b[1;32m      3\u001b[0m \u001b[0mprint\u001b[0m\u001b[0;34m(\u001b[0m\u001b[0;34m'Home City: '\u001b[0m \u001b[0;34m+\u001b[0m \u001b[0muser_data\u001b[0m\u001b[0;34m[\u001b[0m\u001b[0;34m'homeCity'\u001b[0m\u001b[0;34m]\u001b[0m\u001b[0;34m)\u001b[0m\u001b[0;34m\u001b[0m\u001b[0;34m\u001b[0m\u001b[0m\n",
      "\u001b[0;31mNameError\u001b[0m: name 'user_data' is not defined"
     ]
    }
   ],
   "source": [
    "print('First Name: ' + user_data['firstName'])\n",
    "print('Last Name: ' + user_data['lastName'])\n",
    "print('Home City: ' + user_data['homeCity'])"
   ]
  },
  {
   "cell_type": "markdown",
   "metadata": {
    "button": false,
    "new_sheet": false,
    "run_control": {
     "read_only": false
    }
   },
   "source": [
    "#### How many tips has this user submitted?"
   ]
  },
  {
   "cell_type": "code",
   "execution_count": 57,
   "metadata": {
    "button": false,
    "new_sheet": false,
    "run_control": {
     "read_only": false
    }
   },
   "outputs": [
    {
     "ename": "NameError",
     "evalue": "name 'user_data' is not defined",
     "output_type": "error",
     "traceback": [
      "\u001b[0;31m---------------------------------------------------------------------------\u001b[0m",
      "\u001b[0;31mNameError\u001b[0m                                 Traceback (most recent call last)",
      "\u001b[0;32m<ipython-input-57-6335e7dc938e>\u001b[0m in \u001b[0;36m<module>\u001b[0;34m\u001b[0m\n\u001b[0;32m----> 1\u001b[0;31m \u001b[0muser_data\u001b[0m\u001b[0;34m[\u001b[0m\u001b[0;34m'tips'\u001b[0m\u001b[0;34m]\u001b[0m\u001b[0;34m\u001b[0m\u001b[0;34m\u001b[0m\u001b[0m\n\u001b[0m",
      "\u001b[0;31mNameError\u001b[0m: name 'user_data' is not defined"
     ]
    }
   ],
   "source": [
    "user_data['tips']"
   ]
  },
  {
   "cell_type": "markdown",
   "metadata": {
    "button": false,
    "new_sheet": false,
    "run_control": {
     "read_only": false
    }
   },
   "source": [
    "Wow! So it turns out that Nick is a very active Foursquare user, with more than 250 tips."
   ]
  },
  {
   "cell_type": "markdown",
   "metadata": {
    "button": false,
    "new_sheet": false,
    "run_control": {
     "read_only": false
    }
   },
   "source": [
    "### Get User's tips"
   ]
  },
  {
   "cell_type": "code",
   "execution_count": null,
   "metadata": {
    "button": false,
    "new_sheet": false,
    "run_control": {
     "read_only": false
    },
    "scrolled": false
   },
   "outputs": [],
   "source": [
    "# define tips URL\n",
    "url = 'https://api.foursquare.com/v2/users/{}/tips?client_id={}&client_secret={}&v={}&limit={}'.format(user_id, CLIENT_ID, CLIENT_SECRET, VERSION, limit)\n",
    "\n",
    "# send GET request and get user's tips\n",
    "results = requests.get(url).json()\n",
    "tips = results['response']['tips']['items']\n",
    "\n",
    "# format column width\n",
    "pd.set_option('display.max_colwidth', -1)\n",
    "\n",
    "tips_df = json_normalize(tips)\n",
    "\n",
    "# filter columns\n",
    "filtered_columns = ['text', 'agreeCount', 'disagreeCount', 'id']\n",
    "tips_filtered = tips_df.loc[:, filtered_columns]\n",
    "\n",
    "# display user's tips\n",
    "tips_filtered"
   ]
  },
  {
   "cell_type": "markdown",
   "metadata": {
    "button": false,
    "new_sheet": false,
    "run_control": {
     "read_only": false
    }
   },
   "source": [
    "#### Let's get the venue for the tip with the greatest number of agree counts"
   ]
  },
  {
   "cell_type": "code",
   "execution_count": null,
   "metadata": {
    "button": false,
    "new_sheet": false,
    "run_control": {
     "read_only": false
    }
   },
   "outputs": [],
   "source": [
    "tip_id = '5ab5575d73fe2516ad8f363b' # tip id\n",
    "\n",
    "# define URL\n",
    "url = 'http://api.foursquare.com/v2/tips/{}?client_id={}&client_secret={}&v={}'.format(tip_id, CLIENT_ID, CLIENT_SECRET, VERSION)\n",
    "\n",
    "# send GET Request and examine results\n",
    "result = requests.get(url).json()\n",
    "print(result['response']['tip']['venue']['name'])\n",
    "print(result['response']['tip']['venue']['location'])"
   ]
  },
  {
   "cell_type": "markdown",
   "metadata": {
    "button": false,
    "new_sheet": false,
    "run_control": {
     "read_only": false
    }
   },
   "source": [
    "### Get User's friends"
   ]
  },
  {
   "cell_type": "code",
   "execution_count": null,
   "metadata": {
    "button": false,
    "new_sheet": false,
    "run_control": {
     "read_only": false
    },
    "scrolled": false
   },
   "outputs": [],
   "source": [
    "user_friends = json_normalize(user_data['friends']['groups'][0]['items'])\n",
    "user_friends"
   ]
  },
  {
   "cell_type": "markdown",
   "metadata": {
    "button": false,
    "new_sheet": false,
    "run_control": {
     "read_only": false
    }
   },
   "source": [
    "Interesting. Despite being very active, it turns out that Nick does not have any friends on Foursquare. This might definitely change in the future."
   ]
  },
  {
   "cell_type": "markdown",
   "metadata": {
    "button": false,
    "new_sheet": false,
    "run_control": {
     "read_only": false
    }
   },
   "source": [
    "### Retrieve the User's Profile Image"
   ]
  },
  {
   "cell_type": "code",
   "execution_count": null,
   "metadata": {
    "button": false,
    "new_sheet": false,
    "run_control": {
     "read_only": false
    },
    "scrolled": true
   },
   "outputs": [],
   "source": [
    "user_data"
   ]
  },
  {
   "cell_type": "code",
   "execution_count": null,
   "metadata": {
    "button": false,
    "new_sheet": false,
    "run_control": {
     "read_only": false
    }
   },
   "outputs": [],
   "source": [
    "# 1. grab prefix of photo\n",
    "# 2. grab suffix of photo\n",
    "# 3. concatenate them using the image size  \n",
    "Image(url='https://igx.4sqi.net/img/user/300x300/484542633_mK2Yum7T_7Tn9fWpndidJsmw2Hof_6T5vJBKCHPLMK5OL-U5ZiJGj51iwBstcpDLYa3Zvhvis.jpg')"
   ]
  },
  {
   "cell_type": "markdown",
   "metadata": {
    "button": false,
    "new_sheet": false,
    "run_control": {
     "read_only": false
    }
   },
   "source": [
    "  "
   ]
  },
  {
   "cell_type": "markdown",
   "metadata": {
    "button": false,
    "new_sheet": false,
    "run_control": {
     "read_only": false
    }
   },
   "source": [
    "<a id=\"item4\"></a>"
   ]
  },
  {
   "cell_type": "markdown",
   "metadata": {
    "button": false,
    "new_sheet": false,
    "run_control": {
     "read_only": false
    }
   },
   "source": [
    "## 4. Explore a location\n",
    "> `https://api.foursquare.com/v2/venues/`**explore**`?client_id=`**CLIENT_ID**`&client_secret=`**CLIENT_SECRET**`&ll=`**LATITUDE**`,`**LONGITUDE**`&v=`**VERSION**`&limit=`**LIMIT**"
   ]
  },
  {
   "cell_type": "markdown",
   "metadata": {
    "button": false,
    "new_sheet": false,
    "run_control": {
     "read_only": false
    }
   },
   "source": [
    "#### So, you just finished your gourmet dish at Ecco, and are just curious about the popular spots around the restaurant. In order to explore the area, let's start by getting the latitude and longitude values of Ecco Restaurant."
   ]
  },
  {
   "cell_type": "code",
   "execution_count": 93,
   "metadata": {
    "button": false,
    "new_sheet": false,
    "run_control": {
     "read_only": false
    }
   },
   "outputs": [],
   "source": [
    "latitude = 1.3194725\n",
    "longitude = 103.9160614"
   ]
  },
  {
   "cell_type": "markdown",
   "metadata": {
    "button": false,
    "new_sheet": false,
    "run_control": {
     "read_only": false
    }
   },
   "source": [
    "#### Define URL"
   ]
  },
  {
   "cell_type": "code",
   "execution_count": 94,
   "metadata": {
    "button": false,
    "new_sheet": false,
    "run_control": {
     "read_only": false
    }
   },
   "outputs": [
    {
     "data": {
      "text/plain": [
       "'https://api.foursquare.com/v2/venues/explore?client_id=3Y4INY143PB3UN4KBP3STIU1LUEZUD5UEHCJEPNHLL2LQHN0&client_secret=SUISWQSDNMCZITLJXKATVCC2EUXV3QEPT2SHJXGOBTZQJAPN&ll=1.3194725,103.9160614&v=20180604&radius=500&limit=30'"
      ]
     },
     "execution_count": 94,
     "metadata": {},
     "output_type": "execute_result"
    }
   ],
   "source": [
    "url = 'https://api.foursquare.com/v2/venues/explore?client_id={}&client_secret={}&ll={},{}&v={}&radius={}&limit={}'.format(CLIENT_ID, CLIENT_SECRET, latitude, longitude, VERSION, radius, LIMIT)\n",
    "url"
   ]
  },
  {
   "cell_type": "markdown",
   "metadata": {
    "button": false,
    "new_sheet": false,
    "run_control": {
     "read_only": false
    }
   },
   "source": [
    "#### Send GET request and examine results"
   ]
  },
  {
   "cell_type": "code",
   "execution_count": 95,
   "metadata": {
    "button": false,
    "new_sheet": false,
    "run_control": {
     "read_only": false
    }
   },
   "outputs": [],
   "source": [
    "import requests"
   ]
  },
  {
   "cell_type": "code",
   "execution_count": 96,
   "metadata": {
    "button": false,
    "new_sheet": false,
    "run_control": {
     "read_only": false
    }
   },
   "outputs": [
    {
     "data": {
      "text/plain": [
       "'There are 19 around Ecco restaurant.'"
      ]
     },
     "execution_count": 96,
     "metadata": {},
     "output_type": "execute_result"
    }
   ],
   "source": [
    "results = requests.get(url).json()\n",
    "'There are {} around Ecco restaurant.'.format(len(results['response']['groups'][0]['items']))"
   ]
  },
  {
   "cell_type": "markdown",
   "metadata": {
    "button": false,
    "new_sheet": false,
    "run_control": {
     "read_only": false
    }
   },
   "source": [
    "#### Get relevant part of JSON"
   ]
  },
  {
   "cell_type": "code",
   "execution_count": 69,
   "metadata": {
    "button": false,
    "new_sheet": false,
    "run_control": {
     "read_only": false
    }
   },
   "outputs": [
    {
     "data": {
      "text/plain": [
       "{'reasons': {'count': 0,\n",
       "  'items': [{'summary': 'This spot is popular',\n",
       "    'type': 'general',\n",
       "    'reasonName': 'globalInteractionReason'}]},\n",
       " 'venue': {'id': '54148bc6498ea7bb8c05b70a',\n",
       "  'name': 'Juice Press',\n",
       "  'location': {'address': '83 Murray St',\n",
       "   'crossStreet': 'btwn Greenwich St & W Broadway',\n",
       "   'lat': 40.71478769908051,\n",
       "   'lng': -74.0111317502157,\n",
       "   'labeledLatLngs': [{'label': 'display',\n",
       "     'lat': 40.71478769908051,\n",
       "     'lng': -74.0111317502157}],\n",
       "   'distance': 202,\n",
       "   'postalCode': '10007',\n",
       "   'cc': 'US',\n",
       "   'city': 'New York',\n",
       "   'state': 'NY',\n",
       "   'country': 'United States',\n",
       "   'formattedAddress': ['83 Murray St (btwn Greenwich St & W Broadway)',\n",
       "    'New York, NY 10007',\n",
       "    'United States']},\n",
       "  'categories': [{'id': '4bf58dd8d48988d1d3941735',\n",
       "    'name': 'Vegetarian / Vegan Restaurant',\n",
       "    'pluralName': 'Vegetarian / Vegan Restaurants',\n",
       "    'shortName': 'Vegetarian / Vegan',\n",
       "    'icon': {'prefix': 'https://ss3.4sqi.net/img/categories_v2/food/vegetarian_',\n",
       "     'suffix': '.png'},\n",
       "    'primary': True}],\n",
       "  'photos': {'count': 0, 'groups': []}},\n",
       " 'referralId': 'e-0-54148bc6498ea7bb8c05b70a-0'}"
      ]
     },
     "execution_count": 69,
     "metadata": {},
     "output_type": "execute_result"
    }
   ],
   "source": [
    "items = results['response']['groups'][0]['items']\n",
    "items[0]"
   ]
  },
  {
   "cell_type": "markdown",
   "metadata": {
    "button": false,
    "new_sheet": false,
    "run_control": {
     "read_only": false
    }
   },
   "source": [
    "#### Process JSON and convert it to a clean dataframe"
   ]
  },
  {
   "cell_type": "code",
   "execution_count": 97,
   "metadata": {
    "button": false,
    "new_sheet": false,
    "run_control": {
     "read_only": false
    },
    "scrolled": false
   },
   "outputs": [
    {
     "name": "stderr",
     "output_type": "stream",
     "text": [
      "/opt/anaconda3/lib/python3.7/site-packages/ipykernel_launcher.py:1: FutureWarning: pandas.io.json.json_normalize is deprecated, use pandas.json_normalize instead\n",
      "  \"\"\"Entry point for launching an IPython kernel.\n"
     ]
    },
    {
     "data": {
      "text/html": [
       "<div>\n",
       "<style scoped>\n",
       "    .dataframe tbody tr th:only-of-type {\n",
       "        vertical-align: middle;\n",
       "    }\n",
       "\n",
       "    .dataframe tbody tr th {\n",
       "        vertical-align: top;\n",
       "    }\n",
       "\n",
       "    .dataframe thead th {\n",
       "        text-align: right;\n",
       "    }\n",
       "</style>\n",
       "<table border=\"1\" class=\"dataframe\">\n",
       "  <thead>\n",
       "    <tr style=\"text-align: right;\">\n",
       "      <th></th>\n",
       "      <th>name</th>\n",
       "      <th>categories</th>\n",
       "      <th>address</th>\n",
       "      <th>crossStreet</th>\n",
       "      <th>lat</th>\n",
       "      <th>lng</th>\n",
       "      <th>labeledLatLngs</th>\n",
       "      <th>distance</th>\n",
       "      <th>postalCode</th>\n",
       "      <th>cc</th>\n",
       "      <th>city</th>\n",
       "      <th>state</th>\n",
       "      <th>country</th>\n",
       "      <th>formattedAddress</th>\n",
       "      <th>neighborhood</th>\n",
       "      <th>id</th>\n",
       "    </tr>\n",
       "  </thead>\n",
       "  <tbody>\n",
       "    <tr>\n",
       "      <th>0</th>\n",
       "      <td>Juice Press</td>\n",
       "      <td>Vegetarian / Vegan Restaurant</td>\n",
       "      <td>83 Murray St</td>\n",
       "      <td>btwn Greenwich St &amp; W Broadway</td>\n",
       "      <td>40.714788</td>\n",
       "      <td>-74.011132</td>\n",
       "      <td>[{'label': 'display', 'lat': 40.71478769908051, 'lng': -74.0111317502157}]</td>\n",
       "      <td>202</td>\n",
       "      <td>10007</td>\n",
       "      <td>US</td>\n",
       "      <td>New York</td>\n",
       "      <td>NY</td>\n",
       "      <td>United States</td>\n",
       "      <td>[83 Murray St (btwn Greenwich St &amp; W Broadway), New York, NY 10007, United States]</td>\n",
       "      <td>NaN</td>\n",
       "      <td>54148bc6498ea7bb8c05b70a</td>\n",
       "    </tr>\n",
       "    <tr>\n",
       "      <th>1</th>\n",
       "      <td>Korin</td>\n",
       "      <td>Furniture / Home Store</td>\n",
       "      <td>57 Warren St</td>\n",
       "      <td>Church St</td>\n",
       "      <td>40.714824</td>\n",
       "      <td>-74.009404</td>\n",
       "      <td>[{'label': 'display', 'lat': 40.71482437714839, 'lng': -74.00940425461492}, {'label': 'entrance', 'lat': 40.714727, 'lng': -74.009399}]</td>\n",
       "      <td>73</td>\n",
       "      <td>10007</td>\n",
       "      <td>US</td>\n",
       "      <td>New York</td>\n",
       "      <td>NY</td>\n",
       "      <td>United States</td>\n",
       "      <td>[57 Warren St (Church St), New York, NY 10007, United States]</td>\n",
       "      <td>Tribeca</td>\n",
       "      <td>4af5d65ff964a52091fd21e3</td>\n",
       "    </tr>\n",
       "    <tr>\n",
       "      <th>2</th>\n",
       "      <td>Los Tacos No. 1</td>\n",
       "      <td>Taco Place</td>\n",
       "      <td>136 Church St</td>\n",
       "      <td>NaN</td>\n",
       "      <td>40.714267</td>\n",
       "      <td>-74.008756</td>\n",
       "      <td>[{'label': 'display', 'lat': 40.714267, 'lng': -74.008756}]</td>\n",
       "      <td>119</td>\n",
       "      <td>10007</td>\n",
       "      <td>US</td>\n",
       "      <td>New York</td>\n",
       "      <td>NY</td>\n",
       "      <td>United States</td>\n",
       "      <td>[136 Church St, New York, NY 10007, United States]</td>\n",
       "      <td>NaN</td>\n",
       "      <td>5d5f24ec09484500079aee00</td>\n",
       "    </tr>\n",
       "    <tr>\n",
       "      <th>3</th>\n",
       "      <td>Takahachi Bakery</td>\n",
       "      <td>Bakery</td>\n",
       "      <td>25 Murray St</td>\n",
       "      <td>at Church St</td>\n",
       "      <td>40.713653</td>\n",
       "      <td>-74.008804</td>\n",
       "      <td>[{'label': 'display', 'lat': 40.713652845301894, 'lng': -74.0088038953017}, {'label': 'entrance', 'lat': 40.713716, 'lng': -74.008443}]</td>\n",
       "      <td>187</td>\n",
       "      <td>10007</td>\n",
       "      <td>US</td>\n",
       "      <td>New York</td>\n",
       "      <td>NY</td>\n",
       "      <td>United States</td>\n",
       "      <td>[25 Murray St (at Church St), New York, NY 10007, United States]</td>\n",
       "      <td>NaN</td>\n",
       "      <td>4c154c9a77cea593c401d260</td>\n",
       "    </tr>\n",
       "    <tr>\n",
       "      <th>4</th>\n",
       "      <td>Takahachi</td>\n",
       "      <td>Sushi Restaurant</td>\n",
       "      <td>145 Duane St</td>\n",
       "      <td>btwn W Broadway &amp; Church St</td>\n",
       "      <td>40.716526</td>\n",
       "      <td>-74.008101</td>\n",
       "      <td>[{'label': 'display', 'lat': 40.71652647412374, 'lng': -74.00810108466207}, {'label': 'entrance', 'lat': 40.716508, 'lng': -74.007989}]</td>\n",
       "      <td>146</td>\n",
       "      <td>10013</td>\n",
       "      <td>US</td>\n",
       "      <td>New York</td>\n",
       "      <td>NY</td>\n",
       "      <td>United States</td>\n",
       "      <td>[145 Duane St (btwn W Broadway &amp; Church St), New York, NY 10013, United States]</td>\n",
       "      <td>NaN</td>\n",
       "      <td>4a8f2f39f964a520471420e3</td>\n",
       "    </tr>\n",
       "    <tr>\n",
       "      <th>5</th>\n",
       "      <td>Equinox Tribeca</td>\n",
       "      <td>Gym</td>\n",
       "      <td>54 Murray St</td>\n",
       "      <td>at W Broadway</td>\n",
       "      <td>40.714099</td>\n",
       "      <td>-74.009686</td>\n",
       "      <td>[{'label': 'display', 'lat': 40.71409860726041, 'lng': -74.0096857179283}]</td>\n",
       "      <td>154</td>\n",
       "      <td>10007</td>\n",
       "      <td>US</td>\n",
       "      <td>New York</td>\n",
       "      <td>NY</td>\n",
       "      <td>United States</td>\n",
       "      <td>[54 Murray St (at W Broadway), New York, NY 10007, United States]</td>\n",
       "      <td>NaN</td>\n",
       "      <td>4a6e331af964a52031d41fe3</td>\n",
       "    </tr>\n",
       "    <tr>\n",
       "      <th>6</th>\n",
       "      <td>Whole Foods Market</td>\n",
       "      <td>Grocery Store</td>\n",
       "      <td>270 Greenwich Street</td>\n",
       "      <td>at Warren St</td>\n",
       "      <td>40.715579</td>\n",
       "      <td>-74.011368</td>\n",
       "      <td>[{'label': 'display', 'lat': 40.715579155420606, 'lng': -74.01136823958119}]</td>\n",
       "      <td>214</td>\n",
       "      <td>10007</td>\n",
       "      <td>US</td>\n",
       "      <td>New York</td>\n",
       "      <td>NY</td>\n",
       "      <td>United States</td>\n",
       "      <td>[270 Greenwich Street (at Warren St), New York, NY 10007, United States]</td>\n",
       "      <td>Tribeca</td>\n",
       "      <td>49bc3b0af964a52020541fe3</td>\n",
       "    </tr>\n",
       "    <tr>\n",
       "      <th>7</th>\n",
       "      <td>Heyday</td>\n",
       "      <td>Spa</td>\n",
       "      <td>92 Reade St</td>\n",
       "      <td>NaN</td>\n",
       "      <td>40.715726</td>\n",
       "      <td>-74.007767</td>\n",
       "      <td>[{'label': 'display', 'lat': 40.715726, 'lng': -74.007767}, {'label': 'entrance', 'lat': 40.715654, 'lng': -74.00782}]</td>\n",
       "      <td>100</td>\n",
       "      <td>10013</td>\n",
       "      <td>US</td>\n",
       "      <td>New York</td>\n",
       "      <td>NY</td>\n",
       "      <td>United States</td>\n",
       "      <td>[92 Reade St, New York, NY 10013, United States]</td>\n",
       "      <td>NaN</td>\n",
       "      <td>57ad129c498e05b086594d72</td>\n",
       "    </tr>\n",
       "    <tr>\n",
       "      <th>8</th>\n",
       "      <td>Mulberry &amp; Vine</td>\n",
       "      <td>Café</td>\n",
       "      <td>73 Warren St</td>\n",
       "      <td>B/t West Broadway &amp; Greenwich</td>\n",
       "      <td>40.715177</td>\n",
       "      <td>-74.010227</td>\n",
       "      <td>[{'label': 'display', 'lat': 40.71517693966315, 'lng': -74.01022747778285}, {'label': 'entrance', 'lat': 40.715064, 'lng': -74.010146}]</td>\n",
       "      <td>117</td>\n",
       "      <td>10007</td>\n",
       "      <td>US</td>\n",
       "      <td>New York</td>\n",
       "      <td>NY</td>\n",
       "      <td>United States</td>\n",
       "      <td>[73 Warren St (B/t West Broadway &amp; Greenwich), New York, NY 10007, United States]</td>\n",
       "      <td>NaN</td>\n",
       "      <td>5171b5cc011cef9833bbb787</td>\n",
       "    </tr>\n",
       "    <tr>\n",
       "      <th>9</th>\n",
       "      <td>The Odeon</td>\n",
       "      <td>French Restaurant</td>\n",
       "      <td>145 W Broadway</td>\n",
       "      <td>at Thomas St</td>\n",
       "      <td>40.717010</td>\n",
       "      <td>-74.008042</td>\n",
       "      <td>[{'label': 'display', 'lat': 40.71701011409906, 'lng': -74.00804244562225}]</td>\n",
       "      <td>198</td>\n",
       "      <td>10013</td>\n",
       "      <td>US</td>\n",
       "      <td>New York</td>\n",
       "      <td>NY</td>\n",
       "      <td>United States</td>\n",
       "      <td>[145 W Broadway (at Thomas St), New York, NY 10013, United States]</td>\n",
       "      <td>NaN</td>\n",
       "      <td>3fd66200f964a52083e61ee3</td>\n",
       "    </tr>\n",
       "  </tbody>\n",
       "</table>\n",
       "</div>"
      ],
      "text/plain": [
       "                 name                     categories               address  \\\n",
       "0  Juice Press         Vegetarian / Vegan Restaurant  83 Murray St           \n",
       "1  Korin               Furniture / Home Store         57 Warren St           \n",
       "2  Los Tacos No. 1     Taco Place                     136 Church St          \n",
       "3  Takahachi Bakery    Bakery                         25 Murray St           \n",
       "4  Takahachi           Sushi Restaurant               145 Duane St           \n",
       "5  Equinox Tribeca     Gym                            54 Murray St           \n",
       "6  Whole Foods Market  Grocery Store                  270 Greenwich Street   \n",
       "7  Heyday              Spa                            92 Reade St            \n",
       "8  Mulberry & Vine     Café                           73 Warren St           \n",
       "9  The Odeon           French Restaurant              145 W Broadway         \n",
       "\n",
       "                      crossStreet        lat        lng  \\\n",
       "0  btwn Greenwich St & W Broadway  40.714788 -74.011132   \n",
       "1  Church St                       40.714824 -74.009404   \n",
       "2  NaN                             40.714267 -74.008756   \n",
       "3  at Church St                    40.713653 -74.008804   \n",
       "4  btwn W Broadway & Church St     40.716526 -74.008101   \n",
       "5  at W Broadway                   40.714099 -74.009686   \n",
       "6  at Warren St                    40.715579 -74.011368   \n",
       "7  NaN                             40.715726 -74.007767   \n",
       "8  B/t West Broadway & Greenwich   40.715177 -74.010227   \n",
       "9  at Thomas St                    40.717010 -74.008042   \n",
       "\n",
       "                                                                                                                            labeledLatLngs  \\\n",
       "0  [{'label': 'display', 'lat': 40.71478769908051, 'lng': -74.0111317502157}]                                                                \n",
       "1  [{'label': 'display', 'lat': 40.71482437714839, 'lng': -74.00940425461492}, {'label': 'entrance', 'lat': 40.714727, 'lng': -74.009399}]   \n",
       "2  [{'label': 'display', 'lat': 40.714267, 'lng': -74.008756}]                                                                               \n",
       "3  [{'label': 'display', 'lat': 40.713652845301894, 'lng': -74.0088038953017}, {'label': 'entrance', 'lat': 40.713716, 'lng': -74.008443}]   \n",
       "4  [{'label': 'display', 'lat': 40.71652647412374, 'lng': -74.00810108466207}, {'label': 'entrance', 'lat': 40.716508, 'lng': -74.007989}]   \n",
       "5  [{'label': 'display', 'lat': 40.71409860726041, 'lng': -74.0096857179283}]                                                                \n",
       "6  [{'label': 'display', 'lat': 40.715579155420606, 'lng': -74.01136823958119}]                                                              \n",
       "7  [{'label': 'display', 'lat': 40.715726, 'lng': -74.007767}, {'label': 'entrance', 'lat': 40.715654, 'lng': -74.00782}]                    \n",
       "8  [{'label': 'display', 'lat': 40.71517693966315, 'lng': -74.01022747778285}, {'label': 'entrance', 'lat': 40.715064, 'lng': -74.010146}]   \n",
       "9  [{'label': 'display', 'lat': 40.71701011409906, 'lng': -74.00804244562225}]                                                               \n",
       "\n",
       "   distance postalCode  cc      city state        country  \\\n",
       "0  202       10007      US  New York  NY    United States   \n",
       "1  73        10007      US  New York  NY    United States   \n",
       "2  119       10007      US  New York  NY    United States   \n",
       "3  187       10007      US  New York  NY    United States   \n",
       "4  146       10013      US  New York  NY    United States   \n",
       "5  154       10007      US  New York  NY    United States   \n",
       "6  214       10007      US  New York  NY    United States   \n",
       "7  100       10013      US  New York  NY    United States   \n",
       "8  117       10007      US  New York  NY    United States   \n",
       "9  198       10013      US  New York  NY    United States   \n",
       "\n",
       "                                                                     formattedAddress  \\\n",
       "0  [83 Murray St (btwn Greenwich St & W Broadway), New York, NY 10007, United States]   \n",
       "1  [57 Warren St (Church St), New York, NY 10007, United States]                        \n",
       "2  [136 Church St, New York, NY 10007, United States]                                   \n",
       "3  [25 Murray St (at Church St), New York, NY 10007, United States]                     \n",
       "4  [145 Duane St (btwn W Broadway & Church St), New York, NY 10013, United States]      \n",
       "5  [54 Murray St (at W Broadway), New York, NY 10007, United States]                    \n",
       "6  [270 Greenwich Street (at Warren St), New York, NY 10007, United States]             \n",
       "7  [92 Reade St, New York, NY 10013, United States]                                     \n",
       "8  [73 Warren St (B/t West Broadway & Greenwich), New York, NY 10007, United States]    \n",
       "9  [145 W Broadway (at Thomas St), New York, NY 10013, United States]                   \n",
       "\n",
       "  neighborhood                        id  \n",
       "0  NaN          54148bc6498ea7bb8c05b70a  \n",
       "1  Tribeca      4af5d65ff964a52091fd21e3  \n",
       "2  NaN          5d5f24ec09484500079aee00  \n",
       "3  NaN          4c154c9a77cea593c401d260  \n",
       "4  NaN          4a8f2f39f964a520471420e3  \n",
       "5  NaN          4a6e331af964a52031d41fe3  \n",
       "6  Tribeca      49bc3b0af964a52020541fe3  \n",
       "7  NaN          57ad129c498e05b086594d72  \n",
       "8  NaN          5171b5cc011cef9833bbb787  \n",
       "9  NaN          3fd66200f964a52083e61ee3  "
      ]
     },
     "execution_count": 97,
     "metadata": {},
     "output_type": "execute_result"
    }
   ],
   "source": [
    "dataframe = json_normalize(items) # flatten JSON\n",
    "\n",
    "# filter columns\n",
    "filtered_columns = ['venue.name', 'venue.categories'] + [col for col in dataframe.columns if col.startswith('venue.location.')] + ['venue.id']\n",
    "dataframe_filtered = dataframe.loc[:, filtered_columns]\n",
    "\n",
    "# filter the category for each row\n",
    "dataframe_filtered['venue.categories'] = dataframe_filtered.apply(get_category_type, axis=1)\n",
    "\n",
    "# clean columns\n",
    "dataframe_filtered.columns = [col.split('.')[-1] for col in dataframe_filtered.columns]\n",
    "\n",
    "dataframe_filtered.head(10)"
   ]
  },
  {
   "cell_type": "markdown",
   "metadata": {
    "button": false,
    "new_sheet": false,
    "run_control": {
     "read_only": false
    }
   },
   "source": [
    "#### Let's visualize these items on the map around our location"
   ]
  },
  {
   "cell_type": "code",
   "execution_count": 72,
   "metadata": {
    "button": false,
    "new_sheet": false,
    "run_control": {
     "read_only": false
    }
   },
   "outputs": [
    {
     "data": {
      "text/html": [
       "<div style=\"width:100%;\"><div style=\"position:relative;width:100%;height:0;padding-bottom:60%;\"><span style=\"color:#565656\">Make this Notebook Trusted to load map: File -> Trust Notebook</span><iframe src=\"about:blank\" style=\"position:absolute;width:100%;height:100%;left:0;top:0;border:none !important;\" data-html=PCFET0NUWVBFIGh0bWw+CjxoZWFkPiAgICAKICAgIDxtZXRhIGh0dHAtZXF1aXY9ImNvbnRlbnQtdHlwZSIgY29udGVudD0idGV4dC9odG1sOyBjaGFyc2V0PVVURi04IiAvPgogICAgCiAgICAgICAgPHNjcmlwdD4KICAgICAgICAgICAgTF9OT19UT1VDSCA9IGZhbHNlOwogICAgICAgICAgICBMX0RJU0FCTEVfM0QgPSBmYWxzZTsKICAgICAgICA8L3NjcmlwdD4KICAgIAogICAgPHNjcmlwdCBzcmM9Imh0dHBzOi8vY2RuLmpzZGVsaXZyLm5ldC9ucG0vbGVhZmxldEAxLjYuMC9kaXN0L2xlYWZsZXQuanMiPjwvc2NyaXB0PgogICAgPHNjcmlwdCBzcmM9Imh0dHBzOi8vY29kZS5qcXVlcnkuY29tL2pxdWVyeS0xLjEyLjQubWluLmpzIj48L3NjcmlwdD4KICAgIDxzY3JpcHQgc3JjPSJodHRwczovL21heGNkbi5ib290c3RyYXBjZG4uY29tL2Jvb3RzdHJhcC8zLjIuMC9qcy9ib290c3RyYXAubWluLmpzIj48L3NjcmlwdD4KICAgIDxzY3JpcHQgc3JjPSJodHRwczovL2NkbmpzLmNsb3VkZmxhcmUuY29tL2FqYXgvbGlicy9MZWFmbGV0LmF3ZXNvbWUtbWFya2Vycy8yLjAuMi9sZWFmbGV0LmF3ZXNvbWUtbWFya2Vycy5qcyI+PC9zY3JpcHQ+CiAgICA8bGluayByZWw9InN0eWxlc2hlZXQiIGhyZWY9Imh0dHBzOi8vY2RuLmpzZGVsaXZyLm5ldC9ucG0vbGVhZmxldEAxLjYuMC9kaXN0L2xlYWZsZXQuY3NzIi8+CiAgICA8bGluayByZWw9InN0eWxlc2hlZXQiIGhyZWY9Imh0dHBzOi8vbWF4Y2RuLmJvb3RzdHJhcGNkbi5jb20vYm9vdHN0cmFwLzMuMi4wL2Nzcy9ib290c3RyYXAubWluLmNzcyIvPgogICAgPGxpbmsgcmVsPSJzdHlsZXNoZWV0IiBocmVmPSJodHRwczovL21heGNkbi5ib290c3RyYXBjZG4uY29tL2Jvb3RzdHJhcC8zLjIuMC9jc3MvYm9vdHN0cmFwLXRoZW1lLm1pbi5jc3MiLz4KICAgIDxsaW5rIHJlbD0ic3R5bGVzaGVldCIgaHJlZj0iaHR0cHM6Ly9tYXhjZG4uYm9vdHN0cmFwY2RuLmNvbS9mb250LWF3ZXNvbWUvNC42LjMvY3NzL2ZvbnQtYXdlc29tZS5taW4uY3NzIi8+CiAgICA8bGluayByZWw9InN0eWxlc2hlZXQiIGhyZWY9Imh0dHBzOi8vY2RuanMuY2xvdWRmbGFyZS5jb20vYWpheC9saWJzL0xlYWZsZXQuYXdlc29tZS1tYXJrZXJzLzIuMC4yL2xlYWZsZXQuYXdlc29tZS1tYXJrZXJzLmNzcyIvPgogICAgPGxpbmsgcmVsPSJzdHlsZXNoZWV0IiBocmVmPSJodHRwczovL3Jhd2Nkbi5naXRoYWNrLmNvbS9weXRob24tdmlzdWFsaXphdGlvbi9mb2xpdW0vbWFzdGVyL2ZvbGl1bS90ZW1wbGF0ZXMvbGVhZmxldC5hd2Vzb21lLnJvdGF0ZS5jc3MiLz4KICAgIDxzdHlsZT5odG1sLCBib2R5IHt3aWR0aDogMTAwJTtoZWlnaHQ6IDEwMCU7bWFyZ2luOiAwO3BhZGRpbmc6IDA7fTwvc3R5bGU+CiAgICA8c3R5bGU+I21hcCB7cG9zaXRpb246YWJzb2x1dGU7dG9wOjA7Ym90dG9tOjA7cmlnaHQ6MDtsZWZ0OjA7fTwvc3R5bGU+CiAgICAKICAgICAgICAgICAgPG1ldGEgbmFtZT0idmlld3BvcnQiIGNvbnRlbnQ9IndpZHRoPWRldmljZS13aWR0aCwKICAgICAgICAgICAgICAgIGluaXRpYWwtc2NhbGU9MS4wLCBtYXhpbXVtLXNjYWxlPTEuMCwgdXNlci1zY2FsYWJsZT1ubyIgLz4KICAgICAgICAgICAgPHN0eWxlPgogICAgICAgICAgICAgICAgI21hcF9lODE0YWM5NmMzN2U0NWZhYjliMWI2MDM1MGM2YzkzNSB7CiAgICAgICAgICAgICAgICAgICAgcG9zaXRpb246IHJlbGF0aXZlOwogICAgICAgICAgICAgICAgICAgIHdpZHRoOiAxMDAuMCU7CiAgICAgICAgICAgICAgICAgICAgaGVpZ2h0OiAxMDAuMCU7CiAgICAgICAgICAgICAgICAgICAgbGVmdDogMC4wJTsKICAgICAgICAgICAgICAgICAgICB0b3A6IDAuMCU7CiAgICAgICAgICAgICAgICB9CiAgICAgICAgICAgIDwvc3R5bGU+CiAgICAgICAgCjwvaGVhZD4KPGJvZHk+ICAgIAogICAgCiAgICAgICAgICAgIDxkaXYgY2xhc3M9ImZvbGl1bS1tYXAiIGlkPSJtYXBfZTgxNGFjOTZjMzdlNDVmYWI5YjFiNjAzNTBjNmM5MzUiID48L2Rpdj4KICAgICAgICAKPC9ib2R5Pgo8c2NyaXB0PiAgICAKICAgIAogICAgICAgICAgICB2YXIgbWFwX2U4MTRhYzk2YzM3ZTQ1ZmFiOWIxYjYwMzUwYzZjOTM1ID0gTC5tYXAoCiAgICAgICAgICAgICAgICAibWFwX2U4MTRhYzk2YzM3ZTQ1ZmFiOWIxYjYwMzUwYzZjOTM1IiwKICAgICAgICAgICAgICAgIHsKICAgICAgICAgICAgICAgICAgICBjZW50ZXI6IFs0MC43MTUzMzcsIC03NC4wMDg4NDhdLAogICAgICAgICAgICAgICAgICAgIGNyczogTC5DUlMuRVBTRzM4NTcsCiAgICAgICAgICAgICAgICAgICAgem9vbTogMTUsCiAgICAgICAgICAgICAgICAgICAgem9vbUNvbnRyb2w6IHRydWUsCiAgICAgICAgICAgICAgICAgICAgcHJlZmVyQ2FudmFzOiBmYWxzZSwKICAgICAgICAgICAgICAgIH0KICAgICAgICAgICAgKTsKCiAgICAgICAgICAgIAoKICAgICAgICAKICAgIAogICAgICAgICAgICB2YXIgdGlsZV9sYXllcl9jNWJlMGFhNWM4MTU0MmZmYmM4MDE0ZGZhYmEyZGQzMSA9IEwudGlsZUxheWVyKAogICAgICAgICAgICAgICAgImh0dHBzOi8ve3N9LnRpbGUub3BlbnN0cmVldG1hcC5vcmcve3p9L3t4fS97eX0ucG5nIiwKICAgICAgICAgICAgICAgIHsiYXR0cmlidXRpb24iOiAiRGF0YSBieSBcdTAwMjZjb3B5OyBcdTAwM2NhIGhyZWY9XCJodHRwOi8vb3BlbnN0cmVldG1hcC5vcmdcIlx1MDAzZU9wZW5TdHJlZXRNYXBcdTAwM2MvYVx1MDAzZSwgdW5kZXIgXHUwMDNjYSBocmVmPVwiaHR0cDovL3d3dy5vcGVuc3RyZWV0bWFwLm9yZy9jb3B5cmlnaHRcIlx1MDAzZU9EYkxcdTAwM2MvYVx1MDAzZS4iLCAiZGV0ZWN0UmV0aW5hIjogZmFsc2UsICJtYXhOYXRpdmVab29tIjogMTgsICJtYXhab29tIjogMTgsICJtaW5ab29tIjogMCwgIm5vV3JhcCI6IGZhbHNlLCAib3BhY2l0eSI6IDEsICJzdWJkb21haW5zIjogImFiYyIsICJ0bXMiOiBmYWxzZX0KICAgICAgICAgICAgKS5hZGRUbyhtYXBfZTgxNGFjOTZjMzdlNDVmYWI5YjFiNjAzNTBjNmM5MzUpOwogICAgICAgIAogICAgCiAgICAgICAgICAgIHZhciBjaXJjbGVfbWFya2VyXzRjNjdhMTQ0MTkxMjQxYzJiOTIzOTJiNjRmOWY1YmQ3ID0gTC5jaXJjbGVNYXJrZXIoCiAgICAgICAgICAgICAgICBbNDAuNzE1MzM3LCAtNzQuMDA4ODQ4XSwKICAgICAgICAgICAgICAgIHsiYnViYmxpbmdNb3VzZUV2ZW50cyI6IHRydWUsICJjb2xvciI6ICJyZWQiLCAiZGFzaEFycmF5IjogbnVsbCwgImRhc2hPZmZzZXQiOiBudWxsLCAiZmlsbCI6IHRydWUsICJmaWxsQ29sb3IiOiAicmVkIiwgImZpbGxPcGFjaXR5IjogMC42LCAiZmlsbFJ1bGUiOiAiZXZlbm9kZCIsICJsaW5lQ2FwIjogInJvdW5kIiwgImxpbmVKb2luIjogInJvdW5kIiwgIm9wYWNpdHkiOiAxLjAsICJyYWRpdXMiOiAxMCwgInN0cm9rZSI6IHRydWUsICJ3ZWlnaHQiOiAzfQogICAgICAgICAgICApLmFkZFRvKG1hcF9lODE0YWM5NmMzN2U0NWZhYjliMWI2MDM1MGM2YzkzNSk7CiAgICAgICAgCiAgICAKICAgICAgICB2YXIgcG9wdXBfNGRiNDI2YmM5MjA4NGEyNTgxYjgwYjg4NjU5OGRhNjEgPSBMLnBvcHVwKHsibWF4V2lkdGgiOiAiMTAwJSJ9KTsKCiAgICAgICAgCiAgICAgICAgICAgIHZhciBodG1sXzRkM2EwY2JlMDFkNDQ5YmM4NzBhMmQ4MTBmYTcyOTcyID0gJChgPGRpdiBpZD0iaHRtbF80ZDNhMGNiZTAxZDQ0OWJjODcwYTJkODEwZmE3Mjk3MiIgc3R5bGU9IndpZHRoOiAxMDAuMCU7IGhlaWdodDogMTAwLjAlOyI+RWNjbzwvZGl2PmApWzBdOwogICAgICAgICAgICBwb3B1cF80ZGI0MjZiYzkyMDg0YTI1ODFiODBiODg2NTk4ZGE2MS5zZXRDb250ZW50KGh0bWxfNGQzYTBjYmUwMWQ0NDliYzg3MGEyZDgxMGZhNzI5NzIpOwogICAgICAgIAoKICAgICAgICBjaXJjbGVfbWFya2VyXzRjNjdhMTQ0MTkxMjQxYzJiOTIzOTJiNjRmOWY1YmQ3LmJpbmRQb3B1cChwb3B1cF80ZGI0MjZiYzkyMDg0YTI1ODFiODBiODg2NTk4ZGE2MSkKICAgICAgICA7CgogICAgICAgIAogICAgCiAgICAKICAgICAgICAgICAgdmFyIGNpcmNsZV9tYXJrZXJfYmQzNGMzZGQ3MmQwNDA0YmFkZDU2MjMyZDI1NjFjYTcgPSBMLmNpcmNsZU1hcmtlcigKICAgICAgICAgICAgICAgIFs0MC43MTQ3ODc2OTkwODA1MSwgLTc0LjAxMTEzMTc1MDIxNTddLAogICAgICAgICAgICAgICAgeyJidWJibGluZ01vdXNlRXZlbnRzIjogdHJ1ZSwgImNvbG9yIjogImJsdWUiLCAiZGFzaEFycmF5IjogbnVsbCwgImRhc2hPZmZzZXQiOiBudWxsLCAiZmlsbCI6IHRydWUsICJmaWxsQ29sb3IiOiAiYmx1ZSIsICJmaWxsT3BhY2l0eSI6IDAuNiwgImZpbGxSdWxlIjogImV2ZW5vZGQiLCAibGluZUNhcCI6ICJyb3VuZCIsICJsaW5lSm9pbiI6ICJyb3VuZCIsICJvcGFjaXR5IjogMS4wLCAicmFkaXVzIjogNSwgInN0cm9rZSI6IHRydWUsICJ3ZWlnaHQiOiAzfQogICAgICAgICAgICApLmFkZFRvKG1hcF9lODE0YWM5NmMzN2U0NWZhYjliMWI2MDM1MGM2YzkzNSk7CiAgICAgICAgCiAgICAKICAgICAgICB2YXIgcG9wdXBfOTU4MGZkNjE5NTkyNDNiNjliZjRhZWY4OTNmNDQ2NzIgPSBMLnBvcHVwKHsibWF4V2lkdGgiOiAiMTAwJSJ9KTsKCiAgICAgICAgCiAgICAgICAgICAgIHZhciBodG1sXzQxNTU1MjZjZTNlMjRjMGJhMDJhOWE0NzMyNmI2MzFjID0gJChgPGRpdiBpZD0iaHRtbF80MTU1NTI2Y2UzZTI0YzBiYTAyYTlhNDczMjZiNjMxYyIgc3R5bGU9IndpZHRoOiAxMDAuMCU7IGhlaWdodDogMTAwLjAlOyI+VmVnZXRhcmlhbiAvIFZlZ2FuIFJlc3RhdXJhbnQ8L2Rpdj5gKVswXTsKICAgICAgICAgICAgcG9wdXBfOTU4MGZkNjE5NTkyNDNiNjliZjRhZWY4OTNmNDQ2NzIuc2V0Q29udGVudChodG1sXzQxNTU1MjZjZTNlMjRjMGJhMDJhOWE0NzMyNmI2MzFjKTsKICAgICAgICAKCiAgICAgICAgY2lyY2xlX21hcmtlcl9iZDM0YzNkZDcyZDA0MDRiYWRkNTYyMzJkMjU2MWNhNy5iaW5kUG9wdXAocG9wdXBfOTU4MGZkNjE5NTkyNDNiNjliZjRhZWY4OTNmNDQ2NzIpCiAgICAgICAgOwoKICAgICAgICAKICAgIAogICAgCiAgICAgICAgICAgIHZhciBjaXJjbGVfbWFya2VyX2I3NDFlNjAzMDRjNzRkMDlhYmIzZDQ0YmMxYWY1ZjBiID0gTC5jaXJjbGVNYXJrZXIoCiAgICAgICAgICAgICAgICBbNDAuNzE0ODI0Mzc3MTQ4MzksIC03NC4wMDk0MDQyNTQ2MTQ5Ml0sCiAgICAgICAgICAgICAgICB7ImJ1YmJsaW5nTW91c2VFdmVudHMiOiB0cnVlLCAiY29sb3IiOiAiYmx1ZSIsICJkYXNoQXJyYXkiOiBudWxsLCAiZGFzaE9mZnNldCI6IG51bGwsICJmaWxsIjogdHJ1ZSwgImZpbGxDb2xvciI6ICJibHVlIiwgImZpbGxPcGFjaXR5IjogMC42LCAiZmlsbFJ1bGUiOiAiZXZlbm9kZCIsICJsaW5lQ2FwIjogInJvdW5kIiwgImxpbmVKb2luIjogInJvdW5kIiwgIm9wYWNpdHkiOiAxLjAsICJyYWRpdXMiOiA1LCAic3Ryb2tlIjogdHJ1ZSwgIndlaWdodCI6IDN9CiAgICAgICAgICAgICkuYWRkVG8obWFwX2U4MTRhYzk2YzM3ZTQ1ZmFiOWIxYjYwMzUwYzZjOTM1KTsKICAgICAgICAKICAgIAogICAgICAgIHZhciBwb3B1cF9lMTVmODFmYzkyMWQ0N2IzOTFhOTI4Y2RkMzQ0ZDdmOCA9IEwucG9wdXAoeyJtYXhXaWR0aCI6ICIxMDAlIn0pOwoKICAgICAgICAKICAgICAgICAgICAgdmFyIGh0bWxfMWE4ZTU4YmYxMjI0NDljMzg3YmQ2ZDFjY2RlNmNiZTQgPSAkKGA8ZGl2IGlkPSJodG1sXzFhOGU1OGJmMTIyNDQ5YzM4N2JkNmQxY2NkZTZjYmU0IiBzdHlsZT0id2lkdGg6IDEwMC4wJTsgaGVpZ2h0OiAxMDAuMCU7Ij5GdXJuaXR1cmUgLyBIb21lIFN0b3JlPC9kaXY+YClbMF07CiAgICAgICAgICAgIHBvcHVwX2UxNWY4MWZjOTIxZDQ3YjM5MWE5MjhjZGQzNDRkN2Y4LnNldENvbnRlbnQoaHRtbF8xYThlNThiZjEyMjQ0OWMzODdiZDZkMWNjZGU2Y2JlNCk7CiAgICAgICAgCgogICAgICAgIGNpcmNsZV9tYXJrZXJfYjc0MWU2MDMwNGM3NGQwOWFiYjNkNDRiYzFhZjVmMGIuYmluZFBvcHVwKHBvcHVwX2UxNWY4MWZjOTIxZDQ3YjM5MWE5MjhjZGQzNDRkN2Y4KQogICAgICAgIDsKCiAgICAgICAgCiAgICAKICAgIAogICAgICAgICAgICB2YXIgY2lyY2xlX21hcmtlcl9kNzQwMjM2N2M4MzY0ZjNhOWUzZGY5YmIxOTk3YzA4NyA9IEwuY2lyY2xlTWFya2VyKAogICAgICAgICAgICAgICAgWzQwLjcxNDI2NywgLTc0LjAwODc1Nl0sCiAgICAgICAgICAgICAgICB7ImJ1YmJsaW5nTW91c2VFdmVudHMiOiB0cnVlLCAiY29sb3IiOiAiYmx1ZSIsICJkYXNoQXJyYXkiOiBudWxsLCAiZGFzaE9mZnNldCI6IG51bGwsICJmaWxsIjogdHJ1ZSwgImZpbGxDb2xvciI6ICJibHVlIiwgImZpbGxPcGFjaXR5IjogMC42LCAiZmlsbFJ1bGUiOiAiZXZlbm9kZCIsICJsaW5lQ2FwIjogInJvdW5kIiwgImxpbmVKb2luIjogInJvdW5kIiwgIm9wYWNpdHkiOiAxLjAsICJyYWRpdXMiOiA1LCAic3Ryb2tlIjogdHJ1ZSwgIndlaWdodCI6IDN9CiAgICAgICAgICAgICkuYWRkVG8obWFwX2U4MTRhYzk2YzM3ZTQ1ZmFiOWIxYjYwMzUwYzZjOTM1KTsKICAgICAgICAKICAgIAogICAgICAgIHZhciBwb3B1cF9mYjU5MzliNzhmMDU0ODc1YmE4MTlkYWI4MWQ3OTFiOSA9IEwucG9wdXAoeyJtYXhXaWR0aCI6ICIxMDAlIn0pOwoKICAgICAgICAKICAgICAgICAgICAgdmFyIGh0bWxfY2MyZThkNDViNGE2NGRlMmFlZTA2ZjZkOTJjZmRmODEgPSAkKGA8ZGl2IGlkPSJodG1sX2NjMmU4ZDQ1YjRhNjRkZTJhZWUwNmY2ZDkyY2ZkZjgxIiBzdHlsZT0id2lkdGg6IDEwMC4wJTsgaGVpZ2h0OiAxMDAuMCU7Ij5UYWNvIFBsYWNlPC9kaXY+YClbMF07CiAgICAgICAgICAgIHBvcHVwX2ZiNTkzOWI3OGYwNTQ4NzViYTgxOWRhYjgxZDc5MWI5LnNldENvbnRlbnQoaHRtbF9jYzJlOGQ0NWI0YTY0ZGUyYWVlMDZmNmQ5MmNmZGY4MSk7CiAgICAgICAgCgogICAgICAgIGNpcmNsZV9tYXJrZXJfZDc0MDIzNjdjODM2NGYzYTllM2RmOWJiMTk5N2MwODcuYmluZFBvcHVwKHBvcHVwX2ZiNTkzOWI3OGYwNTQ4NzViYTgxOWRhYjgxZDc5MWI5KQogICAgICAgIDsKCiAgICAgICAgCiAgICAKICAgIAogICAgICAgICAgICB2YXIgY2lyY2xlX21hcmtlcl81Y2ZjYzg4YjAwMzM0YzRkODJkM2QzNTdhYzRiMGI0MyA9IEwuY2lyY2xlTWFya2VyKAogICAgICAgICAgICAgICAgWzQwLjcxMzY1Mjg0NTMwMTg5NCwgLTc0LjAwODgwMzg5NTMwMTddLAogICAgICAgICAgICAgICAgeyJidWJibGluZ01vdXNlRXZlbnRzIjogdHJ1ZSwgImNvbG9yIjogImJsdWUiLCAiZGFzaEFycmF5IjogbnVsbCwgImRhc2hPZmZzZXQiOiBudWxsLCAiZmlsbCI6IHRydWUsICJmaWxsQ29sb3IiOiAiYmx1ZSIsICJmaWxsT3BhY2l0eSI6IDAuNiwgImZpbGxSdWxlIjogImV2ZW5vZGQiLCAibGluZUNhcCI6ICJyb3VuZCIsICJsaW5lSm9pbiI6ICJyb3VuZCIsICJvcGFjaXR5IjogMS4wLCAicmFkaXVzIjogNSwgInN0cm9rZSI6IHRydWUsICJ3ZWlnaHQiOiAzfQogICAgICAgICAgICApLmFkZFRvKG1hcF9lODE0YWM5NmMzN2U0NWZhYjliMWI2MDM1MGM2YzkzNSk7CiAgICAgICAgCiAgICAKICAgICAgICB2YXIgcG9wdXBfZjVhMDU0ZDk1Y2ZhNGM1Zjg2N2RmMDY2OWM1NWE0ZTEgPSBMLnBvcHVwKHsibWF4V2lkdGgiOiAiMTAwJSJ9KTsKCiAgICAgICAgCiAgICAgICAgICAgIHZhciBodG1sXzk4NTI2MWY0OWMzZjRjYjA4MjEwMWUyOTQzZTdhZWM5ID0gJChgPGRpdiBpZD0iaHRtbF85ODUyNjFmNDljM2Y0Y2IwODIxMDFlMjk0M2U3YWVjOSIgc3R5bGU9IndpZHRoOiAxMDAuMCU7IGhlaWdodDogMTAwLjAlOyI+QmFrZXJ5PC9kaXY+YClbMF07CiAgICAgICAgICAgIHBvcHVwX2Y1YTA1NGQ5NWNmYTRjNWY4NjdkZjA2NjljNTVhNGUxLnNldENvbnRlbnQoaHRtbF85ODUyNjFmNDljM2Y0Y2IwODIxMDFlMjk0M2U3YWVjOSk7CiAgICAgICAgCgogICAgICAgIGNpcmNsZV9tYXJrZXJfNWNmY2M4OGIwMDMzNGM0ZDgyZDNkMzU3YWM0YjBiNDMuYmluZFBvcHVwKHBvcHVwX2Y1YTA1NGQ5NWNmYTRjNWY4NjdkZjA2NjljNTVhNGUxKQogICAgICAgIDsKCiAgICAgICAgCiAgICAKICAgIAogICAgICAgICAgICB2YXIgY2lyY2xlX21hcmtlcl9lNmZhNjI2MGM2MjE0ZmQ1ODY2ZDA1OTk3YmFjZTI2ZiA9IEwuY2lyY2xlTWFya2VyKAogICAgICAgICAgICAgICAgWzQwLjcxNjUyNjQ3NDEyMzc0LCAtNzQuMDA4MTAxMDg0NjYyMDddLAogICAgICAgICAgICAgICAgeyJidWJibGluZ01vdXNlRXZlbnRzIjogdHJ1ZSwgImNvbG9yIjogImJsdWUiLCAiZGFzaEFycmF5IjogbnVsbCwgImRhc2hPZmZzZXQiOiBudWxsLCAiZmlsbCI6IHRydWUsICJmaWxsQ29sb3IiOiAiYmx1ZSIsICJmaWxsT3BhY2l0eSI6IDAuNiwgImZpbGxSdWxlIjogImV2ZW5vZGQiLCAibGluZUNhcCI6ICJyb3VuZCIsICJsaW5lSm9pbiI6ICJyb3VuZCIsICJvcGFjaXR5IjogMS4wLCAicmFkaXVzIjogNSwgInN0cm9rZSI6IHRydWUsICJ3ZWlnaHQiOiAzfQogICAgICAgICAgICApLmFkZFRvKG1hcF9lODE0YWM5NmMzN2U0NWZhYjliMWI2MDM1MGM2YzkzNSk7CiAgICAgICAgCiAgICAKICAgICAgICB2YXIgcG9wdXBfYjAxY2UwZTYwZjlhNDVmMGJhNjAyZGFiMGM1NzM0ZmQgPSBMLnBvcHVwKHsibWF4V2lkdGgiOiAiMTAwJSJ9KTsKCiAgICAgICAgCiAgICAgICAgICAgIHZhciBodG1sX2NhMDNjOTgwMTNmZTRkZjE5ZDlmN2E2M2Q1MDJhMGZjID0gJChgPGRpdiBpZD0iaHRtbF9jYTAzYzk4MDEzZmU0ZGYxOWQ5ZjdhNjNkNTAyYTBmYyIgc3R5bGU9IndpZHRoOiAxMDAuMCU7IGhlaWdodDogMTAwLjAlOyI+U3VzaGkgUmVzdGF1cmFudDwvZGl2PmApWzBdOwogICAgICAgICAgICBwb3B1cF9iMDFjZTBlNjBmOWE0NWYwYmE2MDJkYWIwYzU3MzRmZC5zZXRDb250ZW50KGh0bWxfY2EwM2M5ODAxM2ZlNGRmMTlkOWY3YTYzZDUwMmEwZmMpOwogICAgICAgIAoKICAgICAgICBjaXJjbGVfbWFya2VyX2U2ZmE2MjYwYzYyMTRmZDU4NjZkMDU5OTdiYWNlMjZmLmJpbmRQb3B1cChwb3B1cF9iMDFjZTBlNjBmOWE0NWYwYmE2MDJkYWIwYzU3MzRmZCkKICAgICAgICA7CgogICAgICAgIAogICAgCiAgICAKICAgICAgICAgICAgdmFyIGNpcmNsZV9tYXJrZXJfY2E2MDYzMjYxOWUwNDI5NWE5NGYyZTlmMDZlZTkyNGQgPSBMLmNpcmNsZU1hcmtlcigKICAgICAgICAgICAgICAgIFs0MC43MTQwOTg2MDcyNjA0MSwgLTc0LjAwOTY4NTcxNzkyODNdLAogICAgICAgICAgICAgICAgeyJidWJibGluZ01vdXNlRXZlbnRzIjogdHJ1ZSwgImNvbG9yIjogImJsdWUiLCAiZGFzaEFycmF5IjogbnVsbCwgImRhc2hPZmZzZXQiOiBudWxsLCAiZmlsbCI6IHRydWUsICJmaWxsQ29sb3IiOiAiYmx1ZSIsICJmaWxsT3BhY2l0eSI6IDAuNiwgImZpbGxSdWxlIjogImV2ZW5vZGQiLCAibGluZUNhcCI6ICJyb3VuZCIsICJsaW5lSm9pbiI6ICJyb3VuZCIsICJvcGFjaXR5IjogMS4wLCAicmFkaXVzIjogNSwgInN0cm9rZSI6IHRydWUsICJ3ZWlnaHQiOiAzfQogICAgICAgICAgICApLmFkZFRvKG1hcF9lODE0YWM5NmMzN2U0NWZhYjliMWI2MDM1MGM2YzkzNSk7CiAgICAgICAgCiAgICAKICAgICAgICB2YXIgcG9wdXBfZTU4ZmUwYzM0NDljNGRjZDg1MTVmOTQzNjI5MDdmMDAgPSBMLnBvcHVwKHsibWF4V2lkdGgiOiAiMTAwJSJ9KTsKCiAgICAgICAgCiAgICAgICAgICAgIHZhciBodG1sX2QzNjg3YWMwMmMxMjQzNjZiYjRlYzhiN2U0YTNiNGMwID0gJChgPGRpdiBpZD0iaHRtbF9kMzY4N2FjMDJjMTI0MzY2YmI0ZWM4YjdlNGEzYjRjMCIgc3R5bGU9IndpZHRoOiAxMDAuMCU7IGhlaWdodDogMTAwLjAlOyI+R3ltPC9kaXY+YClbMF07CiAgICAgICAgICAgIHBvcHVwX2U1OGZlMGMzNDQ5YzRkY2Q4NTE1Zjk0MzYyOTA3ZjAwLnNldENvbnRlbnQoaHRtbF9kMzY4N2FjMDJjMTI0MzY2YmI0ZWM4YjdlNGEzYjRjMCk7CiAgICAgICAgCgogICAgICAgIGNpcmNsZV9tYXJrZXJfY2E2MDYzMjYxOWUwNDI5NWE5NGYyZTlmMDZlZTkyNGQuYmluZFBvcHVwKHBvcHVwX2U1OGZlMGMzNDQ5YzRkY2Q4NTE1Zjk0MzYyOTA3ZjAwKQogICAgICAgIDsKCiAgICAgICAgCiAgICAKICAgIAogICAgICAgICAgICB2YXIgY2lyY2xlX21hcmtlcl81ZDIzYTYzZWQ1NmE0M2Q3OTliMzc3NWY1YjllZTJkZiA9IEwuY2lyY2xlTWFya2VyKAogICAgICAgICAgICAgICAgWzQwLjcxNTU3OTE1NTQyMDYwNiwgLTc0LjAxMTM2ODIzOTU4MTE5XSwKICAgICAgICAgICAgICAgIHsiYnViYmxpbmdNb3VzZUV2ZW50cyI6IHRydWUsICJjb2xvciI6ICJibHVlIiwgImRhc2hBcnJheSI6IG51bGwsICJkYXNoT2Zmc2V0IjogbnVsbCwgImZpbGwiOiB0cnVlLCAiZmlsbENvbG9yIjogImJsdWUiLCAiZmlsbE9wYWNpdHkiOiAwLjYsICJmaWxsUnVsZSI6ICJldmVub2RkIiwgImxpbmVDYXAiOiAicm91bmQiLCAibGluZUpvaW4iOiAicm91bmQiLCAib3BhY2l0eSI6IDEuMCwgInJhZGl1cyI6IDUsICJzdHJva2UiOiB0cnVlLCAid2VpZ2h0IjogM30KICAgICAgICAgICAgKS5hZGRUbyhtYXBfZTgxNGFjOTZjMzdlNDVmYWI5YjFiNjAzNTBjNmM5MzUpOwogICAgICAgIAogICAgCiAgICAgICAgdmFyIHBvcHVwXzRlNTExMDg1MmYyNTRmZmFiYzdkMzkxMzc1MGYxYjFjID0gTC5wb3B1cCh7Im1heFdpZHRoIjogIjEwMCUifSk7CgogICAgICAgIAogICAgICAgICAgICB2YXIgaHRtbF9iZDhkMDg0MjVkYWE0N2QzOGVlMWY5YTY3YTNjMzdkNiA9ICQoYDxkaXYgaWQ9Imh0bWxfYmQ4ZDA4NDI1ZGFhNDdkMzhlZTFmOWE2N2EzYzM3ZDYiIHN0eWxlPSJ3aWR0aDogMTAwLjAlOyBoZWlnaHQ6IDEwMC4wJTsiPkdyb2NlcnkgU3RvcmU8L2Rpdj5gKVswXTsKICAgICAgICAgICAgcG9wdXBfNGU1MTEwODUyZjI1NGZmYWJjN2QzOTEzNzUwZjFiMWMuc2V0Q29udGVudChodG1sX2JkOGQwODQyNWRhYTQ3ZDM4ZWUxZjlhNjdhM2MzN2Q2KTsKICAgICAgICAKCiAgICAgICAgY2lyY2xlX21hcmtlcl81ZDIzYTYzZWQ1NmE0M2Q3OTliMzc3NWY1YjllZTJkZi5iaW5kUG9wdXAocG9wdXBfNGU1MTEwODUyZjI1NGZmYWJjN2QzOTEzNzUwZjFiMWMpCiAgICAgICAgOwoKICAgICAgICAKICAgIAogICAgCiAgICAgICAgICAgIHZhciBjaXJjbGVfbWFya2VyXzExZDhhMmJkMzgzOTQ3Yjg4MDI3NWRkYjYxN2RkMjUzID0gTC5jaXJjbGVNYXJrZXIoCiAgICAgICAgICAgICAgICBbNDAuNzE1NzI2LCAtNzQuMDA3NzY3XSwKICAgICAgICAgICAgICAgIHsiYnViYmxpbmdNb3VzZUV2ZW50cyI6IHRydWUsICJjb2xvciI6ICJibHVlIiwgImRhc2hBcnJheSI6IG51bGwsICJkYXNoT2Zmc2V0IjogbnVsbCwgImZpbGwiOiB0cnVlLCAiZmlsbENvbG9yIjogImJsdWUiLCAiZmlsbE9wYWNpdHkiOiAwLjYsICJmaWxsUnVsZSI6ICJldmVub2RkIiwgImxpbmVDYXAiOiAicm91bmQiLCAibGluZUpvaW4iOiAicm91bmQiLCAib3BhY2l0eSI6IDEuMCwgInJhZGl1cyI6IDUsICJzdHJva2UiOiB0cnVlLCAid2VpZ2h0IjogM30KICAgICAgICAgICAgKS5hZGRUbyhtYXBfZTgxNGFjOTZjMzdlNDVmYWI5YjFiNjAzNTBjNmM5MzUpOwogICAgICAgIAogICAgCiAgICAgICAgdmFyIHBvcHVwX2E5NGYzZmRjZjcxZTQ0NjM5YTkzZDRiMjlhNTMyM2NlID0gTC5wb3B1cCh7Im1heFdpZHRoIjogIjEwMCUifSk7CgogICAgICAgIAogICAgICAgICAgICB2YXIgaHRtbF8wMzgyNGI2NTMzNmY0ZWIxYTY0OWE2NTZiMjdmODAyZCA9ICQoYDxkaXYgaWQ9Imh0bWxfMDM4MjRiNjUzMzZmNGViMWE2NDlhNjU2YjI3ZjgwMmQiIHN0eWxlPSJ3aWR0aDogMTAwLjAlOyBoZWlnaHQ6IDEwMC4wJTsiPlNwYTwvZGl2PmApWzBdOwogICAgICAgICAgICBwb3B1cF9hOTRmM2ZkY2Y3MWU0NDYzOWE5M2Q0YjI5YTUzMjNjZS5zZXRDb250ZW50KGh0bWxfMDM4MjRiNjUzMzZmNGViMWE2NDlhNjU2YjI3ZjgwMmQpOwogICAgICAgIAoKICAgICAgICBjaXJjbGVfbWFya2VyXzExZDhhMmJkMzgzOTQ3Yjg4MDI3NWRkYjYxN2RkMjUzLmJpbmRQb3B1cChwb3B1cF9hOTRmM2ZkY2Y3MWU0NDYzOWE5M2Q0YjI5YTUzMjNjZSkKICAgICAgICA7CgogICAgICAgIAogICAgCiAgICAKICAgICAgICAgICAgdmFyIGNpcmNsZV9tYXJrZXJfMWMzNzVkZmRhYTMxNDI2M2E0OTAxYjAyOWQxYzk4ZDMgPSBMLmNpcmNsZU1hcmtlcigKICAgICAgICAgICAgICAgIFs0MC43MTUxNzY5Mzk2NjMxNSwgLTc0LjAxMDIyNzQ3Nzc4Mjg1XSwKICAgICAgICAgICAgICAgIHsiYnViYmxpbmdNb3VzZUV2ZW50cyI6IHRydWUsICJjb2xvciI6ICJibHVlIiwgImRhc2hBcnJheSI6IG51bGwsICJkYXNoT2Zmc2V0IjogbnVsbCwgImZpbGwiOiB0cnVlLCAiZmlsbENvbG9yIjogImJsdWUiLCAiZmlsbE9wYWNpdHkiOiAwLjYsICJmaWxsUnVsZSI6ICJldmVub2RkIiwgImxpbmVDYXAiOiAicm91bmQiLCAibGluZUpvaW4iOiAicm91bmQiLCAib3BhY2l0eSI6IDEuMCwgInJhZGl1cyI6IDUsICJzdHJva2UiOiB0cnVlLCAid2VpZ2h0IjogM30KICAgICAgICAgICAgKS5hZGRUbyhtYXBfZTgxNGFjOTZjMzdlNDVmYWI5YjFiNjAzNTBjNmM5MzUpOwogICAgICAgIAogICAgCiAgICAgICAgdmFyIHBvcHVwXzgxNTcwYTFmYjg3ZDQ4OTI5ZWI5MzA4NzVmNGMyYWQxID0gTC5wb3B1cCh7Im1heFdpZHRoIjogIjEwMCUifSk7CgogICAgICAgIAogICAgICAgICAgICB2YXIgaHRtbF80MzFjYjgxZDQzZjM0NDQzYjhjNGUyMzFmZWMxNGFiZCA9ICQoYDxkaXYgaWQ9Imh0bWxfNDMxY2I4MWQ0M2YzNDQ0M2I4YzRlMjMxZmVjMTRhYmQiIHN0eWxlPSJ3aWR0aDogMTAwLjAlOyBoZWlnaHQ6IDEwMC4wJTsiPkNhZsOpPC9kaXY+YClbMF07CiAgICAgICAgICAgIHBvcHVwXzgxNTcwYTFmYjg3ZDQ4OTI5ZWI5MzA4NzVmNGMyYWQxLnNldENvbnRlbnQoaHRtbF80MzFjYjgxZDQzZjM0NDQzYjhjNGUyMzFmZWMxNGFiZCk7CiAgICAgICAgCgogICAgICAgIGNpcmNsZV9tYXJrZXJfMWMzNzVkZmRhYTMxNDI2M2E0OTAxYjAyOWQxYzk4ZDMuYmluZFBvcHVwKHBvcHVwXzgxNTcwYTFmYjg3ZDQ4OTI5ZWI5MzA4NzVmNGMyYWQxKQogICAgICAgIDsKCiAgICAgICAgCiAgICAKICAgIAogICAgICAgICAgICB2YXIgY2lyY2xlX21hcmtlcl85YmIyNjdhMzI2ZmQ0MDFkYWU5N2M3MjI3N2ExNGYwZSA9IEwuY2lyY2xlTWFya2VyKAogICAgICAgICAgICAgICAgWzQwLjcxNzAxMDExNDA5OTA2LCAtNzQuMDA4MDQyNDQ1NjIyMjVdLAogICAgICAgICAgICAgICAgeyJidWJibGluZ01vdXNlRXZlbnRzIjogdHJ1ZSwgImNvbG9yIjogImJsdWUiLCAiZGFzaEFycmF5IjogbnVsbCwgImRhc2hPZmZzZXQiOiBudWxsLCAiZmlsbCI6IHRydWUsICJmaWxsQ29sb3IiOiAiYmx1ZSIsICJmaWxsT3BhY2l0eSI6IDAuNiwgImZpbGxSdWxlIjogImV2ZW5vZGQiLCAibGluZUNhcCI6ICJyb3VuZCIsICJsaW5lSm9pbiI6ICJyb3VuZCIsICJvcGFjaXR5IjogMS4wLCAicmFkaXVzIjogNSwgInN0cm9rZSI6IHRydWUsICJ3ZWlnaHQiOiAzfQogICAgICAgICAgICApLmFkZFRvKG1hcF9lODE0YWM5NmMzN2U0NWZhYjliMWI2MDM1MGM2YzkzNSk7CiAgICAgICAgCiAgICAKICAgICAgICB2YXIgcG9wdXBfM2Y2MmNkMzk4MTgxNGVlYzk0MDI2YjY1M2RlYWYwNzMgPSBMLnBvcHVwKHsibWF4V2lkdGgiOiAiMTAwJSJ9KTsKCiAgICAgICAgCiAgICAgICAgICAgIHZhciBodG1sXzQ3ZDU4OTVlODYzZjQxMTFhZDUyNGIxYzY3ODcxMGM5ID0gJChgPGRpdiBpZD0iaHRtbF80N2Q1ODk1ZTg2M2Y0MTExYWQ1MjRiMWM2Nzg3MTBjOSIgc3R5bGU9IndpZHRoOiAxMDAuMCU7IGhlaWdodDogMTAwLjAlOyI+RnJlbmNoIFJlc3RhdXJhbnQ8L2Rpdj5gKVswXTsKICAgICAgICAgICAgcG9wdXBfM2Y2MmNkMzk4MTgxNGVlYzk0MDI2YjY1M2RlYWYwNzMuc2V0Q29udGVudChodG1sXzQ3ZDU4OTVlODYzZjQxMTFhZDUyNGIxYzY3ODcxMGM5KTsKICAgICAgICAKCiAgICAgICAgY2lyY2xlX21hcmtlcl85YmIyNjdhMzI2ZmQ0MDFkYWU5N2M3MjI3N2ExNGYwZS5iaW5kUG9wdXAocG9wdXBfM2Y2MmNkMzk4MTgxNGVlYzk0MDI2YjY1M2RlYWYwNzMpCiAgICAgICAgOwoKICAgICAgICAKICAgIAogICAgCiAgICAgICAgICAgIHZhciBjaXJjbGVfbWFya2VyX2E3NTViZDYwOWZmODQ3ZWY5Njg0MWRjMmZhMmQzNzRiID0gTC5jaXJjbGVNYXJrZXIoCiAgICAgICAgICAgICAgICBbNDAuNzE1NDg2NTg1MjQ5NzM1LCAtNzQuMDA5MTMzMTM1MTA4MzZdLAogICAgICAgICAgICAgICAgeyJidWJibGluZ01vdXNlRXZlbnRzIjogdHJ1ZSwgImNvbG9yIjogImJsdWUiLCAiZGFzaEFycmF5IjogbnVsbCwgImRhc2hPZmZzZXQiOiBudWxsLCAiZmlsbCI6IHRydWUsICJmaWxsQ29sb3IiOiAiYmx1ZSIsICJmaWxsT3BhY2l0eSI6IDAuNiwgImZpbGxSdWxlIjogImV2ZW5vZGQiLCAibGluZUNhcCI6ICJyb3VuZCIsICJsaW5lSm9pbiI6ICJyb3VuZCIsICJvcGFjaXR5IjogMS4wLCAicmFkaXVzIjogNSwgInN0cm9rZSI6IHRydWUsICJ3ZWlnaHQiOiAzfQogICAgICAgICAgICApLmFkZFRvKG1hcF9lODE0YWM5NmMzN2U0NWZhYjliMWI2MDM1MGM2YzkzNSk7CiAgICAgICAgCiAgICAKICAgICAgICB2YXIgcG9wdXBfZGM0ZDEzMGQ2NDllNGY4MTgwMjU5OGRhOTgzYTg5YjYgPSBMLnBvcHVwKHsibWF4V2lkdGgiOiAiMTAwJSJ9KTsKCiAgICAgICAgCiAgICAgICAgICAgIHZhciBodG1sXzY2NjM1NjIwYzg0NDQ2ZTVhOWM1ZmIzOGU2YjY3ZDc5ID0gJChgPGRpdiBpZD0iaHRtbF82NjYzNTYyMGM4NDQ0NmU1YTljNWZiMzhlNmI2N2Q3OSIgc3R5bGU9IndpZHRoOiAxMDAuMCU7IGhlaWdodDogMTAwLjAlOyI+QW1lcmljYW4gUmVzdGF1cmFudDwvZGl2PmApWzBdOwogICAgICAgICAgICBwb3B1cF9kYzRkMTMwZDY0OWU0ZjgxODAyNTk4ZGE5ODNhODliNi5zZXRDb250ZW50KGh0bWxfNjY2MzU2MjBjODQ0NDZlNWE5YzVmYjM4ZTZiNjdkNzkpOwogICAgICAgIAoKICAgICAgICBjaXJjbGVfbWFya2VyX2E3NTViZDYwOWZmODQ3ZWY5Njg0MWRjMmZhMmQzNzRiLmJpbmRQb3B1cChwb3B1cF9kYzRkMTMwZDY0OWU0ZjgxODAyNTk4ZGE5ODNhODliNikKICAgICAgICA7CgogICAgICAgIAogICAgCiAgICAKICAgICAgICAgICAgdmFyIGNpcmNsZV9tYXJrZXJfM2RlNDc2YmZhYjVjNGY3M2JlNzQzMDY2MzFhN2I3OTQgPSBMLmNpcmNsZU1hcmtlcigKICAgICAgICAgICAgICAgIFs0MC43MTY3NDA4NDE2MzM2OSwgLTc0LjAwODY2NjQ0Mzg4OTNdLAogICAgICAgICAgICAgICAgeyJidWJibGluZ01vdXNlRXZlbnRzIjogdHJ1ZSwgImNvbG9yIjogImJsdWUiLCAiZGFzaEFycmF5IjogbnVsbCwgImRhc2hPZmZzZXQiOiBudWxsLCAiZmlsbCI6IHRydWUsICJmaWxsQ29sb3IiOiAiYmx1ZSIsICJmaWxsT3BhY2l0eSI6IDAuNiwgImZpbGxSdWxlIjogImV2ZW5vZGQiLCAibGluZUNhcCI6ICJyb3VuZCIsICJsaW5lSm9pbiI6ICJyb3VuZCIsICJvcGFjaXR5IjogMS4wLCAicmFkaXVzIjogNSwgInN0cm9rZSI6IHRydWUsICJ3ZWlnaHQiOiAzfQogICAgICAgICAgICApLmFkZFRvKG1hcF9lODE0YWM5NmMzN2U0NWZhYjliMWI2MDM1MGM2YzkzNSk7CiAgICAgICAgCiAgICAKICAgICAgICB2YXIgcG9wdXBfMzg2OTBiMzRlZDVjNGVjMGI3NDkxODBhNTQyNDVjNDYgPSBMLnBvcHVwKHsibWF4V2lkdGgiOiAiMTAwJSJ9KTsKCiAgICAgICAgCiAgICAgICAgICAgIHZhciBodG1sX2Q3ZWVkN2NhZjZhMjQ2NTNiMzJjZWRkNjQ1NDYwMzUzID0gJChgPGRpdiBpZD0iaHRtbF9kN2VlZDdjYWY2YTI0NjUzYjMyY2VkZDY0NTQ2MDM1MyIgc3R5bGU9IndpZHRoOiAxMDAuMCU7IGhlaWdodDogMTAwLjAlOyI+Q29ja3RhaWwgQmFyPC9kaXY+YClbMF07CiAgICAgICAgICAgIHBvcHVwXzM4NjkwYjM0ZWQ1YzRlYzBiNzQ5MTgwYTU0MjQ1YzQ2LnNldENvbnRlbnQoaHRtbF9kN2VlZDdjYWY2YTI0NjUzYjMyY2VkZDY0NTQ2MDM1Myk7CiAgICAgICAgCgogICAgICAgIGNpcmNsZV9tYXJrZXJfM2RlNDc2YmZhYjVjNGY3M2JlNzQzMDY2MzFhN2I3OTQuYmluZFBvcHVwKHBvcHVwXzM4NjkwYjM0ZWQ1YzRlYzBiNzQ5MTgwYTU0MjQ1YzQ2KQogICAgICAgIDsKCiAgICAgICAgCiAgICAKICAgIAogICAgICAgICAgICB2YXIgY2lyY2xlX21hcmtlcl9hZTVmZjAxYzhmNDI0MTI4YTM1MzY5NTFmZWM5YWMzYyA9IEwuY2lyY2xlTWFya2VyKAogICAgICAgICAgICAgICAgWzQwLjcxNzA0NTk4ODUzNzA0LCAtNzQuMDExMDk0NTcwMTU5OTFdLAogICAgICAgICAgICAgICAgeyJidWJibGluZ01vdXNlRXZlbnRzIjogdHJ1ZSwgImNvbG9yIjogImJsdWUiLCAiZGFzaEFycmF5IjogbnVsbCwgImRhc2hPZmZzZXQiOiBudWxsLCAiZmlsbCI6IHRydWUsICJmaWxsQ29sb3IiOiAiYmx1ZSIsICJmaWxsT3BhY2l0eSI6IDAuNiwgImZpbGxSdWxlIjogImV2ZW5vZGQiLCAibGluZUNhcCI6ICJyb3VuZCIsICJsaW5lSm9pbiI6ICJyb3VuZCIsICJvcGFjaXR5IjogMS4wLCAicmFkaXVzIjogNSwgInN0cm9rZSI6IHRydWUsICJ3ZWlnaHQiOiAzfQogICAgICAgICAgICApLmFkZFRvKG1hcF9lODE0YWM5NmMzN2U0NWZhYjliMWI2MDM1MGM2YzkzNSk7CiAgICAgICAgCiAgICAKICAgICAgICB2YXIgcG9wdXBfMDgxMzk4Y2FjNjMwNDljZWI5MTA5YmE3NjNkZDRkMzEgPSBMLnBvcHVwKHsibWF4V2lkdGgiOiAiMTAwJSJ9KTsKCiAgICAgICAgCiAgICAgICAgICAgIHZhciBodG1sX2QwZDFjNTY4YTg4MDQxZjc5OWNhNzJhNTNmY2Y5NzRmID0gJChgPGRpdiBpZD0iaHRtbF9kMGQxYzU2OGE4ODA0MWY3OTljYTcyYTUzZmNmOTc0ZiIgc3R5bGU9IndpZHRoOiAxMDAuMCU7IGhlaWdodDogMTAwLjAlOyI+UGxheWdyb3VuZDwvZGl2PmApWzBdOwogICAgICAgICAgICBwb3B1cF8wODEzOThjYWM2MzA0OWNlYjkxMDliYTc2M2RkNGQzMS5zZXRDb250ZW50KGh0bWxfZDBkMWM1NjhhODgwNDFmNzk5Y2E3MmE1M2ZjZjk3NGYpOwogICAgICAgIAoKICAgICAgICBjaXJjbGVfbWFya2VyX2FlNWZmMDFjOGY0MjQxMjhhMzUzNjk1MWZlYzlhYzNjLmJpbmRQb3B1cChwb3B1cF8wODEzOThjYWM2MzA0OWNlYjkxMDliYTc2M2RkNGQzMSkKICAgICAgICA7CgogICAgICAgIAogICAgCiAgICAKICAgICAgICAgICAgdmFyIGNpcmNsZV9tYXJrZXJfM2UxOTZjYzBmZTJjNDBiM2FlNmJkNDJjMDAxNThjNmMgPSBMLmNpcmNsZU1hcmtlcigKICAgICAgICAgICAgICAgIFs0MC43MTU1OCwgLTc0LjAwOTg1XSwKICAgICAgICAgICAgICAgIHsiYnViYmxpbmdNb3VzZUV2ZW50cyI6IHRydWUsICJjb2xvciI6ICJibHVlIiwgImRhc2hBcnJheSI6IG51bGwsICJkYXNoT2Zmc2V0IjogbnVsbCwgImZpbGwiOiB0cnVlLCAiZmlsbENvbG9yIjogImJsdWUiLCAiZmlsbE9wYWNpdHkiOiAwLjYsICJmaWxsUnVsZSI6ICJldmVub2RkIiwgImxpbmVDYXAiOiAicm91bmQiLCAibGluZUpvaW4iOiAicm91bmQiLCAib3BhY2l0eSI6IDEuMCwgInJhZGl1cyI6IDUsICJzdHJva2UiOiB0cnVlLCAid2VpZ2h0IjogM30KICAgICAgICAgICAgKS5hZGRUbyhtYXBfZTgxNGFjOTZjMzdlNDVmYWI5YjFiNjAzNTBjNmM5MzUpOwogICAgICAgIAogICAgCiAgICAgICAgdmFyIHBvcHVwXzRhYjM5YTRjOTc2MTRmZmNhZmIyMDYxYTE1MzM5NTI0ID0gTC5wb3B1cCh7Im1heFdpZHRoIjogIjEwMCUifSk7CgogICAgICAgIAogICAgICAgICAgICB2YXIgaHRtbF9hZjhiNGUzMGZkOGI0ZDEwYTRjZjY5ZTZmY2VjNDJhNSA9ICQoYDxkaXYgaWQ9Imh0bWxfYWY4YjRlMzBmZDhiNGQxMGE0Y2Y2OWU2ZmNlYzQyYTUiIHN0eWxlPSJ3aWR0aDogMTAwLjAlOyBoZWlnaHQ6IDEwMC4wJTsiPkJhZ2VsIFNob3A8L2Rpdj5gKVswXTsKICAgICAgICAgICAgcG9wdXBfNGFiMzlhNGM5NzYxNGZmY2FmYjIwNjFhMTUzMzk1MjQuc2V0Q29udGVudChodG1sX2FmOGI0ZTMwZmQ4YjRkMTBhNGNmNjllNmZjZWM0MmE1KTsKICAgICAgICAKCiAgICAgICAgY2lyY2xlX21hcmtlcl8zZTE5NmNjMGZlMmM0MGIzYWU2YmQ0MmMwMDE1OGM2Yy5iaW5kUG9wdXAocG9wdXBfNGFiMzlhNGM5NzYxNGZmY2FmYjIwNjFhMTUzMzk1MjQpCiAgICAgICAgOwoKICAgICAgICAKICAgIAogICAgCiAgICAgICAgICAgIHZhciBjaXJjbGVfbWFya2VyXzUwMzg2YzZhOTY1MTQ4MDNiMjAzMWQ5MWQ5NTU3NmZiID0gTC5jaXJjbGVNYXJrZXIoCiAgICAgICAgICAgICAgICBbNDAuNzE3MTcyNzU4MDExNjgsIC03NC4wMDkzMjg2OTEyNTExN10sCiAgICAgICAgICAgICAgICB7ImJ1YmJsaW5nTW91c2VFdmVudHMiOiB0cnVlLCAiY29sb3IiOiAiYmx1ZSIsICJkYXNoQXJyYXkiOiBudWxsLCAiZGFzaE9mZnNldCI6IG51bGwsICJmaWxsIjogdHJ1ZSwgImZpbGxDb2xvciI6ICJibHVlIiwgImZpbGxPcGFjaXR5IjogMC42LCAiZmlsbFJ1bGUiOiAiZXZlbm9kZCIsICJsaW5lQ2FwIjogInJvdW5kIiwgImxpbmVKb2luIjogInJvdW5kIiwgIm9wYWNpdHkiOiAxLjAsICJyYWRpdXMiOiA1LCAic3Ryb2tlIjogdHJ1ZSwgIndlaWdodCI6IDN9CiAgICAgICAgICAgICkuYWRkVG8obWFwX2U4MTRhYzk2YzM3ZTQ1ZmFiOWIxYjYwMzUwYzZjOTM1KTsKICAgICAgICAKICAgIAogICAgICAgIHZhciBwb3B1cF82OGVlNDQ3MjhhMWQ0OGVlYmQ2NTUzM2RjZDk3YWJjYyA9IEwucG9wdXAoeyJtYXhXaWR0aCI6ICIxMDAlIn0pOwoKICAgICAgICAKICAgICAgICAgICAgdmFyIGh0bWxfNzYwZmE4MDU3MTIxNDdiMmFiNjY2Y2UyZjI2ZGFmNDYgPSAkKGA8ZGl2IGlkPSJodG1sXzc2MGZhODA1NzEyMTQ3YjJhYjY2NmNlMmYyNmRhZjQ2IiBzdHlsZT0id2lkdGg6IDEwMC4wJTsgaGVpZ2h0OiAxMDAuMCU7Ij5QYXJrPC9kaXY+YClbMF07CiAgICAgICAgICAgIHBvcHVwXzY4ZWU0NDcyOGExZDQ4ZWViZDY1NTMzZGNkOTdhYmNjLnNldENvbnRlbnQoaHRtbF83NjBmYTgwNTcxMjE0N2IyYWI2NjZjZTJmMjZkYWY0Nik7CiAgICAgICAgCgogICAgICAgIGNpcmNsZV9tYXJrZXJfNTAzODZjNmE5NjUxNDgwM2IyMDMxZDkxZDk1NTc2ZmIuYmluZFBvcHVwKHBvcHVwXzY4ZWU0NDcyOGExZDQ4ZWViZDY1NTMzZGNkOTdhYmNjKQogICAgICAgIDsKCiAgICAgICAgCiAgICAKICAgIAogICAgICAgICAgICB2YXIgY2lyY2xlX21hcmtlcl9iMTYwMjcxOWI1MjY0NGQwOWU5ZGIyZWQ1YWQwN2YwYSA9IEwuY2lyY2xlTWFya2VyKAogICAgICAgICAgICAgICAgWzQwLjcxNTA0NTEyNTU4OTk2LCAtNzQuMDExNTA4NzEwMjgyMV0sCiAgICAgICAgICAgICAgICB7ImJ1YmJsaW5nTW91c2VFdmVudHMiOiB0cnVlLCAiY29sb3IiOiAiYmx1ZSIsICJkYXNoQXJyYXkiOiBudWxsLCAiZGFzaE9mZnNldCI6IG51bGwsICJmaWxsIjogdHJ1ZSwgImZpbGxDb2xvciI6ICJibHVlIiwgImZpbGxPcGFjaXR5IjogMC42LCAiZmlsbFJ1bGUiOiAiZXZlbm9kZCIsICJsaW5lQ2FwIjogInJvdW5kIiwgImxpbmVKb2luIjogInJvdW5kIiwgIm9wYWNpdHkiOiAxLjAsICJyYWRpdXMiOiA1LCAic3Ryb2tlIjogdHJ1ZSwgIndlaWdodCI6IDN9CiAgICAgICAgICAgICkuYWRkVG8obWFwX2U4MTRhYzk2YzM3ZTQ1ZmFiOWIxYjYwMzUwYzZjOTM1KTsKICAgICAgICAKICAgIAogICAgICAgIHZhciBwb3B1cF9kZjI1Yzc5YTM4ZDk0YmY1YThmYzAyNWJhNTZhMGI1NCA9IEwucG9wdXAoeyJtYXhXaWR0aCI6ICIxMDAlIn0pOwoKICAgICAgICAKICAgICAgICAgICAgdmFyIGh0bWxfODVkNTdkZmRkMjZhNGU2MmIyMDQxYWFmMWQ1ZTNjOTIgPSAkKGA8ZGl2IGlkPSJodG1sXzg1ZDU3ZGZkZDI2YTRlNjJiMjA0MWFhZjFkNWUzYzkyIiBzdHlsZT0id2lkdGg6IDEwMC4wJTsgaGVpZ2h0OiAxMDAuMCU7Ij5Db2ZmZWUgU2hvcDwvZGl2PmApWzBdOwogICAgICAgICAgICBwb3B1cF9kZjI1Yzc5YTM4ZDk0YmY1YThmYzAyNWJhNTZhMGI1NC5zZXRDb250ZW50KGh0bWxfODVkNTdkZmRkMjZhNGU2MmIyMDQxYWFmMWQ1ZTNjOTIpOwogICAgICAgIAoKICAgICAgICBjaXJjbGVfbWFya2VyX2IxNjAyNzE5YjUyNjQ0ZDA5ZTlkYjJlZDVhZDA3ZjBhLmJpbmRQb3B1cChwb3B1cF9kZjI1Yzc5YTM4ZDk0YmY1YThmYzAyNWJhNTZhMGI1NCkKICAgICAgICA7CgogICAgICAgIAogICAgCiAgICAKICAgICAgICAgICAgdmFyIGNpcmNsZV9tYXJrZXJfMTdkZDRmNjViNmQ2NGIwNTk2ODg1MGFkMjhhNWM5ZDMgPSBMLmNpcmNsZU1hcmtlcigKICAgICAgICAgICAgICAgIFs0MC43MTY4MDIwMzM1NzQxMjYsIC03NC4wMTA4Nzk5OTM0Mzg3Ml0sCiAgICAgICAgICAgICAgICB7ImJ1YmJsaW5nTW91c2VFdmVudHMiOiB0cnVlLCAiY29sb3IiOiAiYmx1ZSIsICJkYXNoQXJyYXkiOiBudWxsLCAiZGFzaE9mZnNldCI6IG51bGwsICJmaWxsIjogdHJ1ZSwgImZpbGxDb2xvciI6ICJibHVlIiwgImZpbGxPcGFjaXR5IjogMC42LCAiZmlsbFJ1bGUiOiAiZXZlbm9kZCIsICJsaW5lQ2FwIjogInJvdW5kIiwgImxpbmVKb2luIjogInJvdW5kIiwgIm9wYWNpdHkiOiAxLjAsICJyYWRpdXMiOiA1LCAic3Ryb2tlIjogdHJ1ZSwgIndlaWdodCI6IDN9CiAgICAgICAgICAgICkuYWRkVG8obWFwX2U4MTRhYzk2YzM3ZTQ1ZmFiOWIxYjYwMzUwYzZjOTM1KTsKICAgICAgICAKICAgIAogICAgICAgIHZhciBwb3B1cF82ODdmODgyNzYwNmY0MjBlOTYzZWM3YmZhOTc5ODBkNiA9IEwucG9wdXAoeyJtYXhXaWR0aCI6ICIxMDAlIn0pOwoKICAgICAgICAKICAgICAgICAgICAgdmFyIGh0bWxfZTQ5ZTQ0YmJjZDYzNDhkMjgxZjk0MWIwMzc4NTQ2MWQgPSAkKGA8ZGl2IGlkPSJodG1sX2U0OWU0NGJiY2Q2MzQ4ZDI4MWY5NDFiMDM3ODU0NjFkIiBzdHlsZT0id2lkdGg6IDEwMC4wJTsgaGVpZ2h0OiAxMDAuMCU7Ij5GYXJtZXJzIE1hcmtldDwvZGl2PmApWzBdOwogICAgICAgICAgICBwb3B1cF82ODdmODgyNzYwNmY0MjBlOTYzZWM3YmZhOTc5ODBkNi5zZXRDb250ZW50KGh0bWxfZTQ5ZTQ0YmJjZDYzNDhkMjgxZjk0MWIwMzc4NTQ2MWQpOwogICAgICAgIAoKICAgICAgICBjaXJjbGVfbWFya2VyXzE3ZGQ0ZjY1YjZkNjRiMDU5Njg4NTBhZDI4YTVjOWQzLmJpbmRQb3B1cChwb3B1cF82ODdmODgyNzYwNmY0MjBlOTYzZWM3YmZhOTc5ODBkNikKICAgICAgICA7CgogICAgICAgIAogICAgCiAgICAKICAgICAgICAgICAgdmFyIGNpcmNsZV9tYXJrZXJfMTA0YWNkMmEzMjY4NDgxNGFmMzdkZGZkOGE0ZmZiMWEgPSBMLmNpcmNsZU1hcmtlcigKICAgICAgICAgICAgICAgIFs0MC43MTU5NDEyNTU2NjkzMSwgLTc0LjAwODcyMDUzNTY0NDk0XSwKICAgICAgICAgICAgICAgIHsiYnViYmxpbmdNb3VzZUV2ZW50cyI6IHRydWUsICJjb2xvciI6ICJibHVlIiwgImRhc2hBcnJheSI6IG51bGwsICJkYXNoT2Zmc2V0IjogbnVsbCwgImZpbGwiOiB0cnVlLCAiZmlsbENvbG9yIjogImJsdWUiLCAiZmlsbE9wYWNpdHkiOiAwLjYsICJmaWxsUnVsZSI6ICJldmVub2RkIiwgImxpbmVDYXAiOiAicm91bmQiLCAibGluZUpvaW4iOiAicm91bmQiLCAib3BhY2l0eSI6IDEuMCwgInJhZGl1cyI6IDUsICJzdHJva2UiOiB0cnVlLCAid2VpZ2h0IjogM30KICAgICAgICAgICAgKS5hZGRUbyhtYXBfZTgxNGFjOTZjMzdlNDVmYWI5YjFiNjAzNTBjNmM5MzUpOwogICAgICAgIAogICAgCiAgICAgICAgdmFyIHBvcHVwXzQzMzcwNjE0NWIzYzQ2YTI5Y2ZiOGYwZGE5ZTc3ODliID0gTC5wb3B1cCh7Im1heFdpZHRoIjogIjEwMCUifSk7CgogICAgICAgIAogICAgICAgICAgICB2YXIgaHRtbF82ODk3ZjlmM2MzODY0ODMwOTQ4YzlkNTlkYWQ0MjM5MyA9ICQoYDxkaXYgaWQ9Imh0bWxfNjg5N2Y5ZjNjMzg2NDgzMDk0OGM5ZDU5ZGFkNDIzOTMiIHN0eWxlPSJ3aWR0aDogMTAwLjAlOyBoZWlnaHQ6IDEwMC4wJTsiPk5haWwgU2Fsb248L2Rpdj5gKVswXTsKICAgICAgICAgICAgcG9wdXBfNDMzNzA2MTQ1YjNjNDZhMjljZmI4ZjBkYTllNzc4OWIuc2V0Q29udGVudChodG1sXzY4OTdmOWYzYzM4NjQ4MzA5NDhjOWQ1OWRhZDQyMzkzKTsKICAgICAgICAKCiAgICAgICAgY2lyY2xlX21hcmtlcl8xMDRhY2QyYTMyNjg0ODE0YWYzN2RkZmQ4YTRmZmIxYS5iaW5kUG9wdXAocG9wdXBfNDMzNzA2MTQ1YjNjNDZhMjljZmI4ZjBkYTllNzc4OWIpCiAgICAgICAgOwoKICAgICAgICAKICAgIAogICAgCiAgICAgICAgICAgIHZhciBjaXJjbGVfbWFya2VyX2MwYzI2MTU3MjVlMDQxZDlhMDAwNzQ5Mjc0MjUwZWU2ID0gTC5jaXJjbGVNYXJrZXIoCiAgICAgICAgICAgICAgICBbNDAuNzE3Mzk0NDUyOTE2NSwgLTc0LjAxMDEwMzI0NjA3MTI1XSwKICAgICAgICAgICAgICAgIHsiYnViYmxpbmdNb3VzZUV2ZW50cyI6IHRydWUsICJjb2xvciI6ICJibHVlIiwgImRhc2hBcnJheSI6IG51bGwsICJkYXNoT2Zmc2V0IjogbnVsbCwgImZpbGwiOiB0cnVlLCAiZmlsbENvbG9yIjogImJsdWUiLCAiZmlsbE9wYWNpdHkiOiAwLjYsICJmaWxsUnVsZSI6ICJldmVub2RkIiwgImxpbmVDYXAiOiAicm91bmQiLCAibGluZUpvaW4iOiAicm91bmQiLCAib3BhY2l0eSI6IDEuMCwgInJhZGl1cyI6IDUsICJzdHJva2UiOiB0cnVlLCAid2VpZ2h0IjogM30KICAgICAgICAgICAgKS5hZGRUbyhtYXBfZTgxNGFjOTZjMzdlNDVmYWI5YjFiNjAzNTBjNmM5MzUpOwogICAgICAgIAogICAgCiAgICAgICAgdmFyIHBvcHVwX2JhNzBjNjhlMzBlZTQ3ODk5MWUyNjRhNTIzNmRhOTcyID0gTC5wb3B1cCh7Im1heFdpZHRoIjogIjEwMCUifSk7CgogICAgICAgIAogICAgICAgICAgICB2YXIgaHRtbF9mMWE4YjMyMmY2ZWE0ZGVjOWEwNmM2NzdkNzZjMjgxNyA9ICQoYDxkaXYgaWQ9Imh0bWxfZjFhOGIzMjJmNmVhNGRlYzlhMDZjNjc3ZDc2YzI4MTciIHN0eWxlPSJ3aWR0aDogMTAwLjAlOyBoZWlnaHQ6IDEwMC4wJTsiPkNvZmZlZSBTaG9wPC9kaXY+YClbMF07CiAgICAgICAgICAgIHBvcHVwX2JhNzBjNjhlMzBlZTQ3ODk5MWUyNjRhNTIzNmRhOTcyLnNldENvbnRlbnQoaHRtbF9mMWE4YjMyMmY2ZWE0ZGVjOWEwNmM2NzdkNzZjMjgxNyk7CiAgICAgICAgCgogICAgICAgIGNpcmNsZV9tYXJrZXJfYzBjMjYxNTcyNWUwNDFkOWEwMDA3NDkyNzQyNTBlZTYuYmluZFBvcHVwKHBvcHVwX2JhNzBjNjhlMzBlZTQ3ODk5MWUyNjRhNTIzNmRhOTcyKQogICAgICAgIDsKCiAgICAgICAgCiAgICAKICAgIAogICAgICAgICAgICB2YXIgY2lyY2xlX21hcmtlcl85MDU3MmY1OWM4Yzg0ODRhYTkyOTQ0ZDE3MDBkYzNlYiA9IEwuY2lyY2xlTWFya2VyKAogICAgICAgICAgICAgICAgWzQwLjcxNjc1MjgxNjg3NjYzNSwgLTc0LjAwODU4Mzc2Mjk1MjIxXSwKICAgICAgICAgICAgICAgIHsiYnViYmxpbmdNb3VzZUV2ZW50cyI6IHRydWUsICJjb2xvciI6ICJibHVlIiwgImRhc2hBcnJheSI6IG51bGwsICJkYXNoT2Zmc2V0IjogbnVsbCwgImZpbGwiOiB0cnVlLCAiZmlsbENvbG9yIjogImJsdWUiLCAiZmlsbE9wYWNpdHkiOiAwLjYsICJmaWxsUnVsZSI6ICJldmVub2RkIiwgImxpbmVDYXAiOiAicm91bmQiLCAibGluZUpvaW4iOiAicm91bmQiLCAib3BhY2l0eSI6IDEuMCwgInJhZGl1cyI6IDUsICJzdHJva2UiOiB0cnVlLCAid2VpZ2h0IjogM30KICAgICAgICAgICAgKS5hZGRUbyhtYXBfZTgxNGFjOTZjMzdlNDVmYWI5YjFiNjAzNTBjNmM5MzUpOwogICAgICAgIAogICAgCiAgICAgICAgdmFyIHBvcHVwXzU1YTNiMjU0NTJjMTRhNGY4NDM4ZDY0NjBmNGIyNWM0ID0gTC5wb3B1cCh7Im1heFdpZHRoIjogIjEwMCUifSk7CgogICAgICAgIAogICAgICAgICAgICB2YXIgaHRtbF8zZjkxNGViYWNiZTI0ZjJhYWJlOTJiOTZjZTBkNTZkYSA9ICQoYDxkaXYgaWQ9Imh0bWxfM2Y5MTRlYmFjYmUyNGYyYWFiZTkyYjk2Y2UwZDU2ZGEiIHN0eWxlPSJ3aWR0aDogMTAwLjAlOyBoZWlnaHQ6IDEwMC4wJTsiPkFzaWFuIFJlc3RhdXJhbnQ8L2Rpdj5gKVswXTsKICAgICAgICAgICAgcG9wdXBfNTVhM2IyNTQ1MmMxNGE0Zjg0MzhkNjQ2MGY0YjI1YzQuc2V0Q29udGVudChodG1sXzNmOTE0ZWJhY2JlMjRmMmFhYmU5MmI5NmNlMGQ1NmRhKTsKICAgICAgICAKCiAgICAgICAgY2lyY2xlX21hcmtlcl85MDU3MmY1OWM4Yzg0ODRhYTkyOTQ0ZDE3MDBkYzNlYi5iaW5kUG9wdXAocG9wdXBfNTVhM2IyNTQ1MmMxNGE0Zjg0MzhkNjQ2MGY0YjI1YzQpCiAgICAgICAgOwoKICAgICAgICAKICAgIAogICAgCiAgICAgICAgICAgIHZhciBjaXJjbGVfbWFya2VyXzU2OWM1ZDVmZWE3NDQ4MDc5MWY4MWJlOGIyNWYwZTgzID0gTC5jaXJjbGVNYXJrZXIoCiAgICAgICAgICAgICAgICBbNDAuNzEyNzUyNTE3NzE0ODUsIC03NC4wMDg3MzM1NTYwMTU3MV0sCiAgICAgICAgICAgICAgICB7ImJ1YmJsaW5nTW91c2VFdmVudHMiOiB0cnVlLCAiY29sb3IiOiAiYmx1ZSIsICJkYXNoQXJyYXkiOiBudWxsLCAiZGFzaE9mZnNldCI6IG51bGwsICJmaWxsIjogdHJ1ZSwgImZpbGxDb2xvciI6ICJibHVlIiwgImZpbGxPcGFjaXR5IjogMC42LCAiZmlsbFJ1bGUiOiAiZXZlbm9kZCIsICJsaW5lQ2FwIjogInJvdW5kIiwgImxpbmVKb2luIjogInJvdW5kIiwgIm9wYWNpdHkiOiAxLjAsICJyYWRpdXMiOiA1LCAic3Ryb2tlIjogdHJ1ZSwgIndlaWdodCI6IDN9CiAgICAgICAgICAgICkuYWRkVG8obWFwX2U4MTRhYzk2YzM3ZTQ1ZmFiOWIxYjYwMzUwYzZjOTM1KTsKICAgICAgICAKICAgIAogICAgICAgIHZhciBwb3B1cF80NTgxMjUyMjQ3OTk0MGI3YTM1YjE0YWZhZGI4YThlYSA9IEwucG9wdXAoeyJtYXhXaWR0aCI6ICIxMDAlIn0pOwoKICAgICAgICAKICAgICAgICAgICAgdmFyIGh0bWxfYmJhNzI5MzQ4NzM0NDU1ZjlhMjY4Zjg5ZTYyNDBiODAgPSAkKGA8ZGl2IGlkPSJodG1sX2JiYTcyOTM0ODczNDQ1NWY5YTI2OGY4OWU2MjQwYjgwIiBzdHlsZT0id2lkdGg6IDEwMC4wJTsgaGVpZ2h0OiAxMDAuMCU7Ij5HeW0gLyBGaXRuZXNzIENlbnRlcjwvZGl2PmApWzBdOwogICAgICAgICAgICBwb3B1cF80NTgxMjUyMjQ3OTk0MGI3YTM1YjE0YWZhZGI4YThlYS5zZXRDb250ZW50KGh0bWxfYmJhNzI5MzQ4NzM0NDU1ZjlhMjY4Zjg5ZTYyNDBiODApOwogICAgICAgIAoKICAgICAgICBjaXJjbGVfbWFya2VyXzU2OWM1ZDVmZWE3NDQ4MDc5MWY4MWJlOGIyNWYwZTgzLmJpbmRQb3B1cChwb3B1cF80NTgxMjUyMjQ3OTk0MGI3YTM1YjE0YWZhZGI4YThlYSkKICAgICAgICA7CgogICAgICAgIAogICAgCiAgICAKICAgICAgICAgICAgdmFyIGNpcmNsZV9tYXJrZXJfYmQ5OTNlNjI1ODQ1NDNkOGJjODU3MjAzYTIzNDVmY2UgPSBMLmNpcmNsZU1hcmtlcigKICAgICAgICAgICAgICAgIFs0MC43MTUxNDM5LCAtNzQuMDA5MTgyNl0sCiAgICAgICAgICAgICAgICB7ImJ1YmJsaW5nTW91c2VFdmVudHMiOiB0cnVlLCAiY29sb3IiOiAiYmx1ZSIsICJkYXNoQXJyYXkiOiBudWxsLCAiZGFzaE9mZnNldCI6IG51bGwsICJmaWxsIjogdHJ1ZSwgImZpbGxDb2xvciI6ICJibHVlIiwgImZpbGxPcGFjaXR5IjogMC42LCAiZmlsbFJ1bGUiOiAiZXZlbm9kZCIsICJsaW5lQ2FwIjogInJvdW5kIiwgImxpbmVKb2luIjogInJvdW5kIiwgIm9wYWNpdHkiOiAxLjAsICJyYWRpdXMiOiA1LCAic3Ryb2tlIjogdHJ1ZSwgIndlaWdodCI6IDN9CiAgICAgICAgICAgICkuYWRkVG8obWFwX2U4MTRhYzk2YzM3ZTQ1ZmFiOWIxYjYwMzUwYzZjOTM1KTsKICAgICAgICAKICAgIAogICAgICAgIHZhciBwb3B1cF9kZjkyYmM1YzFmZWE0MDk5YmIzNjM1Y2E0MmI1Mzg2OSA9IEwucG9wdXAoeyJtYXhXaWR0aCI6ICIxMDAlIn0pOwoKICAgICAgICAKICAgICAgICAgICAgdmFyIGh0bWxfZjYxNDhiN2ExNjlhNGFkYmJmZGQzNGYzYjA0NTcyY2MgPSAkKGA8ZGl2IGlkPSJodG1sX2Y2MTQ4YjdhMTY5YTRhZGJiZmRkMzRmM2IwNDU3MmNjIiBzdHlsZT0id2lkdGg6IDEwMC4wJTsgaGVpZ2h0OiAxMDAuMCU7Ij5Ib3RlbDwvZGl2PmApWzBdOwogICAgICAgICAgICBwb3B1cF9kZjkyYmM1YzFmZWE0MDk5YmIzNjM1Y2E0MmI1Mzg2OS5zZXRDb250ZW50KGh0bWxfZjYxNDhiN2ExNjlhNGFkYmJmZGQzNGYzYjA0NTcyY2MpOwogICAgICAgIAoKICAgICAgICBjaXJjbGVfbWFya2VyX2JkOTkzZTYyNTg0NTQzZDhiYzg1NzIwM2EyMzQ1ZmNlLmJpbmRQb3B1cChwb3B1cF9kZjkyYmM1YzFmZWE0MDk5YmIzNjM1Y2E0MmI1Mzg2OSkKICAgICAgICA7CgogICAgICAgIAogICAgCiAgICAKICAgICAgICAgICAgdmFyIGNpcmNsZV9tYXJrZXJfY2VhYjE1MDk2ZTQ1NGQyNzhmYjY0Nzg4MDUxODhiNDkgPSBMLmNpcmNsZU1hcmtlcigKICAgICAgICAgICAgICAgIFs0MC43MTQ5NDM5MjY0MzcwNiwgLTc0LjAwNjQ4NDYxOTUyNzA2XSwKICAgICAgICAgICAgICAgIHsiYnViYmxpbmdNb3VzZUV2ZW50cyI6IHRydWUsICJjb2xvciI6ICJibHVlIiwgImRhc2hBcnJheSI6IG51bGwsICJkYXNoT2Zmc2V0IjogbnVsbCwgImZpbGwiOiB0cnVlLCAiZmlsbENvbG9yIjogImJsdWUiLCAiZmlsbE9wYWNpdHkiOiAwLjYsICJmaWxsUnVsZSI6ICJldmVub2RkIiwgImxpbmVDYXAiOiAicm91bmQiLCAibGluZUpvaW4iOiAicm91bmQiLCAib3BhY2l0eSI6IDEuMCwgInJhZGl1cyI6IDUsICJzdHJva2UiOiB0cnVlLCAid2VpZ2h0IjogM30KICAgICAgICAgICAgKS5hZGRUbyhtYXBfZTgxNGFjOTZjMzdlNDVmYWI5YjFiNjAzNTBjNmM5MzUpOwogICAgICAgIAogICAgCiAgICAgICAgdmFyIHBvcHVwXzFhYmI5MjNkYzIxMzQxMWFhNzkxODRiYTJhODk1MDYzID0gTC5wb3B1cCh7Im1heFdpZHRoIjogIjEwMCUifSk7CgogICAgICAgIAogICAgICAgICAgICB2YXIgaHRtbF8zMzc5NWJmNmViMTI0MDhhYjg3ZjkyZDcxZDkwMjc3YyA9ICQoYDxkaXYgaWQ9Imh0bWxfMzM3OTViZjZlYjEyNDA4YWI4N2Y5MmQ3MWQ5MDI3N2MiIHN0eWxlPSJ3aWR0aDogMTAwLjAlOyBoZWlnaHQ6IDEwMC4wJTsiPkJhcjwvZGl2PmApWzBdOwogICAgICAgICAgICBwb3B1cF8xYWJiOTIzZGMyMTM0MTFhYTc5MTg0YmEyYTg5NTA2My5zZXRDb250ZW50KGh0bWxfMzM3OTViZjZlYjEyNDA4YWI4N2Y5MmQ3MWQ5MDI3N2MpOwogICAgICAgIAoKICAgICAgICBjaXJjbGVfbWFya2VyX2NlYWIxNTA5NmU0NTRkMjc4ZmI2NDc4ODA1MTg4YjQ5LmJpbmRQb3B1cChwb3B1cF8xYWJiOTIzZGMyMTM0MTFhYTc5MTg0YmEyYTg5NTA2MykKICAgICAgICA7CgogICAgICAgIAogICAgCiAgICAKICAgICAgICAgICAgdmFyIGNpcmNsZV9tYXJrZXJfNGEwMDY4NzhiNjQwNGIwOTg0N2I0Yjg1MzE0NTRiMjkgPSBMLmNpcmNsZU1hcmtlcigKICAgICAgICAgICAgICAgIFs0MC43MTY0MDQxOTUyNjM3NiwgLTc0LjAwODU2OTc5NTUwMTIzXSwKICAgICAgICAgICAgICAgIHsiYnViYmxpbmdNb3VzZUV2ZW50cyI6IHRydWUsICJjb2xvciI6ICJibHVlIiwgImRhc2hBcnJheSI6IG51bGwsICJkYXNoT2Zmc2V0IjogbnVsbCwgImZpbGwiOiB0cnVlLCAiZmlsbENvbG9yIjogImJsdWUiLCAiZmlsbE9wYWNpdHkiOiAwLjYsICJmaWxsUnVsZSI6ICJldmVub2RkIiwgImxpbmVDYXAiOiAicm91bmQiLCAibGluZUpvaW4iOiAicm91bmQiLCAib3BhY2l0eSI6IDEuMCwgInJhZGl1cyI6IDUsICJzdHJva2UiOiB0cnVlLCAid2VpZ2h0IjogM30KICAgICAgICAgICAgKS5hZGRUbyhtYXBfZTgxNGFjOTZjMzdlNDVmYWI5YjFiNjAzNTBjNmM5MzUpOwogICAgICAgIAogICAgCiAgICAgICAgdmFyIHBvcHVwX2U4OWEyZDE3Njg5MTQxYjliNzliYmI3YmM2NjRhNWU3ID0gTC5wb3B1cCh7Im1heFdpZHRoIjogIjEwMCUifSk7CgogICAgICAgIAogICAgICAgICAgICB2YXIgaHRtbF8xNjc5MGNmMjcxZTM0M2Q5OTg0ZjU4ZGU0ZjI5ZmFiMyA9ICQoYDxkaXYgaWQ9Imh0bWxfMTY3OTBjZjI3MWUzNDNkOTk4NGY1OGRlNGYyOWZhYjMiIHN0eWxlPSJ3aWR0aDogMTAwLjAlOyBoZWlnaHQ6IDEwMC4wJTsiPlNwYTwvZGl2PmApWzBdOwogICAgICAgICAgICBwb3B1cF9lODlhMmQxNzY4OTE0MWI5Yjc5YmJiN2JjNjY0YTVlNy5zZXRDb250ZW50KGh0bWxfMTY3OTBjZjI3MWUzNDNkOTk4NGY1OGRlNGYyOWZhYjMpOwogICAgICAgIAoKICAgICAgICBjaXJjbGVfbWFya2VyXzRhMDA2ODc4YjY0MDRiMDk4NDdiNGI4NTMxNDU0YjI5LmJpbmRQb3B1cChwb3B1cF9lODlhMmQxNzY4OTE0MWI5Yjc5YmJiN2JjNjY0YTVlNykKICAgICAgICA7CgogICAgICAgIAogICAgCiAgICAKICAgICAgICAgICAgdmFyIGNpcmNsZV9tYXJrZXJfNzBiOGFhNzdmZmI3NDkyMWJlODkwMDUwMDVjZGZlZjEgPSBMLmNpcmNsZU1hcmtlcigKICAgICAgICAgICAgICAgIFs0MC43MTI2MTI0NjUwMTk4MywgLTc0LjAwOTM4MDMyMDg3NjI4XSwKICAgICAgICAgICAgICAgIHsiYnViYmxpbmdNb3VzZUV2ZW50cyI6IHRydWUsICJjb2xvciI6ICJibHVlIiwgImRhc2hBcnJheSI6IG51bGwsICJkYXNoT2Zmc2V0IjogbnVsbCwgImZpbGwiOiB0cnVlLCAiZmlsbENvbG9yIjogImJsdWUiLCAiZmlsbE9wYWNpdHkiOiAwLjYsICJmaWxsUnVsZSI6ICJldmVub2RkIiwgImxpbmVDYXAiOiAicm91bmQiLCAibGluZUpvaW4iOiAicm91bmQiLCAib3BhY2l0eSI6IDEuMCwgInJhZGl1cyI6IDUsICJzdHJva2UiOiB0cnVlLCAid2VpZ2h0IjogM30KICAgICAgICAgICAgKS5hZGRUbyhtYXBfZTgxNGFjOTZjMzdlNDVmYWI5YjFiNjAzNTBjNmM5MzUpOwogICAgICAgIAogICAgCiAgICAgICAgdmFyIHBvcHVwXzJjNGIyNzcwYTVhOTQ4ZmM5NmIxNDQzZjkyYjFiMTZkID0gTC5wb3B1cCh7Im1heFdpZHRoIjogIjEwMCUifSk7CgogICAgICAgIAogICAgICAgICAgICB2YXIgaHRtbF9hZGQ1OGZiZmMyMzA0NzA3YWFiMDlhZWY2YWJlNjQ5ZiA9ICQoYDxkaXYgaWQ9Imh0bWxfYWRkNThmYmZjMjMwNDcwN2FhYjA5YWVmNmFiZTY0OWYiIHN0eWxlPSJ3aWR0aDogMTAwLjAlOyBoZWlnaHQ6IDEwMC4wJTsiPkhvdGVsPC9kaXY+YClbMF07CiAgICAgICAgICAgIHBvcHVwXzJjNGIyNzcwYTVhOTQ4ZmM5NmIxNDQzZjkyYjFiMTZkLnNldENvbnRlbnQoaHRtbF9hZGQ1OGZiZmMyMzA0NzA3YWFiMDlhZWY2YWJlNjQ5Zik7CiAgICAgICAgCgogICAgICAgIGNpcmNsZV9tYXJrZXJfNzBiOGFhNzdmZmI3NDkyMWJlODkwMDUwMDVjZGZlZjEuYmluZFBvcHVwKHBvcHVwXzJjNGIyNzcwYTVhOTQ4ZmM5NmIxNDQzZjkyYjFiMTZkKQogICAgICAgIDsKCiAgICAgICAgCiAgICAKICAgIAogICAgICAgICAgICB2YXIgY2lyY2xlX21hcmtlcl9lZWQyNDFmOWIzNzg0ZDcwYjVmZjEzNjZjYWNlZDE2ZSA9IEwuY2lyY2xlTWFya2VyKAogICAgICAgICAgICAgICAgWzQwLjcxNDUzNzQzMTE3MDQ4NCwgLTc0LjAwNTk5ODUyNjExNTkyXSwKICAgICAgICAgICAgICAgIHsiYnViYmxpbmdNb3VzZUV2ZW50cyI6IHRydWUsICJjb2xvciI6ICJibHVlIiwgImRhc2hBcnJheSI6IG51bGwsICJkYXNoT2Zmc2V0IjogbnVsbCwgImZpbGwiOiB0cnVlLCAiZmlsbENvbG9yIjogImJsdWUiLCAiZmlsbE9wYWNpdHkiOiAwLjYsICJmaWxsUnVsZSI6ICJldmVub2RkIiwgImxpbmVDYXAiOiAicm91bmQiLCAibGluZUpvaW4iOiAicm91bmQiLCAib3BhY2l0eSI6IDEuMCwgInJhZGl1cyI6IDUsICJzdHJva2UiOiB0cnVlLCAid2VpZ2h0IjogM30KICAgICAgICAgICAgKS5hZGRUbyhtYXBfZTgxNGFjOTZjMzdlNDVmYWI5YjFiNjAzNTBjNmM5MzUpOwogICAgICAgIAogICAgCiAgICAgICAgdmFyIHBvcHVwXzE5ZTBhODg0ZGFkMjQxZjViMTQ0MmRhMDMzN2IwMWUyID0gTC5wb3B1cCh7Im1heFdpZHRoIjogIjEwMCUifSk7CgogICAgICAgIAogICAgICAgICAgICB2YXIgaHRtbF8xNWJmNzFmZDlkMDk0NzY3ODJhZTc5NzM5NTQ4ZDFhYyA9ICQoYDxkaXYgaWQ9Imh0bWxfMTViZjcxZmQ5ZDA5NDc2NzgyYWU3OTczOTU0OGQxYWMiIHN0eWxlPSJ3aWR0aDogMTAwLjAlOyBoZWlnaHQ6IDEwMC4wJTsiPkd5bTwvZGl2PmApWzBdOwogICAgICAgICAgICBwb3B1cF8xOWUwYTg4NGRhZDI0MWY1YjE0NDJkYTAzMzdiMDFlMi5zZXRDb250ZW50KGh0bWxfMTViZjcxZmQ5ZDA5NDc2NzgyYWU3OTczOTU0OGQxYWMpOwogICAgICAgIAoKICAgICAgICBjaXJjbGVfbWFya2VyX2VlZDI0MWY5YjM3ODRkNzBiNWZmMTM2NmNhY2VkMTZlLmJpbmRQb3B1cChwb3B1cF8xOWUwYTg4NGRhZDI0MWY1YjE0NDJkYTAzMzdiMDFlMikKICAgICAgICA7CgogICAgICAgIAogICAgCiAgICAKICAgICAgICAgICAgdmFyIGNpcmNsZV9tYXJrZXJfN2Y1YmU4OTk5ODdhNDkxY2IyYjczOTliNmI3NThhNjAgPSBMLmNpcmNsZU1hcmtlcigKICAgICAgICAgICAgICAgIFs0MC43MTU2MDUzMzMxNDcxNDUsIC03NC4wMTE3ODYzMzIwODc3MV0sCiAgICAgICAgICAgICAgICB7ImJ1YmJsaW5nTW91c2VFdmVudHMiOiB0cnVlLCAiY29sb3IiOiAiYmx1ZSIsICJkYXNoQXJyYXkiOiBudWxsLCAiZGFzaE9mZnNldCI6IG51bGwsICJmaWxsIjogdHJ1ZSwgImZpbGxDb2xvciI6ICJibHVlIiwgImZpbGxPcGFjaXR5IjogMC42LCAiZmlsbFJ1bGUiOiAiZXZlbm9kZCIsICJsaW5lQ2FwIjogInJvdW5kIiwgImxpbmVKb2luIjogInJvdW5kIiwgIm9wYWNpdHkiOiAxLjAsICJyYWRpdXMiOiA1LCAic3Ryb2tlIjogdHJ1ZSwgIndlaWdodCI6IDN9CiAgICAgICAgICAgICkuYWRkVG8obWFwX2U4MTRhYzk2YzM3ZTQ1ZmFiOWIxYjYwMzUwYzZjOTM1KTsKICAgICAgICAKICAgIAogICAgICAgIHZhciBwb3B1cF9iM2Q2NzYwOWExYTY0ODNhOGFkMTk4ZWEzMmNjNWNmNCA9IEwucG9wdXAoeyJtYXhXaWR0aCI6ICIxMDAlIn0pOwoKICAgICAgICAKICAgICAgICAgICAgdmFyIGh0bWxfZmEyNjE3OTQyYTExNGNlMGI2NTZiZWI1MzNjOGM0ZWUgPSAkKGA8ZGl2IGlkPSJodG1sX2ZhMjYxNzk0MmExMTRjZTBiNjU2YmViNTMzYzhjNGVlIiBzdHlsZT0id2lkdGg6IDEwMC4wJTsgaGVpZ2h0OiAxMDAuMCU7Ij5Cb29rc3RvcmU8L2Rpdj5gKVswXTsKICAgICAgICAgICAgcG9wdXBfYjNkNjc2MDlhMWE2NDgzYThhZDE5OGVhMzJjYzVjZjQuc2V0Q29udGVudChodG1sX2ZhMjYxNzk0MmExMTRjZTBiNjU2YmViNTMzYzhjNGVlKTsKICAgICAgICAKCiAgICAgICAgY2lyY2xlX21hcmtlcl83ZjViZTg5OTk4N2E0OTFjYjJiNzM5OWI2Yjc1OGE2MC5iaW5kUG9wdXAocG9wdXBfYjNkNjc2MDlhMWE2NDgzYThhZDE5OGVhMzJjYzVjZjQpCiAgICAgICAgOwoKICAgICAgICAKICAgIAogICAgCiAgICAgICAgICAgIHZhciBjaXJjbGVfbWFya2VyX2Q3OTNkYWE2MWQzODRiNzM5NGFjMTM5NzUxZDMzNjYyID0gTC5jaXJjbGVNYXJrZXIoCiAgICAgICAgICAgICAgICBbNDAuNzE2NzUxNzYxMzA3MjQsIC03NC4wMDU3MTE1MDg1NTQ1N10sCiAgICAgICAgICAgICAgICB7ImJ1YmJsaW5nTW91c2VFdmVudHMiOiB0cnVlLCAiY29sb3IiOiAiYmx1ZSIsICJkYXNoQXJyYXkiOiBudWxsLCAiZGFzaE9mZnNldCI6IG51bGwsICJmaWxsIjogdHJ1ZSwgImZpbGxDb2xvciI6ICJibHVlIiwgImZpbGxPcGFjaXR5IjogMC42LCAiZmlsbFJ1bGUiOiAiZXZlbm9kZCIsICJsaW5lQ2FwIjogInJvdW5kIiwgImxpbmVKb2luIjogInJvdW5kIiwgIm9wYWNpdHkiOiAxLjAsICJyYWRpdXMiOiA1LCAic3Ryb2tlIjogdHJ1ZSwgIndlaWdodCI6IDN9CiAgICAgICAgICAgICkuYWRkVG8obWFwX2U4MTRhYzk2YzM3ZTQ1ZmFiOWIxYjYwMzUwYzZjOTM1KTsKICAgICAgICAKICAgIAogICAgICAgIHZhciBwb3B1cF9jNjkzYTNjZTQxMGM0Y2M2ODgwMGJhMDQxMTlmZWVmNiA9IEwucG9wdXAoeyJtYXhXaWR0aCI6ICIxMDAlIn0pOwoKICAgICAgICAKICAgICAgICAgICAgdmFyIGh0bWxfOGM3ZDk5MTdiZTFmNGRmOGJmNDA4ZWY2ZjI0MTk2NzYgPSAkKGA8ZGl2IGlkPSJodG1sXzhjN2Q5OTE3YmUxZjRkZjhiZjQwOGVmNmYyNDE5Njc2IiBzdHlsZT0id2lkdGg6IDEwMC4wJTsgaGVpZ2h0OiAxMDAuMCU7Ij5Nb2xlY3VsYXIgR2FzdHJvbm9teSBSZXN0YXVyYW50PC9kaXY+YClbMF07CiAgICAgICAgICAgIHBvcHVwX2M2OTNhM2NlNDEwYzRjYzY4ODAwYmEwNDExOWZlZWY2LnNldENvbnRlbnQoaHRtbF84YzdkOTkxN2JlMWY0ZGY4YmY0MDhlZjZmMjQxOTY3Nik7CiAgICAgICAgCgogICAgICAgIGNpcmNsZV9tYXJrZXJfZDc5M2RhYTYxZDM4NGI3Mzk0YWMxMzk3NTFkMzM2NjIuYmluZFBvcHVwKHBvcHVwX2M2OTNhM2NlNDEwYzRjYzY4ODAwYmEwNDExOWZlZWY2KQogICAgICAgIDsKCiAgICAgICAgCiAgICAKICAgIAogICAgICAgICAgICB2YXIgY2lyY2xlX21hcmtlcl81ZjAwNjQ4NDc2N2E0MDdlOGQ2MTJiYzllMTA3MmQyNyA9IEwuY2lyY2xlTWFya2VyKAogICAgICAgICAgICAgICAgWzQwLjcxNDk4OTc1MzA2NjUyLCAtNzQuMDA1NTI5NzU4MjYyNzhdLAogICAgICAgICAgICAgICAgeyJidWJibGluZ01vdXNlRXZlbnRzIjogdHJ1ZSwgImNvbG9yIjogImJsdWUiLCAiZGFzaEFycmF5IjogbnVsbCwgImRhc2hPZmZzZXQiOiBudWxsLCAiZmlsbCI6IHRydWUsICJmaWxsQ29sb3IiOiAiYmx1ZSIsICJmaWxsT3BhY2l0eSI6IDAuNiwgImZpbGxSdWxlIjogImV2ZW5vZGQiLCAibGluZUNhcCI6ICJyb3VuZCIsICJsaW5lSm9pbiI6ICJyb3VuZCIsICJvcGFjaXR5IjogMS4wLCAicmFkaXVzIjogNSwgInN0cm9rZSI6IHRydWUsICJ3ZWlnaHQiOiAzfQogICAgICAgICAgICApLmFkZFRvKG1hcF9lODE0YWM5NmMzN2U0NWZhYjliMWI2MDM1MGM2YzkzNSk7CiAgICAgICAgCiAgICAKICAgICAgICB2YXIgcG9wdXBfMTExYjZhNGI3ZmZhNGNmNmFjYWQ4OGYwOTAxY2ZhZTQgPSBMLnBvcHVwKHsibWF4V2lkdGgiOiAiMTAwJSJ9KTsKCiAgICAgICAgCiAgICAgICAgICAgIHZhciBodG1sX2FjZDZkZTc4ZDI5NTRjZWVhMTk4NDUyNmNjZGY0ZjdlID0gJChgPGRpdiBpZD0iaHRtbF9hY2Q2ZGU3OGQyOTU0Y2VlYTE5ODQ1MjZjY2RmNGY3ZSIgc3R5bGU9IndpZHRoOiAxMDAuMCU7IGhlaWdodDogMTAwLjAlOyI+TW9udW1lbnQgLyBMYW5kbWFyazwvZGl2PmApWzBdOwogICAgICAgICAgICBwb3B1cF8xMTFiNmE0YjdmZmE0Y2Y2YWNhZDg4ZjA5MDFjZmFlNC5zZXRDb250ZW50KGh0bWxfYWNkNmRlNzhkMjk1NGNlZWExOTg0NTI2Y2NkZjRmN2UpOwogICAgICAgIAoKICAgICAgICBjaXJjbGVfbWFya2VyXzVmMDA2NDg0NzY3YTQwN2U4ZDYxMmJjOWUxMDcyZDI3LmJpbmRQb3B1cChwb3B1cF8xMTFiNmE0YjdmZmE0Y2Y2YWNhZDg4ZjA5MDFjZmFlNCkKICAgICAgICA7CgogICAgICAgIAogICAgCiAgICAKICAgICAgICAgICAgdmFyIGNpcmNsZV9tYXJrZXJfY2NlZTc4MDQzNDU0NGZjZGE4ZWMwYjI4ZDY5NjFhYzggPSBMLmNpcmNsZU1hcmtlcigKICAgICAgICAgICAgICAgIFs0MC43MTQ2MDY2MDY0OTkzMTYsIC03NC4wMDYzMzQ3MzI4MjA3M10sCiAgICAgICAgICAgICAgICB7ImJ1YmJsaW5nTW91c2VFdmVudHMiOiB0cnVlLCAiY29sb3IiOiAiYmx1ZSIsICJkYXNoQXJyYXkiOiBudWxsLCAiZGFzaE9mZnNldCI6IG51bGwsICJmaWxsIjogdHJ1ZSwgImZpbGxDb2xvciI6ICJibHVlIiwgImZpbGxPcGFjaXR5IjogMC42LCAiZmlsbFJ1bGUiOiAiZXZlbm9kZCIsICJsaW5lQ2FwIjogInJvdW5kIiwgImxpbmVKb2luIjogInJvdW5kIiwgIm9wYWNpdHkiOiAxLjAsICJyYWRpdXMiOiA1LCAic3Ryb2tlIjogdHJ1ZSwgIndlaWdodCI6IDN9CiAgICAgICAgICAgICkuYWRkVG8obWFwX2U4MTRhYzk2YzM3ZTQ1ZmFiOWIxYjYwMzUwYzZjOTM1KTsKICAgICAgICAKICAgIAogICAgICAgIHZhciBwb3B1cF85YjlhMTI3NzAxNDY0YjY1YmIyNzBiYTVjNGNmOTM5ZCA9IEwucG9wdXAoeyJtYXhXaWR0aCI6ICIxMDAlIn0pOwoKICAgICAgICAKICAgICAgICAgICAgdmFyIGh0bWxfYjFjMDk5NGVjNDk3NGE0NTg5ZWRiNGNhOTZlOWM5NWYgPSAkKGA8ZGl2IGlkPSJodG1sX2IxYzA5OTRlYzQ5NzRhNDU4OWVkYjRjYTk2ZTljOTVmIiBzdHlsZT0id2lkdGg6IDEwMC4wJTsgaGVpZ2h0OiAxMDAuMCU7Ij5CdXJyaXRvIFBsYWNlPC9kaXY+YClbMF07CiAgICAgICAgICAgIHBvcHVwXzliOWExMjc3MDE0NjRiNjViYjI3MGJhNWM0Y2Y5MzlkLnNldENvbnRlbnQoaHRtbF9iMWMwOTk0ZWM0OTc0YTQ1ODllZGI0Y2E5NmU5Yzk1Zik7CiAgICAgICAgCgogICAgICAgIGNpcmNsZV9tYXJrZXJfY2NlZTc4MDQzNDU0NGZjZGE4ZWMwYjI4ZDY5NjFhYzguYmluZFBvcHVwKHBvcHVwXzliOWExMjc3MDE0NjRiNjViYjI3MGJhNWM0Y2Y5MzlkKQogICAgICAgIDsKCiAgICAgICAgCiAgICAKPC9zY3JpcHQ+ onload=\"this.contentDocument.open();this.contentDocument.write(atob(this.getAttribute('data-html')));this.contentDocument.close();\" allowfullscreen webkitallowfullscreen mozallowfullscreen></iframe></div></div>"
      ],
      "text/plain": [
       "<folium.folium.Map at 0x11c017b90>"
      ]
     },
     "execution_count": 72,
     "metadata": {},
     "output_type": "execute_result"
    }
   ],
   "source": [
    "venues_map = folium.Map(location=[latitude, longitude], zoom_start=15) # generate map centred around Ecco\n",
    "\n",
    "\n",
    "# add Ecco as a red circle mark\n",
    "folium.CircleMarker(\n",
    "    [latitude, longitude],\n",
    "    radius=10,\n",
    "    popup='Ecco',\n",
    "    fill=True,\n",
    "    color='red',\n",
    "    fill_color='red',\n",
    "    fill_opacity=0.6\n",
    "    ).add_to(venues_map)\n",
    "\n",
    "\n",
    "# add popular spots to the map as blue circle markers\n",
    "for lat, lng, label in zip(dataframe_filtered.lat, dataframe_filtered.lng, dataframe_filtered.categories):\n",
    "    folium.CircleMarker(\n",
    "        [lat, lng],\n",
    "        radius=5,\n",
    "        popup=label,\n",
    "        fill=True,\n",
    "        color='blue',\n",
    "        fill_color='blue',\n",
    "        fill_opacity=0.6\n",
    "        ).add_to(venues_map)\n",
    "\n",
    "# display map\n",
    "venues_map"
   ]
  },
  {
   "cell_type": "markdown",
   "metadata": {
    "button": false,
    "new_sheet": false,
    "run_control": {
     "read_only": false
    }
   },
   "source": [
    "   "
   ]
  },
  {
   "cell_type": "markdown",
   "metadata": {
    "button": false,
    "new_sheet": false,
    "run_control": {
     "read_only": false
    }
   },
   "source": [
    "<a id=\"item5\"></a>"
   ]
  },
  {
   "cell_type": "markdown",
   "metadata": {
    "button": false,
    "new_sheet": false,
    "run_control": {
     "read_only": false
    }
   },
   "source": [
    "## 5. Explore Trending Venues\n",
    "> `https://api.foursquare.com/v2/venues/`**trending**`?client_id=`**CLIENT_ID**`&client_secret=`**CLIENT_SECRET**`&ll=`**LATITUDE**`,`**LONGITUDE**`&v=`**VERSION**"
   ]
  },
  {
   "cell_type": "markdown",
   "metadata": {
    "button": false,
    "new_sheet": false,
    "run_control": {
     "read_only": false
    }
   },
   "source": [
    "#### Now, instead of simply exploring the area around Ecco, you are interested in knowing the venues that are trending at the time you are done with your lunch, meaning the places with the highest foot traffic. So let's do that and get the trending venues around Ecco."
   ]
  },
  {
   "cell_type": "code",
   "execution_count": 73,
   "metadata": {
    "button": false,
    "new_sheet": false,
    "run_control": {
     "read_only": false
    }
   },
   "outputs": [
    {
     "data": {
      "text/plain": [
       "{'meta': {'code': 200, 'requestId': '5ec8feff40a7ea001be817e7'},\n",
       " 'response': {'venues': []}}"
      ]
     },
     "execution_count": 73,
     "metadata": {},
     "output_type": "execute_result"
    }
   ],
   "source": [
    "# define URL\n",
    "url = 'https://api.foursquare.com/v2/venues/trending?client_id={}&client_secret={}&ll={},{}&v={}'.format(CLIENT_ID, CLIENT_SECRET, latitude, longitude, VERSION)\n",
    "\n",
    "# send GET request and get trending venues\n",
    "results = requests.get(url).json()\n",
    "results"
   ]
  },
  {
   "cell_type": "markdown",
   "metadata": {
    "button": false,
    "new_sheet": false,
    "run_control": {
     "read_only": false
    }
   },
   "source": [
    "### Check if any venues are trending at this time"
   ]
  },
  {
   "cell_type": "code",
   "execution_count": 74,
   "metadata": {
    "button": false,
    "new_sheet": false,
    "run_control": {
     "read_only": false
    }
   },
   "outputs": [],
   "source": [
    "if len(results['response']['venues']) == 0:\n",
    "    trending_venues_df = 'No trending venues are available at the moment!'\n",
    "    \n",
    "else:\n",
    "    trending_venues = results['response']['venues']\n",
    "    trending_venues_df = json_normalize(trending_venues)\n",
    "\n",
    "    # filter columns\n",
    "    columns_filtered = ['name', 'categories'] + ['location.distance', 'location.city', 'location.postalCode', 'location.state', 'location.country', 'location.lat', 'location.lng']\n",
    "    trending_venues_df = trending_venues_df.loc[:, columns_filtered]\n",
    "\n",
    "    # filter the category for each row\n",
    "    trending_venues_df['categories'] = trending_venues_df.apply(get_category_type, axis=1)"
   ]
  },
  {
   "cell_type": "code",
   "execution_count": 75,
   "metadata": {
    "button": false,
    "new_sheet": false,
    "run_control": {
     "read_only": false
    }
   },
   "outputs": [
    {
     "data": {
      "text/plain": [
       "'No trending venues are available at the moment!'"
      ]
     },
     "execution_count": 75,
     "metadata": {},
     "output_type": "execute_result"
    }
   ],
   "source": [
    "# display trending venues\n",
    "trending_venues_df"
   ]
  },
  {
   "cell_type": "markdown",
   "metadata": {
    "button": false,
    "new_sheet": false,
    "run_control": {
     "read_only": false
    }
   },
   "source": [
    "Now, depending on when you run the above code, you might get different venues since the venues with the highest foot traffic are fetched live. "
   ]
  },
  {
   "cell_type": "markdown",
   "metadata": {
    "button": false,
    "new_sheet": false,
    "run_control": {
     "read_only": false
    }
   },
   "source": [
    "### Visualize trending venues"
   ]
  },
  {
   "cell_type": "code",
   "execution_count": 76,
   "metadata": {
    "button": false,
    "new_sheet": false,
    "run_control": {
     "read_only": false
    }
   },
   "outputs": [],
   "source": [
    "if len(results['response']['venues']) == 0:\n",
    "    venues_map = 'Cannot generate visual as no trending venues are available at the moment!'\n",
    "\n",
    "else:\n",
    "    venues_map = folium.Map(location=[latitude, longitude], zoom_start=15) # generate map centred around Ecco\n",
    "\n",
    "\n",
    "    # add Ecco as a red circle mark\n",
    "    folium.features.CircleMarker(\n",
    "        [latitude, longitude],\n",
    "        radius=10,\n",
    "        popup='Ecco',\n",
    "        fill=True,\n",
    "        color='red',\n",
    "        fill_color='red',\n",
    "        fill_opacity=0.6\n",
    "    ).add_to(venues_map)\n",
    "\n",
    "\n",
    "    # add the trending venues as blue circle markers\n",
    "    for lat, lng, label in zip(trending_venues_df['location.lat'], trending_venues_df['location.lng'], trending_venues_df['name']):\n",
    "        folium.features.CircleMarker(\n",
    "            [lat, lng],\n",
    "            radius=5,\n",
    "            poup=label,\n",
    "            fill=True,\n",
    "            color='blue',\n",
    "            fill_color='blue',\n",
    "            fill_opacity=0.6\n",
    "        ).add_to(venues_map)"
   ]
  },
  {
   "cell_type": "code",
   "execution_count": 77,
   "metadata": {
    "button": false,
    "new_sheet": false,
    "run_control": {
     "read_only": false
    },
    "scrolled": false
   },
   "outputs": [
    {
     "data": {
      "text/plain": [
       "'Cannot generate visual as no trending venues are available at the moment!'"
      ]
     },
     "execution_count": 77,
     "metadata": {},
     "output_type": "execute_result"
    }
   ],
   "source": [
    "# display map\n",
    "venues_map"
   ]
  },
  {
   "cell_type": "markdown",
   "metadata": {
    "button": false,
    "new_sheet": false,
    "run_control": {
     "read_only": false
    }
   },
   "source": [
    "<a id=\"item6\"></a>"
   ]
  },
  {
   "cell_type": "markdown",
   "metadata": {
    "button": false,
    "new_sheet": false,
    "run_control": {
     "read_only": false
    }
   },
   "source": [
    "   "
   ]
  },
  {
   "cell_type": "markdown",
   "metadata": {
    "button": false,
    "new_sheet": false,
    "run_control": {
     "read_only": false
    }
   },
   "source": [
    "### Thank you for completing this lab!\n",
    "\n",
    "This notebook was created by [Alex Aklson](https://www.linkedin.com/in/aklson/). I hope you found this lab interesting and educational. Feel free to contact me if you have any questions!"
   ]
  },
  {
   "cell_type": "markdown",
   "metadata": {
    "button": false,
    "new_sheet": false,
    "run_control": {
     "read_only": false
    }
   },
   "source": [
    "This notebook is part of a course on **Coursera** called *Applied Data Science Capstone*. If you accessed this notebook outside the course, you can take this course online by clicking [here](http://cocl.us/DP0701EN_Coursera_Week2_LAB1)."
   ]
  },
  {
   "cell_type": "markdown",
   "metadata": {
    "button": false,
    "new_sheet": false,
    "run_control": {
     "read_only": false
    }
   },
   "source": [
    "<hr>\n",
    "Copyright &copy; 2018 [Cognitive Class](https://cognitiveclass.ai/?utm_source=bducopyrightlink&utm_medium=dswb&utm_campaign=bdu). This notebook and its source code are released under the terms of the [MIT License](https://bigdatauniversity.com/mit-license/)."
   ]
  }
 ],
 "metadata": {
  "kernelspec": {
   "display_name": "Python 3",
   "language": "python",
   "name": "python3"
  },
  "language_info": {
   "codemirror_mode": {
    "name": "ipython",
    "version": 3
   },
   "file_extension": ".py",
   "mimetype": "text/x-python",
   "name": "python",
   "nbconvert_exporter": "python",
   "pygments_lexer": "ipython3",
   "version": "3.7.6"
  },
  "widgets": {
   "state": {},
   "version": "1.1.2"
  }
 },
 "nbformat": 4,
 "nbformat_minor": 2
}
